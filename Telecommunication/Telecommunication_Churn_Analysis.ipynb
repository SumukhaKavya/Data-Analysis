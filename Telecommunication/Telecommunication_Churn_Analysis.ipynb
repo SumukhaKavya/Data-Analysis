{
 "cells": [
  {
   "cell_type": "code",
   "execution_count": 1,
   "metadata": {
    "id": "6YEzEipKjJaU"
   },
   "outputs": [],
   "source": [
    "# import necessary libraries\n",
    "import pandas as pd"
   ]
  },
  {
   "cell_type": "code",
   "execution_count": 2,
   "metadata": {
    "id": "xWMxNGK1tXui"
   },
   "outputs": [],
   "source": [
    "# specify the path for the dataset\n",
    "Path=r'G:\\Data Analysis Projects\\Telecommunication\\churn_dataset.csv'"
   ]
  },
  {
   "cell_type": "code",
   "execution_count": 3,
   "metadata": {
    "id": "NhmMtuWPtrm2"
   },
   "outputs": [],
   "source": [
    "# read the data\n",
    "df=pd.read_csv(Path)"
   ]
  },
  {
   "cell_type": "code",
   "execution_count": 4,
   "metadata": {
    "colab": {
     "base_uri": "https://localhost:8080/"
    },
    "id": "UjAcIFCOt0Fa",
    "outputId": "16023577-8cb4-48ac-b3b4-ecf46ae465be"
   },
   "outputs": [
    {
     "data": {
      "text/plain": [
       "(7043, 21)"
      ]
     },
     "execution_count": 4,
     "metadata": {},
     "output_type": "execute_result"
    }
   ],
   "source": [
    "# get the shape of the data frame\n",
    "df.shape"
   ]
  },
  {
   "cell_type": "code",
   "execution_count": 5,
   "metadata": {
    "colab": {
     "base_uri": "https://localhost:8080/"
    },
    "id": "1r-1QLUSt9bL",
    "outputId": "fabb387a-d9bd-42f3-cf94-85b6609631c6"
   },
   "outputs": [
    {
     "data": {
      "text/plain": [
       "Index(['customerID', 'gender', 'SeniorCitizen', 'Partner', 'Dependents',\n",
       "       'tenure', 'PhoneService', 'MultipleLines', 'InternetService',\n",
       "       'OnlineSecurity', 'OnlineBackup', 'DeviceProtection', 'TechSupport',\n",
       "       'StreamingTV', 'StreamingMovies', 'Contract', 'PaperlessBilling',\n",
       "       'PaymentMethod', 'MonthlyCharges', 'TotalCharges', 'Churn'],\n",
       "      dtype='object')"
      ]
     },
     "execution_count": 5,
     "metadata": {},
     "output_type": "execute_result"
    }
   ],
   "source": [
    "# get the column names\n",
    "df.columns"
   ]
  },
  {
   "cell_type": "code",
   "execution_count": 6,
   "metadata": {
    "colab": {
     "base_uri": "https://localhost:8080/",
     "height": 386
    },
    "id": "_CFGrswtvBCy",
    "outputId": "a7f1d822-f2b9-46f9-92f1-27a8a89e2364"
   },
   "outputs": [
    {
     "data": {
      "text/html": [
       "<div>\n",
       "<style scoped>\n",
       "    .dataframe tbody tr th:only-of-type {\n",
       "        vertical-align: middle;\n",
       "    }\n",
       "\n",
       "    .dataframe tbody tr th {\n",
       "        vertical-align: top;\n",
       "    }\n",
       "\n",
       "    .dataframe thead th {\n",
       "        text-align: right;\n",
       "    }\n",
       "</style>\n",
       "<table border=\"1\" class=\"dataframe\">\n",
       "  <thead>\n",
       "    <tr style=\"text-align: right;\">\n",
       "      <th></th>\n",
       "      <th>customerID</th>\n",
       "      <th>gender</th>\n",
       "      <th>SeniorCitizen</th>\n",
       "      <th>Partner</th>\n",
       "      <th>Dependents</th>\n",
       "      <th>tenure</th>\n",
       "      <th>PhoneService</th>\n",
       "      <th>MultipleLines</th>\n",
       "      <th>InternetService</th>\n",
       "      <th>OnlineSecurity</th>\n",
       "      <th>...</th>\n",
       "      <th>DeviceProtection</th>\n",
       "      <th>TechSupport</th>\n",
       "      <th>StreamingTV</th>\n",
       "      <th>StreamingMovies</th>\n",
       "      <th>Contract</th>\n",
       "      <th>PaperlessBilling</th>\n",
       "      <th>PaymentMethod</th>\n",
       "      <th>MonthlyCharges</th>\n",
       "      <th>TotalCharges</th>\n",
       "      <th>Churn</th>\n",
       "    </tr>\n",
       "  </thead>\n",
       "  <tbody>\n",
       "    <tr>\n",
       "      <th>0</th>\n",
       "      <td>7590-VHVEG</td>\n",
       "      <td>Female</td>\n",
       "      <td>0</td>\n",
       "      <td>Yes</td>\n",
       "      <td>No</td>\n",
       "      <td>1</td>\n",
       "      <td>No</td>\n",
       "      <td>No phone service</td>\n",
       "      <td>DSL</td>\n",
       "      <td>No</td>\n",
       "      <td>...</td>\n",
       "      <td>No</td>\n",
       "      <td>No</td>\n",
       "      <td>No</td>\n",
       "      <td>No</td>\n",
       "      <td>Month-to-month</td>\n",
       "      <td>Yes</td>\n",
       "      <td>Electronic check</td>\n",
       "      <td>29.85</td>\n",
       "      <td>29.85</td>\n",
       "      <td>No</td>\n",
       "    </tr>\n",
       "    <tr>\n",
       "      <th>1</th>\n",
       "      <td>5575-GNVDE</td>\n",
       "      <td>Male</td>\n",
       "      <td>0</td>\n",
       "      <td>No</td>\n",
       "      <td>No</td>\n",
       "      <td>34</td>\n",
       "      <td>Yes</td>\n",
       "      <td>No</td>\n",
       "      <td>DSL</td>\n",
       "      <td>Yes</td>\n",
       "      <td>...</td>\n",
       "      <td>Yes</td>\n",
       "      <td>No</td>\n",
       "      <td>No</td>\n",
       "      <td>No</td>\n",
       "      <td>One year</td>\n",
       "      <td>No</td>\n",
       "      <td>Mailed check</td>\n",
       "      <td>56.95</td>\n",
       "      <td>1889.5</td>\n",
       "      <td>No</td>\n",
       "    </tr>\n",
       "    <tr>\n",
       "      <th>2</th>\n",
       "      <td>3668-QPYBK</td>\n",
       "      <td>Male</td>\n",
       "      <td>0</td>\n",
       "      <td>No</td>\n",
       "      <td>No</td>\n",
       "      <td>2</td>\n",
       "      <td>Yes</td>\n",
       "      <td>No</td>\n",
       "      <td>DSL</td>\n",
       "      <td>Yes</td>\n",
       "      <td>...</td>\n",
       "      <td>No</td>\n",
       "      <td>No</td>\n",
       "      <td>No</td>\n",
       "      <td>No</td>\n",
       "      <td>Month-to-month</td>\n",
       "      <td>Yes</td>\n",
       "      <td>Mailed check</td>\n",
       "      <td>53.85</td>\n",
       "      <td>108.15</td>\n",
       "      <td>Yes</td>\n",
       "    </tr>\n",
       "    <tr>\n",
       "      <th>3</th>\n",
       "      <td>7795-CFOCW</td>\n",
       "      <td>Male</td>\n",
       "      <td>0</td>\n",
       "      <td>No</td>\n",
       "      <td>No</td>\n",
       "      <td>45</td>\n",
       "      <td>No</td>\n",
       "      <td>No phone service</td>\n",
       "      <td>DSL</td>\n",
       "      <td>Yes</td>\n",
       "      <td>...</td>\n",
       "      <td>Yes</td>\n",
       "      <td>Yes</td>\n",
       "      <td>No</td>\n",
       "      <td>No</td>\n",
       "      <td>One year</td>\n",
       "      <td>No</td>\n",
       "      <td>Bank transfer (automatic)</td>\n",
       "      <td>42.30</td>\n",
       "      <td>1840.75</td>\n",
       "      <td>No</td>\n",
       "    </tr>\n",
       "    <tr>\n",
       "      <th>4</th>\n",
       "      <td>9237-HQITU</td>\n",
       "      <td>Female</td>\n",
       "      <td>0</td>\n",
       "      <td>No</td>\n",
       "      <td>No</td>\n",
       "      <td>2</td>\n",
       "      <td>Yes</td>\n",
       "      <td>No</td>\n",
       "      <td>Fiber optic</td>\n",
       "      <td>No</td>\n",
       "      <td>...</td>\n",
       "      <td>No</td>\n",
       "      <td>No</td>\n",
       "      <td>No</td>\n",
       "      <td>No</td>\n",
       "      <td>Month-to-month</td>\n",
       "      <td>Yes</td>\n",
       "      <td>Electronic check</td>\n",
       "      <td>70.70</td>\n",
       "      <td>151.65</td>\n",
       "      <td>Yes</td>\n",
       "    </tr>\n",
       "  </tbody>\n",
       "</table>\n",
       "<p>5 rows × 21 columns</p>\n",
       "</div>"
      ],
      "text/plain": [
       "   customerID  gender  SeniorCitizen Partner Dependents  tenure PhoneService  \\\n",
       "0  7590-VHVEG  Female              0     Yes         No       1           No   \n",
       "1  5575-GNVDE    Male              0      No         No      34          Yes   \n",
       "2  3668-QPYBK    Male              0      No         No       2          Yes   \n",
       "3  7795-CFOCW    Male              0      No         No      45           No   \n",
       "4  9237-HQITU  Female              0      No         No       2          Yes   \n",
       "\n",
       "      MultipleLines InternetService OnlineSecurity  ... DeviceProtection  \\\n",
       "0  No phone service             DSL             No  ...               No   \n",
       "1                No             DSL            Yes  ...              Yes   \n",
       "2                No             DSL            Yes  ...               No   \n",
       "3  No phone service             DSL            Yes  ...              Yes   \n",
       "4                No     Fiber optic             No  ...               No   \n",
       "\n",
       "  TechSupport StreamingTV StreamingMovies        Contract PaperlessBilling  \\\n",
       "0          No          No              No  Month-to-month              Yes   \n",
       "1          No          No              No        One year               No   \n",
       "2          No          No              No  Month-to-month              Yes   \n",
       "3         Yes          No              No        One year               No   \n",
       "4          No          No              No  Month-to-month              Yes   \n",
       "\n",
       "               PaymentMethod MonthlyCharges  TotalCharges Churn  \n",
       "0           Electronic check          29.85         29.85    No  \n",
       "1               Mailed check          56.95        1889.5    No  \n",
       "2               Mailed check          53.85        108.15   Yes  \n",
       "3  Bank transfer (automatic)          42.30       1840.75    No  \n",
       "4           Electronic check          70.70        151.65   Yes  \n",
       "\n",
       "[5 rows x 21 columns]"
      ]
     },
     "execution_count": 6,
     "metadata": {},
     "output_type": "execute_result"
    }
   ],
   "source": [
    "# get the first 5 rows from the dataframe\n",
    "df.head()"
   ]
  },
  {
   "cell_type": "code",
   "execution_count": 7,
   "metadata": {
    "colab": {
     "base_uri": "https://localhost:8080/"
    },
    "id": "8iJz4XJruKWQ",
    "outputId": "110fbcb8-fb5f-495f-bb65-ae89756ac244"
   },
   "outputs": [
    {
     "name": "stdout",
     "output_type": "stream",
     "text": [
      "<class 'pandas.core.frame.DataFrame'>\n",
      "RangeIndex: 7043 entries, 0 to 7042\n",
      "Data columns (total 21 columns):\n",
      " #   Column            Non-Null Count  Dtype  \n",
      "---  ------            --------------  -----  \n",
      " 0   customerID        7043 non-null   object \n",
      " 1   gender            7043 non-null   object \n",
      " 2   SeniorCitizen     7043 non-null   int64  \n",
      " 3   Partner           7043 non-null   object \n",
      " 4   Dependents        7043 non-null   object \n",
      " 5   tenure            7043 non-null   int64  \n",
      " 6   PhoneService      7043 non-null   object \n",
      " 7   MultipleLines     7043 non-null   object \n",
      " 8   InternetService   7043 non-null   object \n",
      " 9   OnlineSecurity    7043 non-null   object \n",
      " 10  OnlineBackup      7043 non-null   object \n",
      " 11  DeviceProtection  7043 non-null   object \n",
      " 12  TechSupport       7043 non-null   object \n",
      " 13  StreamingTV       7043 non-null   object \n",
      " 14  StreamingMovies   7043 non-null   object \n",
      " 15  Contract          7043 non-null   object \n",
      " 16  PaperlessBilling  7043 non-null   object \n",
      " 17  PaymentMethod     7043 non-null   object \n",
      " 18  MonthlyCharges    7043 non-null   float64\n",
      " 19  TotalCharges      7043 non-null   object \n",
      " 20  Churn             7043 non-null   object \n",
      "dtypes: float64(1), int64(2), object(18)\n",
      "memory usage: 1.1+ MB\n"
     ]
    }
   ],
   "source": [
    "# checking the datatype and the missing values in the columns\n",
    "df.info()"
   ]
  },
  {
   "cell_type": "markdown",
   "metadata": {
    "id": "kcBa6TA3ugzA"
   },
   "source": [
    "Observation:\n",
    "* There are total entries of 7043 and 21 columns in the given data frame.\n",
    "* All the column names are proper.\n",
    "* There are no missing values in the data.\n",
    "* There are no special characters in the data.\n",
    "* All the columns have the appropriate data type except for TotalCharges where the values are numeric but the data type is object."
   ]
  },
  {
   "cell_type": "code",
   "execution_count": 8,
   "metadata": {
    "id": "v01CThYqv38g"
   },
   "outputs": [],
   "source": [
    "# clear the non numeric values\n",
    "df['TotalCharges'] = pd.to_numeric(df['TotalCharges'], errors='coerce')\n"
   ]
  },
  {
   "cell_type": "code",
   "execution_count": 9,
   "metadata": {
    "colab": {
     "base_uri": "https://localhost:8080/"
    },
    "id": "zlSyK0p_vLzg",
    "outputId": "27a50805-40b0-4fc7-8c43-d0f19dd3d104"
   },
   "outputs": [
    {
     "name": "stdout",
     "output_type": "stream",
     "text": [
      "<class 'pandas.core.series.Series'>\n",
      "RangeIndex: 7043 entries, 0 to 7042\n",
      "Series name: TotalCharges\n",
      "Non-Null Count  Dtype  \n",
      "--------------  -----  \n",
      "7032 non-null   float64\n",
      "dtypes: float64(1)\n",
      "memory usage: 55.1 KB\n"
     ]
    }
   ],
   "source": [
    "# finding the number of missing values in Total Charges\n",
    "df['TotalCharges'].info()"
   ]
  },
  {
   "cell_type": "code",
   "execution_count": 10,
   "metadata": {
    "colab": {
     "base_uri": "https://localhost:8080/"
    },
    "id": "HwGAlcvTvjy1",
    "outputId": "850c7f98-619a-4d98-ce65-5a8bd4260850"
   },
   "outputs": [
    {
     "data": {
      "text/plain": [
       "2283.3004408418656"
      ]
     },
     "execution_count": 10,
     "metadata": {},
     "output_type": "execute_result"
    }
   ],
   "source": [
    "# calculate mean\n",
    "df['TotalCharges'].mean()"
   ]
  },
  {
   "cell_type": "code",
   "execution_count": 11,
   "metadata": {
    "colab": {
     "base_uri": "https://localhost:8080/"
    },
    "id": "O-MEuMysvu4T",
    "outputId": "1283ad79-d17b-4c74-fccf-df381cf4de6d"
   },
   "outputs": [
    {
     "data": {
      "text/plain": [
       "1397.475"
      ]
     },
     "execution_count": 11,
     "metadata": {},
     "output_type": "execute_result"
    }
   ],
   "source": [
    "# calculate median\n",
    "df['TotalCharges'].median()"
   ]
  },
  {
   "cell_type": "markdown",
   "metadata": {
    "id": "ICffspx6wdtl"
   },
   "source": [
    "There is a variation between mean and median of the Total Charges.This indicates that there are outliers in the data.Hence replace the missing values of Total Charges with median."
   ]
  },
  {
   "cell_type": "code",
   "execution_count": 12,
   "metadata": {
    "id": "sTLqMrqiv9TN"
   },
   "outputs": [],
   "source": [
    "# replacing the missing values with median\n",
    "df['TotalCharges']=df['TotalCharges'].fillna(df['TotalCharges'].median())"
   ]
  },
  {
   "cell_type": "code",
   "execution_count": 13,
   "metadata": {
    "colab": {
     "base_uri": "https://localhost:8080/"
    },
    "id": "NjCoVvI_wOsX",
    "outputId": "a180ae49-253a-4d88-fe06-77d29020fd3d"
   },
   "outputs": [
    {
     "name": "stdout",
     "output_type": "stream",
     "text": [
      "<class 'pandas.core.series.Series'>\n",
      "RangeIndex: 7043 entries, 0 to 7042\n",
      "Series name: TotalCharges\n",
      "Non-Null Count  Dtype  \n",
      "--------------  -----  \n",
      "7043 non-null   float64\n",
      "dtypes: float64(1)\n",
      "memory usage: 55.1 KB\n"
     ]
    }
   ],
   "source": [
    "# All the missing values are replaced with median\n",
    "df['TotalCharges'].info()"
   ]
  },
  {
   "cell_type": "markdown",
   "metadata": {
    "id": "iPeZ26pLw9Z0"
   },
   "source": [
    "# Univariate Analysis:"
   ]
  },
  {
   "cell_type": "markdown",
   "metadata": {
    "id": "Re-m7xcqxvaD"
   },
   "source": [
    "**Analysis for customerID:**"
   ]
  },
  {
   "cell_type": "code",
   "execution_count": 14,
   "metadata": {
    "colab": {
     "base_uri": "https://localhost:8080/"
    },
    "id": "Q-gLJMTqxCu0",
    "outputId": "a0a19c05-0f59-4d2e-8ce1-95e50a619e29"
   },
   "outputs": [
    {
     "data": {
      "text/plain": [
       "7590-VHVEG    1\n",
       "3791-LGQCY    1\n",
       "6008-NAIXK    1\n",
       "5956-YHHRX    1\n",
       "5365-LLFYV    1\n",
       "             ..\n",
       "9796-MVYXX    1\n",
       "2637-FKFSY    1\n",
       "1552-AAGRX    1\n",
       "4304-TSPVK    1\n",
       "3186-AJIEK    1\n",
       "Name: customerID, Length: 7043, dtype: int64"
      ]
     },
     "execution_count": 14,
     "metadata": {},
     "output_type": "execute_result"
    }
   ],
   "source": [
    "# get the count of unique values in customer id\n",
    "df['customerID'].value_counts()"
   ]
  },
  {
   "cell_type": "markdown",
   "metadata": {
    "id": "T6lnlPF5yccS"
   },
   "source": [
    "Observation:\n",
    "* The customerID shows the unique id of each customer.\n",
    "* There are no duplicate values in the customerID."
   ]
  },
  {
   "cell_type": "markdown",
   "metadata": {
    "id": "h3z-wsrPzE32"
   },
   "source": [
    "**Analysis for gender:**"
   ]
  },
  {
   "cell_type": "code",
   "execution_count": 15,
   "metadata": {
    "colab": {
     "base_uri": "https://localhost:8080/"
    },
    "id": "Dr3j-V6ezMb5",
    "outputId": "1bd4e20c-a228-4e82-a6ca-2916d70c88d6"
   },
   "outputs": [
    {
     "data": {
      "text/plain": [
       "Male      3555\n",
       "Female    3488\n",
       "Name: gender, dtype: int64"
      ]
     },
     "execution_count": 15,
     "metadata": {},
     "output_type": "execute_result"
    }
   ],
   "source": [
    "# get the count of unique values in gender\n",
    "df['gender'].value_counts()"
   ]
  },
  {
   "cell_type": "code",
   "execution_count": 16,
   "metadata": {
    "colab": {
     "base_uri": "https://localhost:8080/",
     "height": 483
    },
    "id": "x0RsLjA8zUJn",
    "outputId": "ad46dea2-1acf-4da7-c575-e09539bfb8c3"
   },
   "outputs": [
    {
     "data": {
      "text/plain": [
       "<Axes: >"
      ]
     },
     "execution_count": 16,
     "metadata": {},
     "output_type": "execute_result"
    },
    {
     "data": {
      "image/png": "[encoded data removed]",
      "text/plain": [
       "<Figure size 640x480 with 1 Axes>"
      ]
     },
     "metadata": {},
     "output_type": "display_data"
    }
   ],
   "source": [
    "# bar plot\n",
    "df['gender'].value_counts(normalize=True).plot(kind='bar')"
   ]
  },
  {
   "cell_type": "markdown",
   "metadata": {
    "id": "ia0JyzGVzxl1"
   },
   "source": [
    "Observation:\n",
    "* The number of male customers are greater than the female customers.\n",
    "* The most of the customers who were using the services are males.\n",
    "* From the bar plot, we can see the probability of whether the customer is male or female.\n",
    "* There is no much variation in the probability that the customer is male and the probability that the customer is female."
   ]
  },
  {
   "cell_type": "markdown",
   "metadata": {
    "id": "H-iNpkyD0VrZ"
   },
   "source": [
    "**Analysis for SeniorCitizen:**"
   ]
  },
  {
   "cell_type": "code",
   "execution_count": 17,
   "metadata": {
    "colab": {
     "base_uri": "https://localhost:8080/"
    },
    "id": "OiiUfMFC1Dc4",
    "outputId": "8b06397d-d69b-4889-f7f8-a67707737745"
   },
   "outputs": [
    {
     "name": "stdout",
     "output_type": "stream",
     "text": [
      "0\n",
      "1\n",
      "0.1621468124378816\n",
      "0.0\n"
     ]
    }
   ],
   "source": [
    "# calculate minimum value\n",
    "print(df['SeniorCitizen'].min())\n",
    "\n",
    "# calculate maximum value\n",
    "print(df['SeniorCitizen'].max())\n",
    "\n",
    "# calculate mean\n",
    "print(df['SeniorCitizen'].mean())\n",
    "\n",
    "# calculate median\n",
    "print(df['SeniorCitizen'].median())\n",
    "\n",
    "\n"
   ]
  },
  {
   "cell_type": "code",
   "execution_count": 18,
   "metadata": {
    "colab": {
     "base_uri": "https://localhost:8080/",
     "height": 447
    },
    "id": "84VhdXqi14tG",
    "outputId": "ed227f5b-dff0-4df6-b203-47526d0c4182"
   },
   "outputs": [
    {
     "data": {
      "text/plain": [
       "<Axes: ylabel='Frequency'>"
      ]
     },
     "execution_count": 18,
     "metadata": {},
     "output_type": "execute_result"
    },
    {
     "data": {
      "image/png": "[encoded data removed]",
      "text/plain": [
       "<Figure size 640x480 with 1 Axes>"
      ]
     },
     "metadata": {},
     "output_type": "display_data"
    }
   ],
   "source": [
    "# plot the histogram\n",
    "df['SeniorCitizen'].plot(kind='hist')"
   ]
  },
  {
   "cell_type": "markdown",
   "metadata": {
    "id": "G-O8dYzY2iA7"
   },
   "source": [
    "### Observation:\n",
    "* \"SeniorCitizen\" column contains binary values (0 or 1) indicating whether a customer is a senior citizen or not.\n",
    "* In this case, a value of 0 typically represents a non-senior customer, while a value of 1 represents a senior customer.\n",
    "* We can see that the most of the customers are not senior citizens that is the count of non senior citizens is  very high than the count of senior citizens.\n",
    "* Hence, we can understand that most of the customers who were accessing the services were not senior citizens."
   ]
  },
  {
   "cell_type": "markdown",
   "metadata": {
    "id": "lxpdk-jv3zwu"
   },
   "source": [
    "**Analysis for Partner:**"
   ]
  },
  {
   "cell_type": "code",
   "execution_count": 19,
   "metadata": {
    "colab": {
     "base_uri": "https://localhost:8080/"
    },
    "id": "7LYiPLlv4FRK",
    "outputId": "2def454a-528a-4ca9-9141-bc140084f3b1"
   },
   "outputs": [
    {
     "data": {
      "text/plain": [
       "No     3641\n",
       "Yes    3402\n",
       "Name: Partner, dtype: int64"
      ]
     },
     "execution_count": 19,
     "metadata": {},
     "output_type": "execute_result"
    }
   ],
   "source": [
    "# get the count of unique values in partner\n",
    "df['Partner'].value_counts()"
   ]
  },
  {
   "cell_type": "code",
   "execution_count": 20,
   "metadata": {
    "colab": {
     "base_uri": "https://localhost:8080/",
     "height": 455
    },
    "id": "anwyZrsb5ytK",
    "outputId": "53156f3d-4855-4c09-f40b-07f060af67c9"
   },
   "outputs": [
    {
     "data": {
      "text/plain": [
       "<Axes: >"
      ]
     },
     "execution_count": 20,
     "metadata": {},
     "output_type": "execute_result"
    },
    {
     "data": {
      "image/png": "[encoded data removed]",
      "text/plain": [
       "<Figure size 640x480 with 1 Axes>"
      ]
     },
     "metadata": {},
     "output_type": "display_data"
    }
   ],
   "source": [
    "# bar plot\n",
    "df['Partner'].value_counts(normalize=True).plot(kind='bar')"
   ]
  },
  {
   "cell_type": "markdown",
   "metadata": {
    "id": "wK8r82SN4PCm"
   },
   "source": [
    "Observation:\n",
    "* The Partner column has two unique values yes or no.\n",
    "* 'yes' represents that the customer is having a partner and 'no' represents that the customer does not have a partner.\n",
    "* The count of no is greater than yes, hence most of the customers are most likely to be single or divorced.\n",
    "* The bar plot shows the probability of  a customer having a partner and not having a partner.\n",
    "* The probability of the customer not having a partner is higher than the probability of customer having a partner."
   ]
  },
  {
   "cell_type": "markdown",
   "metadata": {
    "id": "1QjlYCzv7QLt"
   },
   "source": [
    "**Analysis for Dependents:**"
   ]
  },
  {
   "cell_type": "code",
   "execution_count": 21,
   "metadata": {
    "colab": {
     "base_uri": "https://localhost:8080/"
    },
    "id": "jH7CACOa4N8N",
    "outputId": "958f6d9e-571a-4280-dba8-4ff4c8fb9072"
   },
   "outputs": [
    {
     "data": {
      "text/plain": [
       "No     4933\n",
       "Yes    2110\n",
       "Name: Dependents, dtype: int64"
      ]
     },
     "execution_count": 21,
     "metadata": {},
     "output_type": "execute_result"
    }
   ],
   "source": [
    "# get the count of unique values in dependents\n",
    "df['Dependents'].value_counts()"
   ]
  },
  {
   "cell_type": "code",
   "execution_count": 22,
   "metadata": {
    "colab": {
     "base_uri": "https://localhost:8080/",
     "height": 455
    },
    "id": "GwojjzOk7eCa",
    "outputId": "88e3bb42-8caf-4ac6-aa57-49f53e8e62c7"
   },
   "outputs": [
    {
     "data": {
      "text/plain": [
       "<Axes: >"
      ]
     },
     "execution_count": 22,
     "metadata": {},
     "output_type": "execute_result"
    },
    {
     "data": {
      "image/png": "[encoded data removed]",
      "text/plain": [
       "<Figure size 640x480 with 1 Axes>"
      ]
     },
     "metadata": {},
     "output_type": "display_data"
    }
   ],
   "source": [
    "# bar plot\n",
    "df['Dependents'].value_counts().plot(kind='bar')"
   ]
  },
  {
   "cell_type": "markdown",
   "metadata": {
    "id": "hVJWxdsh8iAT"
   },
   "source": [
    "Observation:\n",
    "* There are two unique values 'yes' and 'no' in Dependents.\n",
    "* 'Yes' indicates that customer has dependents and 'No' indicates that customer does not have any dependents.\n",
    "* The dependents can be either children or parents or other family memebers.\n",
    "* The count of no is higher than the count of yes.\n",
    "* The customers who are having dependents are more than the customers with no dependents."
   ]
  },
  {
   "cell_type": "markdown",
   "metadata": {
    "id": "aUkXXO3rArXf"
   },
   "source": [
    "**Analysis for tenure:**"
   ]
  },
  {
   "cell_type": "code",
   "execution_count": 23,
   "metadata": {
    "colab": {
     "base_uri": "https://localhost:8080/"
    },
    "id": "4LDEiXYeA2dh",
    "outputId": "1d140b4e-d8d0-44b0-fc88-c18780565263"
   },
   "outputs": [
    {
     "name": "stdout",
     "output_type": "stream",
     "text": [
      "0\n",
      "72\n",
      "32.37114865824223\n",
      "29.0\n"
     ]
    }
   ],
   "source": [
    "# calculate minimum value\n",
    "print(df['tenure'].min())\n",
    "\n",
    "# calculate maximum value\n",
    "print(df['tenure'].max())\n",
    "\n",
    "# calculate mean\n",
    "print(df['tenure'].mean())\n",
    "\n",
    "# calculate median\n",
    "print(df['tenure'].median())\n"
   ]
  },
  {
   "cell_type": "code",
   "execution_count": 24,
   "metadata": {
    "colab": {
     "base_uri": "https://localhost:8080/",
     "height": 447
    },
    "id": "60lg3r1l2fIK",
    "outputId": "72d8791a-fd0f-4643-ab4c-2375e6a5ae05"
   },
   "outputs": [
    {
     "data": {
      "text/plain": [
       "<Axes: >"
      ]
     },
     "execution_count": 24,
     "metadata": {},
     "output_type": "execute_result"
    },
    {
     "data": {
      "image/png": "[encoded data removed]",
      "text/plain": [
       "<Figure size 640x480 with 1 Axes>"
      ]
     },
     "metadata": {},
     "output_type": "display_data"
    }
   ],
   "source": [
    "# box plot\n",
    "df['tenure'].plot(kind='box')"
   ]
  },
  {
   "cell_type": "code",
   "execution_count": 25,
   "metadata": {
    "colab": {
     "base_uri": "https://localhost:8080/",
     "height": 447
    },
    "id": "cyb2O0TAB0g3",
    "outputId": "08abec57-abf2-4cd1-d925-4639d014ba0e"
   },
   "outputs": [
    {
     "data": {
      "text/plain": [
       "<Axes: ylabel='Frequency'>"
      ]
     },
     "execution_count": 25,
     "metadata": {},
     "output_type": "execute_result"
    },
    {
     "data": {
      "image/png": "[encoded data removed]",
      "text/plain": [
       "<Figure size 640x480 with 1 Axes>"
      ]
     },
     "metadata": {},
     "output_type": "display_data"
    }
   ],
   "source": [
    "# plot the histogram\n",
    "df['tenure'].plot(kind=\"hist\")"
   ]
  },
  {
   "cell_type": "markdown",
   "metadata": {
    "id": "Vt3rBdEdCRoD"
   },
   "source": [
    "Observation:\n",
    "* The \"tenure\" column typically represents the number of months a customer has been with a company or subscribed to a service.\n",
    "* Each value in the sequence corresponds to the tenure of a specific customer.\n",
    "* The minimum value in the tenure is 0 which indicates that the customer has joined the company recently.\n",
    "* The maximum value is 72 which indicates that the customers has been accessing the services of the company since 72 months.\n",
    "* On an average, the customers have subscribed the services of the company for 32 months.\n",
    "* From the box plot we can see that the maximum distribution of values between 10 and 55 which indicates majority of the customers have the tenure period of 10 to 55 months.\n",
    "* From the histogram, we can see that the maximum number of customers have subscribed to the services very recently.\n",
    "* The second highest tenure period is of 65 to 72 months.\n",
    "* We can determine whether the customer is a new customer or an old customer by looking at the tenure period.\n"
   ]
  },
  {
   "cell_type": "markdown",
   "metadata": {
    "id": "QMTf_HtCGId0"
   },
   "source": [
    "**Analysis for PhoneService:**"
   ]
  },
  {
   "cell_type": "code",
   "execution_count": 26,
   "metadata": {
    "colab": {
     "base_uri": "https://localhost:8080/"
    },
    "id": "czWDVChhGSOs",
    "outputId": "43a4f2de-950b-40d9-c1ce-d5cef068e0ff"
   },
   "outputs": [
    {
     "data": {
      "text/plain": [
       "Yes    6361\n",
       "No      682\n",
       "Name: PhoneService, dtype: int64"
      ]
     },
     "execution_count": 26,
     "metadata": {},
     "output_type": "execute_result"
    }
   ],
   "source": [
    "# get the count of unique values in phone service\n",
    "df['PhoneService'].value_counts()"
   ]
  },
  {
   "cell_type": "code",
   "execution_count": 27,
   "metadata": {
    "colab": {
     "base_uri": "https://localhost:8080/",
     "height": 455
    },
    "id": "pootivENGf5p",
    "outputId": "bc883f09-257a-4daf-8daa-955080e2a2f8"
   },
   "outputs": [
    {
     "data": {
      "text/plain": [
       "<Axes: >"
      ]
     },
     "execution_count": 27,
     "metadata": {},
     "output_type": "execute_result"
    },
    {
     "data": {
      "image/png": "[encoded data removed]",
      "text/plain": [
       "<Figure size 640x480 with 1 Axes>"
      ]
     },
     "metadata": {},
     "output_type": "display_data"
    }
   ],
   "source": [
    "df['PhoneService'].value_counts(normalize=True).plot(kind='bar')"
   ]
  },
  {
   "cell_type": "markdown",
   "metadata": {
    "id": "g05ikZbTGvgI"
   },
   "source": [
    "Observation:\n",
    "* There are two unique values  yes and no in PhoneService.\n",
    "* Yes indicates that the customer has subscribed to the PhoneService. No means that the customer has not subscribed to the PhoneService.\n",
    "* The count of Yes is higher than the count of No.\n",
    "* Hence, we can say that most of the customers have signed up for PhoneService.\n",
    "* From the above bar plot, we can say that there is a high probability that the customers have signed up for the PhoneService."
   ]
  },
  {
   "cell_type": "markdown",
   "metadata": {
    "id": "OK2XSKbLQcQy"
   },
   "source": [
    "**Analysis for MultipleLines:**"
   ]
  },
  {
   "cell_type": "code",
   "execution_count": 28,
   "metadata": {
    "colab": {
     "base_uri": "https://localhost:8080/"
    },
    "id": "TXDf_RO6RIEc",
    "outputId": "d18ac305-814e-465b-b424-ec8eab669e9e"
   },
   "outputs": [
    {
     "data": {
      "text/plain": [
       "No                  3390\n",
       "Yes                 2971\n",
       "No phone service     682\n",
       "Name: MultipleLines, dtype: int64"
      ]
     },
     "execution_count": 28,
     "metadata": {},
     "output_type": "execute_result"
    }
   ],
   "source": [
    "# get the count of unique values in Multiple Lines\n",
    "df['MultipleLines'].value_counts()"
   ]
  },
  {
   "cell_type": "code",
   "execution_count": 29,
   "metadata": {
    "colab": {
     "base_uri": "https://localhost:8080/",
     "height": 553
    },
    "id": "ohl_Lp-2Rj83",
    "outputId": "b57d2890-5fa6-46b9-d667-927e07db8ea6"
   },
   "outputs": [
    {
     "data": {
      "text/plain": [
       "<Axes: >"
      ]
     },
     "execution_count": 29,
     "metadata": {},
     "output_type": "execute_result"
    },
    {
     "data": {
      "image/png": "[encoded data removed]",
      "text/plain": [
       "<Figure size 640x480 with 1 Axes>"
      ]
     },
     "metadata": {},
     "output_type": "display_data"
    }
   ],
   "source": [
    "# bar plot\n",
    "df['MultipleLines'].value_counts().plot(kind='bar')"
   ]
  },
  {
   "cell_type": "markdown",
   "metadata": {
    "id": "xQOEgkxBRiUV"
   },
   "source": [
    "Observation:\n",
    "* The \"MultipleLines\" column typically indicates whether a customer has multiple phone lines or services associated with their account.\n",
    "* \"No phone service\" indicates that the customer does not have a phone service.\n",
    "* \"No\" indicates that the customer does not have multiple phone lines.\n",
    "* \"Yes\" indicates that the customer has multiple phone lines.\n",
    "* The count of no is greater than yes and no phone service,hence maximum number of customers have not subcribed to MultipleLines service.\n",
    "* The count of yes is greater than no phone service which indicates that the some of the customers have signed up for MultipleLines service.\n",
    "* The minimum number of customers have not signed for the phone services.\n"
   ]
  },
  {
   "cell_type": "markdown",
   "metadata": {
    "id": "4tK_wl3uTCM7"
   },
   "source": [
    "**Analysis for InternetService:**"
   ]
  },
  {
   "cell_type": "code",
   "execution_count": 30,
   "metadata": {
    "colab": {
     "base_uri": "https://localhost:8080/"
    },
    "id": "fP5RkBraTUCU",
    "outputId": "bb067a0d-1d3d-4cd4-de01-1af279e8133c"
   },
   "outputs": [
    {
     "data": {
      "text/plain": [
       "Fiber optic    3096\n",
       "DSL            2421\n",
       "No             1526\n",
       "Name: InternetService, dtype: int64"
      ]
     },
     "execution_count": 30,
     "metadata": {},
     "output_type": "execute_result"
    }
   ],
   "source": [
    "# get the count of unique values in Internet Service\n",
    "df['InternetService'].value_counts()"
   ]
  },
  {
   "cell_type": "code",
   "execution_count": 31,
   "metadata": {
    "colab": {
     "base_uri": "https://localhost:8080/",
     "height": 506
    },
    "id": "wrQlswyJUEc9",
    "outputId": "a31d6d4d-a54c-41a3-c84a-07cfe3ce3792"
   },
   "outputs": [
    {
     "data": {
      "text/plain": [
       "<Axes: >"
      ]
     },
     "execution_count": 31,
     "metadata": {},
     "output_type": "execute_result"
    },
    {
     "data": {
      "image/png": "[encoded data removed]",
      "text/plain": [
       "<Figure size 640x480 with 1 Axes>"
      ]
     },
     "metadata": {},
     "output_type": "display_data"
    }
   ],
   "source": [
    "# bar plot\n",
    "df['InternetService'].value_counts(normalize=True).plot(kind='bar')"
   ]
  },
  {
   "cell_type": "markdown",
   "metadata": {
    "id": "SQak7I3_YJGC"
   },
   "source": [
    "Observation:\n",
    "* There are three unique values \"Fiber optic\",\"DSL\",\"NO\" in InternetService.\n",
    "* Fiber optic and DSL indicate the type of internet service that has been subscribed by the customers.\n",
    "* No indicates that customer has not subscribed for the internet service.\n",
    "* The maximum number of customers subscribed for the internet service in that most of the customers prefered the Fibre Optic internet service compared to the DSL internet service.\n",
    "* Minimum number of customers have not subscribed for the internet service."
   ]
  },
  {
   "cell_type": "markdown",
   "metadata": {
    "id": "Xu4Hdv5qZsPP"
   },
   "source": [
    "**Analysis for OnlineSecurity:**"
   ]
  },
  {
   "cell_type": "code",
   "execution_count": 32,
   "metadata": {
    "colab": {
     "base_uri": "https://localhost:8080/"
    },
    "id": "bQOZiyfVZ2C4",
    "outputId": "415300d2-f0fe-4a6f-881c-268670c61db9"
   },
   "outputs": [
    {
     "data": {
      "text/plain": [
       "No                     3498\n",
       "Yes                    2019\n",
       "No internet service    1526\n",
       "Name: OnlineSecurity, dtype: int64"
      ]
     },
     "execution_count": 32,
     "metadata": {},
     "output_type": "execute_result"
    }
   ],
   "source": [
    "# get the count of unique values in Online Security\n",
    "df['OnlineSecurity'].value_counts()"
   ]
  },
  {
   "cell_type": "code",
   "execution_count": 33,
   "metadata": {
    "colab": {
     "base_uri": "https://localhost:8080/",
     "height": 565
    },
    "id": "HIK5mkCCZ_F9",
    "outputId": "acffdbde-a051-491e-ab2c-627cb0e77d7f"
   },
   "outputs": [
    {
     "data": {
      "text/plain": [
       "<Axes: >"
      ]
     },
     "execution_count": 33,
     "metadata": {},
     "output_type": "execute_result"
    },
    {
     "data": {
      "image/png": "[encoded data removed]",
      "text/plain": [
       "<Figure size 640x480 with 1 Axes>"
      ]
     },
     "metadata": {},
     "output_type": "display_data"
    }
   ],
   "source": [
    "# bar plot\n",
    "df['OnlineSecurity'].value_counts(normalize=True).plot(kind='bar')"
   ]
  },
  {
   "cell_type": "markdown",
   "metadata": {
    "id": "XROqt1aJaV01"
   },
   "source": [
    "Observation:\n",
    "* There are three unique values 'yes','no','No internet service' in the online security.\n",
    "* yes and no indicate the customers  who have already signed up for the internet service and who have also signed up for online security or not.\n",
    "* No internet service indicates that the customers have not signed up for the internet service.\n",
    "* The count of No is higher than the count of yes and No internet service which indicates that the maximum number of customers have signed up for the internet service but not subscribed for the online security.\n",
    "* The count of customers who have subscribed for both the internet service and online security is greater than the count of the customers who have not subscribed for the internet service.\n",
    "* The minimum number of customers have not subscribed for the internet service."
   ]
  },
  {
   "cell_type": "markdown",
   "metadata": {
    "id": "alpxznlScagk"
   },
   "source": [
    "**Analysis for OnlineBackup:**"
   ]
  },
  {
   "cell_type": "code",
   "execution_count": 34,
   "metadata": {
    "colab": {
     "base_uri": "https://localhost:8080/"
    },
    "id": "BYgrwrsichak",
    "outputId": "87696926-2bad-40df-a072-cfadb8ca2a33"
   },
   "outputs": [
    {
     "data": {
      "text/plain": [
       "No                     3088\n",
       "Yes                    2429\n",
       "No internet service    1526\n",
       "Name: OnlineBackup, dtype: int64"
      ]
     },
     "execution_count": 34,
     "metadata": {},
     "output_type": "execute_result"
    }
   ],
   "source": [
    "# get the count of unique values in Online Backup\n",
    "df['OnlineBackup'].value_counts()"
   ]
  },
  {
   "cell_type": "code",
   "execution_count": 35,
   "metadata": {
    "colab": {
     "base_uri": "https://localhost:8080/",
     "height": 565
    },
    "id": "zLYBQobzctKH",
    "outputId": "cf5685f7-e60f-4880-cf96-1bdd564e7e09"
   },
   "outputs": [
    {
     "data": {
      "text/plain": [
       "<Axes: >"
      ]
     },
     "execution_count": 35,
     "metadata": {},
     "output_type": "execute_result"
    },
    {
     "data": {
      "image/png": "[encoded data removed]",
      "text/plain": [
       "<Figure size 640x480 with 1 Axes>"
      ]
     },
     "metadata": {},
     "output_type": "display_data"
    }
   ],
   "source": [
    "# bar plot\n",
    "df['OnlineBackup'].value_counts(normalize=True).plot(kind='bar')"
   ]
  },
  {
   "cell_type": "markdown",
   "metadata": {
    "id": "lA1Uukbkc9dB"
   },
   "source": [
    "Observation:\n",
    "* There are three unique values 'yes','no','No internet service' in the online backup.\n",
    "* yes and no indicate the customers  who have already signed up for the internet service and who have also signed up for online backup or not.\n",
    "* No internet service indicates that the customers have not signed up for the internet service.\n",
    "* The count of No is higher than the count of yes and No internet service which indicates that the maximum number of customers have signed up for the internet service but not subscribed for the online backup.\n",
    "* The count of customers who have subscribed for both the internet service and online backup is greater than the count of the customers who have not subscribed for the internet service.\n",
    "* The minimum number of customers have not subscribed for the internet service."
   ]
  },
  {
   "cell_type": "markdown",
   "metadata": {
    "id": "U6mERw2gdT52"
   },
   "source": [
    "**Analysis for DeviceProtection:**"
   ]
  },
  {
   "cell_type": "code",
   "execution_count": 36,
   "metadata": {
    "colab": {
     "base_uri": "https://localhost:8080/"
    },
    "id": "uZWhKErAc88Z",
    "outputId": "b07e8a99-a4ac-4d7f-fb32-9cad9aba92e1"
   },
   "outputs": [
    {
     "data": {
      "text/plain": [
       "No                     3095\n",
       "Yes                    2422\n",
       "No internet service    1526\n",
       "Name: DeviceProtection, dtype: int64"
      ]
     },
     "execution_count": 36,
     "metadata": {},
     "output_type": "execute_result"
    }
   ],
   "source": [
    "# get the count of unique values in Device Protection\n",
    "df['DeviceProtection'].value_counts()"
   ]
  },
  {
   "cell_type": "code",
   "execution_count": 37,
   "metadata": {
    "colab": {
     "base_uri": "https://localhost:8080/",
     "height": 565
    },
    "id": "KMLw1m2Adqi4",
    "outputId": "9ef60353-0674-48f8-863a-5e1c800228d3"
   },
   "outputs": [
    {
     "data": {
      "text/plain": [
       "<Axes: >"
      ]
     },
     "execution_count": 37,
     "metadata": {},
     "output_type": "execute_result"
    },
    {
     "data": {
      "image/png": "[encoded data removed]",
      "text/plain": [
       "<Figure size 640x480 with 1 Axes>"
      ]
     },
     "metadata": {},
     "output_type": "display_data"
    }
   ],
   "source": [
    "# bar plot\n",
    "df['DeviceProtection'].value_counts(normalize=True).plot(kind='bar')"
   ]
  },
  {
   "cell_type": "markdown",
   "metadata": {
    "id": "3lrvdt7Vd2Y0"
   },
   "source": [
    "Observation:\n",
    "* There are three unique values 'yes','no','No internet service' in the Device Protection.\n",
    "* yes and no indicate the customers  who have already signed up for the internet service and who have also signed up for Device Protection or not.\n",
    "* No internet service indicates that the customers have not signed up for the internet service.\n",
    "* The count of No is higher than the count of yes and No internet service which indicates that the maximum number of customers have signed up for the internet service but not subscribed for the Device Protection.\n",
    "* The count of customers who have subscribed for both the internet service and Device Protection is greater than the count of the customers who have not subscribed for the internet service.\n",
    "* The minimum number of customers have not subscribed for the internet service."
   ]
  },
  {
   "cell_type": "markdown",
   "metadata": {
    "id": "Y7XGZKg4eJGq"
   },
   "source": [
    "**Analysis for TechSupport:**"
   ]
  },
  {
   "cell_type": "code",
   "execution_count": 38,
   "metadata": {
    "colab": {
     "base_uri": "https://localhost:8080/"
    },
    "id": "-yneIb1jeRZi",
    "outputId": "7c545c06-6c23-4b31-c451-1ac7fb3cfb5f"
   },
   "outputs": [
    {
     "data": {
      "text/plain": [
       "No                     3473\n",
       "Yes                    2044\n",
       "No internet service    1526\n",
       "Name: TechSupport, dtype: int64"
      ]
     },
     "execution_count": 38,
     "metadata": {},
     "output_type": "execute_result"
    }
   ],
   "source": [
    "# get the count of unique values in Tech Support\n",
    "df['TechSupport'].value_counts()"
   ]
  },
  {
   "cell_type": "code",
   "execution_count": 39,
   "metadata": {
    "colab": {
     "base_uri": "https://localhost:8080/",
     "height": 565
    },
    "id": "Au2fvnnHecLN",
    "outputId": "317a6d4f-8d1e-4306-e019-7de3d15f070e"
   },
   "outputs": [
    {
     "data": {
      "text/plain": [
       "<Axes: >"
      ]
     },
     "execution_count": 39,
     "metadata": {},
     "output_type": "execute_result"
    },
    {
     "data": {
      "image/png": "[encoded data removed]",
      "text/plain": [
       "<Figure size 640x480 with 1 Axes>"
      ]
     },
     "metadata": {},
     "output_type": "display_data"
    }
   ],
   "source": [
    "# bar plot\n",
    "df['TechSupport'].value_counts(normalize=True).plot(kind='bar')"
   ]
  },
  {
   "cell_type": "markdown",
   "metadata": {
    "id": "Us5oMoYHetvW"
   },
   "source": [
    "Observation:\n",
    "* There are three unique values 'yes','no','No internet service' in the Tech Support.\n",
    "* yes and no indicate the customers  who have already signed up for the internet service and who have also signed up for Tech Support or not.\n",
    "* No internet service indicates that the customers have not signed up for the internet service.\n",
    "* The count of No is higher than the count of yes and No internet service which indicates that the maximum number of customers have signed up for the internet service but not subscribed for the Tech Support.\n",
    "* The count of customers who have subscribed for both the internet service and Tech Support is greater than the count of the customers who have not subscribed for the internet service.\n",
    "* The minimum number of customers have not subscribed for the internet service."
   ]
  },
  {
   "cell_type": "markdown",
   "metadata": {
    "id": "A6E3csL-fTW4"
   },
   "source": [
    "**Analysis for StreamingTV:**"
   ]
  },
  {
   "cell_type": "code",
   "execution_count": 40,
   "metadata": {
    "colab": {
     "base_uri": "https://localhost:8080/"
    },
    "id": "zeXqspFPfaGK",
    "outputId": "49904f71-73fd-4c27-87bd-0b2e0e184ab9"
   },
   "outputs": [
    {
     "data": {
      "text/plain": [
       "No                     2810\n",
       "Yes                    2707\n",
       "No internet service    1526\n",
       "Name: StreamingTV, dtype: int64"
      ]
     },
     "execution_count": 40,
     "metadata": {},
     "output_type": "execute_result"
    }
   ],
   "source": [
    "# get the count of unique values in Streaming TV\n",
    "df['StreamingTV'].value_counts()"
   ]
  },
  {
   "cell_type": "code",
   "execution_count": 41,
   "metadata": {
    "colab": {
     "base_uri": "https://localhost:8080/",
     "height": 565
    },
    "id": "4ZVocYZcfqsS",
    "outputId": "ca369399-8ec4-4645-a498-56d2e4d6025c"
   },
   "outputs": [
    {
     "data": {
      "text/plain": [
       "<Axes: >"
      ]
     },
     "execution_count": 41,
     "metadata": {},
     "output_type": "execute_result"
    },
    {
     "data": {
      "image/png": "[encoded data removed]",
      "text/plain": [
       "<Figure size 640x480 with 1 Axes>"
      ]
     },
     "metadata": {},
     "output_type": "display_data"
    }
   ],
   "source": [
    "# bar plot\n",
    "df['StreamingTV'].value_counts(normalize=True).plot(kind='bar')"
   ]
  },
  {
   "cell_type": "markdown",
   "metadata": {
    "id": "YszYJfLwgSBl"
   },
   "source": [
    "Observation:\n",
    "* There are three unique values 'yes','no','No internet service in the Streaming TV.\n",
    "* yes and no indicate the customers  who have already signed up for the internet service and who have also signed up for Streaming TV or not.\n",
    "* No internet service indicates that the customers have not signed up for the internet service.\n",
    "* The count of No is higher than the count of yes and No internet service which indicates that the maximum number of customers have signed up for the internet service but not subscribed for the Streaming TV.\n",
    "* The count of customers who have subscribed for both the internet service and Streaming TV is greater than the count of the customers who have not subscribed for the internet service.\n",
    "* The minimum number of customers have not subscribed for the internet service."
   ]
  },
  {
   "cell_type": "markdown",
   "metadata": {
    "id": "7f2ZmawgnOwa"
   },
   "source": [
    "**Analysis for StreamingMovies:**"
   ]
  },
  {
   "cell_type": "code",
   "execution_count": 42,
   "metadata": {
    "colab": {
     "base_uri": "https://localhost:8080/"
    },
    "id": "z_Wr6x-TnZZ2",
    "outputId": "bda074e3-1694-484e-da1e-fab74b692c26"
   },
   "outputs": [
    {
     "data": {
      "text/plain": [
       "No                     2785\n",
       "Yes                    2732\n",
       "No internet service    1526\n",
       "Name: StreamingMovies, dtype: int64"
      ]
     },
     "execution_count": 42,
     "metadata": {},
     "output_type": "execute_result"
    }
   ],
   "source": [
    "# get the count of unique values in Streaming Movies\n",
    "df['StreamingMovies'].value_counts()"
   ]
  },
  {
   "cell_type": "code",
   "execution_count": 43,
   "metadata": {
    "colab": {
     "base_uri": "https://localhost:8080/",
     "height": 565
    },
    "id": "yGIvsP5FnjSt",
    "outputId": "d2c7431f-cc6c-4c5d-d559-8a7f6f24c31c"
   },
   "outputs": [
    {
     "data": {
      "text/plain": [
       "<Axes: >"
      ]
     },
     "execution_count": 43,
     "metadata": {},
     "output_type": "execute_result"
    },
    {
     "data": {
      "image/png": "[encoded data removed]",
      "text/plain": [
       "<Figure size 640x480 with 1 Axes>"
      ]
     },
     "metadata": {},
     "output_type": "display_data"
    }
   ],
   "source": [
    "# bar plot\n",
    "df['StreamingMovies'].value_counts(normalize=True).plot(kind='bar')"
   ]
  },
  {
   "cell_type": "markdown",
   "metadata": {
    "id": "nsH-vQuKnqUZ"
   },
   "source": [
    "Observation:\n",
    "* There are three unique values 'yes', 'no', 'No internet service in the Streaming Movies.\n",
    "* yes and no indicate the customers  who have already signed up for the internet service and who have also signed up for Streaming Movies or not.\n",
    "* No internet service indicates that the customers have not signed up for the internet service.\n",
    "* The count of No is higher than the count of yes and No internet service which indicates that the maximum number of customers have signed up for the internet service but not subscribed for the Streaming Movies.\n",
    "* The count of customers who have subscribed for both the internet service and Streaming Movies is greater than the count of the customers who have not subscribed for the internet service.\n",
    "* The minimum number of customers have not subscribed for the internet service."
   ]
  },
  {
   "cell_type": "markdown",
   "metadata": {
    "id": "fa1m3I09n5SP"
   },
   "source": [
    "**Analysis for Contract:**"
   ]
  },
  {
   "cell_type": "code",
   "execution_count": 44,
   "metadata": {
    "colab": {
     "base_uri": "https://localhost:8080/"
    },
    "id": "EDmDOfPZoCOb",
    "outputId": "3c18142c-0a18-4b09-d263-27b2effa9d7c"
   },
   "outputs": [
    {
     "data": {
      "text/plain": [
       "Month-to-month    3875\n",
       "Two year          1695\n",
       "One year          1473\n",
       "Name: Contract, dtype: int64"
      ]
     },
     "execution_count": 44,
     "metadata": {},
     "output_type": "execute_result"
    }
   ],
   "source": [
    "# get the count of unique values in Contract\n",
    "df['Contract'].value_counts()"
   ]
  },
  {
   "cell_type": "code",
   "execution_count": 45,
   "metadata": {
    "colab": {
     "base_uri": "https://localhost:8080/",
     "height": 545
    },
    "id": "GBaMhvFWBYZq",
    "outputId": "846085b0-a0e5-45bd-dd48-babfbf5d2870"
   },
   "outputs": [
    {
     "data": {
      "text/plain": [
       "<Axes: >"
      ]
     },
     "execution_count": 45,
     "metadata": {},
     "output_type": "execute_result"
    },
    {
     "data": {
      "image/png": "[encoded data removed]",
      "text/plain": [
       "<Figure size 640x480 with 1 Axes>"
      ]
     },
     "metadata": {},
     "output_type": "display_data"
    }
   ],
   "source": [
    "# bar plot\n",
    "df['Contract'].value_counts(normalize=True).plot(kind='bar')"
   ]
  },
  {
   "cell_type": "markdown",
   "metadata": {
    "id": "KBBT0BtuBiiN"
   },
   "source": [
    "Observation:\n",
    "* There are three types of contract available which Month-to-Month,Two year and One year.\n",
    "* Maximum number of customers preferred Month-to-Month contract compared to Two year and One year contract.\n",
    "* Over Two year and One year contract, Two year contract was more preferred by the customers.\n",
    "* Minimum number of customers preferred One year contract when compared to the others.\n",
    "* We can understand the type of service validity being preferred by the customers."
   ]
  },
  {
   "cell_type": "markdown",
   "metadata": {
    "id": "tRmgytqWC0cb"
   },
   "source": [
    "**Analysis for PaperlessBilling:**"
   ]
  },
  {
   "cell_type": "code",
   "execution_count": 46,
   "metadata": {
    "colab": {
     "base_uri": "https://localhost:8080/"
    },
    "id": "ulrD8SpiDAFF",
    "outputId": "818f3780-73c0-4abb-96c4-79ca2992e0dd"
   },
   "outputs": [
    {
     "data": {
      "text/plain": [
       "Yes    4171\n",
       "No     2872\n",
       "Name: PaperlessBilling, dtype: int64"
      ]
     },
     "execution_count": 46,
     "metadata": {},
     "output_type": "execute_result"
    }
   ],
   "source": [
    "# get the count of unique values in Paperless Billing\n",
    "df['PaperlessBilling'].value_counts()"
   ]
  },
  {
   "cell_type": "code",
   "execution_count": 47,
   "metadata": {
    "colab": {
     "base_uri": "https://localhost:8080/",
     "height": 455
    },
    "id": "WhwnDCkIDOVW",
    "outputId": "cdead607-e6d6-4b3d-ad54-367698b63f84"
   },
   "outputs": [
    {
     "data": {
      "text/plain": [
       "<Axes: >"
      ]
     },
     "execution_count": 47,
     "metadata": {},
     "output_type": "execute_result"
    },
    {
     "data": {
      "image/png": "[encoded data removed]",
      "text/plain": [
       "<Figure size 640x480 with 1 Axes>"
      ]
     },
     "metadata": {},
     "output_type": "display_data"
    }
   ],
   "source": [
    "# bar plot\n",
    "df['PaperlessBilling'].value_counts(normalize=True).plot(kind='bar')"
   ]
  },
  {
   "cell_type": "markdown",
   "metadata": {
    "id": "BRMCLicXDZLi"
   },
   "source": [
    "Observation:\n",
    "* There are two unique values 'yes' and 'no' in paperless billing.\n",
    "* yes indicates that the customers preferred paperless billing by paying the amount through e-payments services.\n",
    "* No indicates that customers opted for paying throught cheques, drafts.\n",
    "* Maximum number of customers opted for the paperless billing which would be less time consuming.\n",
    "* Few customers opted for doing the payments without paperless billing."
   ]
  },
  {
   "cell_type": "markdown",
   "metadata": {
    "id": "23sIP-laEcSc"
   },
   "source": [
    "**Analysis for PaymentMethod:**"
   ]
  },
  {
   "cell_type": "code",
   "execution_count": 48,
   "metadata": {
    "colab": {
     "base_uri": "https://localhost:8080/"
    },
    "id": "M2VvTFPIEboM",
    "outputId": "a4ac3d8c-9620-40d2-b2db-f274b09994dd"
   },
   "outputs": [
    {
     "data": {
      "text/plain": [
       "Electronic check             2365\n",
       "Mailed check                 1612\n",
       "Bank transfer (automatic)    1544\n",
       "Credit card (automatic)      1522\n",
       "Name: PaymentMethod, dtype: int64"
      ]
     },
     "execution_count": 48,
     "metadata": {},
     "output_type": "execute_result"
    }
   ],
   "source": [
    "# get the count of unique values in Payment Method\n",
    "df['PaymentMethod'].value_counts()"
   ]
  },
  {
   "cell_type": "code",
   "execution_count": 49,
   "metadata": {
    "colab": {
     "base_uri": "https://localhost:8080/",
     "height": 616
    },
    "id": "1nSPYFMiFBsi",
    "outputId": "c07df5c6-90e5-4342-eb2c-ca54ab3a4f2f"
   },
   "outputs": [
    {
     "data": {
      "text/plain": [
       "<Axes: >"
      ]
     },
     "execution_count": 49,
     "metadata": {},
     "output_type": "execute_result"
    },
    {
     "data": {
      "image/png": "[encoded data removed]",
      "text/plain": [
       "<Figure size 640x480 with 1 Axes>"
      ]
     },
     "metadata": {},
     "output_type": "display_data"
    }
   ],
   "source": [
    "# bar plot\n",
    "df['PaymentMethod'].value_counts(normalize=True).plot(kind='bar')"
   ]
  },
  {
   "cell_type": "markdown",
   "metadata": {
    "id": "QAEdWOpSFV7j"
   },
   "source": [
    "Observation:\n",
    "* There are four unique payment methods which were opted by the customers for making the payments.\n",
    "* The maximum number of the customers preferred making payment with electronic check.\n",
    "* The second option that was preferred by the customers was by mailed check.\n",
    "* Minimum number of customers made the payment through automatic methods like bank transfer and credit card payment.\n",
    "* Least number of customers opted for making the payment through credit card.\n",
    "* We can understand the different payment options that were preferred by the customers."
   ]
  },
  {
   "cell_type": "markdown",
   "metadata": {
    "id": "K9jCXOiXGwv0"
   },
   "source": [
    "**Analysis for MonthlyCharges:**"
   ]
  },
  {
   "cell_type": "code",
   "execution_count": 50,
   "metadata": {
    "colab": {
     "base_uri": "https://localhost:8080/"
    },
    "id": "7jjWv3sb15et",
    "outputId": "c6210575-d0fa-426b-c534-4db20ed05c29"
   },
   "outputs": [
    {
     "name": "stdout",
     "output_type": "stream",
     "text": [
      "18.25\n",
      "118.75\n",
      "64.76169246059918\n",
      "70.35\n"
     ]
    }
   ],
   "source": [
    "# calculate minimum value\n",
    "print(df['MonthlyCharges'].min())\n",
    "\n",
    "# calculate maximum value\n",
    "print(df['MonthlyCharges'].max())\n",
    "\n",
    "# calculate mean\n",
    "print(df['MonthlyCharges'].mean())\n",
    "\n",
    "# calculate median\n",
    "print(df['MonthlyCharges'].median())\n"
   ]
  },
  {
   "cell_type": "code",
   "execution_count": 51,
   "metadata": {
    "colab": {
     "base_uri": "https://localhost:8080/",
     "height": 447
    },
    "id": "RHihQjWr2Psj",
    "outputId": "a6b52acd-8fa5-4adb-cd2e-6dc1714e2552"
   },
   "outputs": [
    {
     "data": {
      "text/plain": [
       "<Axes: >"
      ]
     },
     "execution_count": 51,
     "metadata": {},
     "output_type": "execute_result"
    },
    {
     "data": {
      "image/png": "[encoded data removed]",
      "text/plain": [
       "<Figure size 640x480 with 1 Axes>"
      ]
     },
     "metadata": {},
     "output_type": "display_data"
    }
   ],
   "source": [
    "# box plot\n",
    "df['MonthlyCharges'].plot(kind='box')"
   ]
  },
  {
   "cell_type": "code",
   "execution_count": 52,
   "metadata": {
    "colab": {
     "base_uri": "https://localhost:8080/",
     "height": 447
    },
    "id": "UPm_ap-W4Hp_",
    "outputId": "42512804-9e5c-41a3-9aaf-294e67b3a578"
   },
   "outputs": [
    {
     "data": {
      "text/plain": [
       "<Axes: ylabel='Frequency'>"
      ]
     },
     "execution_count": 52,
     "metadata": {},
     "output_type": "execute_result"
    },
    {
     "data": {
      "image/png": "[encoded data removed]",
      "text/plain": [
       "<Figure size 640x480 with 1 Axes>"
      ]
     },
     "metadata": {},
     "output_type": "display_data"
    }
   ],
   "source": [
    "# histogram\n",
    "df['MonthlyCharges'].plot(kind='hist')"
   ]
  },
  {
   "cell_type": "markdown",
   "metadata": {
    "id": "m3ziR4Cc4VFP"
   },
   "source": [
    "Observation:\n",
    "* Monthly Charges is the amount charged for each customer on every month.\n",
    "* The minimum monthly charge is 18.25 .\n",
    "* On an average, the amount of 64.76 is charged on the customer.\n",
    "* The maximum monthly charges paid by the customer is 118.75 .\n",
    "* From the box plot, we can see that there are no outliers in the data.\n",
    "* The majority of the customers have their monthly charges less than the average monthly charges.\n",
    "* From the histogram, we can see that the maximum number of the customers have their monthly charges between 18 to 35.\n",
    "* Very few customers have their monthly charges greater than 100."
   ]
  },
  {
   "cell_type": "markdown",
   "metadata": {
    "id": "9PfM8OHf59in"
   },
   "source": [
    "**Analysis for TotalCharges:**"
   ]
  },
  {
   "cell_type": "code",
   "execution_count": 53,
   "metadata": {
    "colab": {
     "base_uri": "https://localhost:8080/"
    },
    "id": "zkGiSIPR6iC9",
    "outputId": "89b92d76-190e-4f64-ab1c-fb1a557da839"
   },
   "outputs": [
    {
     "name": "stdout",
     "output_type": "stream",
     "text": [
      "18.8\n",
      "8684.8\n",
      "2281.9169281556156\n",
      "1397.475\n"
     ]
    }
   ],
   "source": [
    "# calculate minimum value\n",
    "print(df['TotalCharges'].min())\n",
    "\n",
    "# calculate maximum value\n",
    "print(df['TotalCharges'].max())\n",
    "\n",
    "# calculate mean\n",
    "print(df['TotalCharges'].mean())\n",
    "\n",
    "# calculate median\n",
    "print(df['TotalCharges'].median())"
   ]
  },
  {
   "cell_type": "code",
   "execution_count": 54,
   "metadata": {
    "colab": {
     "base_uri": "https://localhost:8080/",
     "height": 447
    },
    "id": "jnijsBx861Gd",
    "outputId": "d12e2d19-d1e6-402b-e2dc-4e18a5246dec"
   },
   "outputs": [
    {
     "data": {
      "text/plain": [
       "<Axes: >"
      ]
     },
     "execution_count": 54,
     "metadata": {},
     "output_type": "execute_result"
    },
    {
     "data": {
      "image/png": "[encoded data removed]",
      "text/plain": [
       "<Figure size 640x480 with 1 Axes>"
      ]
     },
     "metadata": {},
     "output_type": "display_data"
    }
   ],
   "source": [
    "# box plot\n",
    "df['TotalCharges'].plot(kind='box')"
   ]
  },
  {
   "cell_type": "code",
   "execution_count": 55,
   "metadata": {
    "colab": {
     "base_uri": "https://localhost:8080/",
     "height": 447
    },
    "id": "jC1-ED0D7AlS",
    "outputId": "6903121f-43fa-4bca-ac1d-bb512301db57"
   },
   "outputs": [
    {
     "data": {
      "text/plain": [
       "<Axes: ylabel='Frequency'>"
      ]
     },
     "execution_count": 55,
     "metadata": {},
     "output_type": "execute_result"
    },
    {
     "data": {
      "image/png": "[encoded data removed]",
      "text/plain": [
       "<Figure size 640x480 with 1 Axes>"
      ]
     },
     "metadata": {},
     "output_type": "display_data"
    }
   ],
   "source": [
    "# histogram\n",
    "df['TotalCharges'].plot(kind='hist')"
   ]
  },
  {
   "cell_type": "markdown",
   "metadata": {
    "id": "xzwN0b7Z7QdX"
   },
   "source": [
    "Observation:\n",
    "* Total charges encompass the cumulative sum of all charges over a specified tenure period, including both recurring and one-time fees.\n",
    "* The minimum total charge is 18.8 which indicates that customer subscribed the services for a period of maximum of one month.\n",
    "* The maximum total charges is 8684.8 which indicates that the customer have been accessing the services for a long period or subscribed for many services.\n",
    "* The distribution of majority of customers total charges is between 18 to 4000.\n",
    "* The maximum number of customers have their total charges from 18 to 1000 which indicates that customers have subscribed the services for few months or subscribed for few services.\n",
    "* The minimum number of customers have their total charges beyond 8000 which indicates that they have subscribed the services for a longer period."
   ]
  },
  {
   "cell_type": "markdown",
   "metadata": {
    "id": "cYQk466z9Jve"
   },
   "source": [
    "**Analysis for Churn:**"
   ]
  },
  {
   "cell_type": "code",
   "execution_count": 56,
   "metadata": {
    "colab": {
     "base_uri": "https://localhost:8080/"
    },
    "id": "3uKyPe4-9P0O",
    "outputId": "a001db88-d6aa-464c-b364-1493f1a03f0b"
   },
   "outputs": [
    {
     "data": {
      "text/plain": [
       "No     5174\n",
       "Yes    1869\n",
       "Name: Churn, dtype: int64"
      ]
     },
     "execution_count": 56,
     "metadata": {},
     "output_type": "execute_result"
    }
   ],
   "source": [
    "# get the count of unique values in Churn\n",
    "df['Churn'].value_counts()"
   ]
  },
  {
   "cell_type": "code",
   "execution_count": 57,
   "metadata": {
    "colab": {
     "base_uri": "https://localhost:8080/",
     "height": 455
    },
    "id": "ifhcMTtv9agm",
    "outputId": "44d2170d-819f-4af4-b49a-65515fab2001"
   },
   "outputs": [
    {
     "data": {
      "text/plain": [
       "<Axes: >"
      ]
     },
     "execution_count": 57,
     "metadata": {},
     "output_type": "execute_result"
    },
    {
     "data": {
      "image/png": "[encoded data removed]",
      "text/plain": [
       "<Figure size 640x480 with 1 Axes>"
      ]
     },
     "metadata": {},
     "output_type": "display_data"
    }
   ],
   "source": [
    "# bar plot\n",
    "df['Churn'].value_counts(normalize=True).plot(kind='bar')"
   ]
  },
  {
   "cell_type": "markdown",
   "metadata": {
    "id": "kZWlJuqu-HTP"
   },
   "source": [
    "Observation:\n",
    "* There are two unique values 'yes' and 'no' in churn.\n",
    "* The yes in churn indicates that the customers are more likely to discontinue the services or subscription with the service provider.\n",
    "* The no in churn indicates that the customers are likely to continue with subscribing the services from the service provider.\n",
    "* We can see that the maximum number of customers opted for yes, hence they are likely to be continuing their subscription or their services.\n",
    "* Minimum number of customers opted for no, hence they are more likely to be discontinuing the services from their service provider.\n",
    "* By this we can understand whether the customers are satisfied and whether they are going to continue accessing the services or proceed to other service providers."
   ]
  },
  {
   "cell_type": "markdown",
   "metadata": {
    "id": "RQmL29q0_q6-"
   },
   "source": [
    "# Bivariate Analysis:"
   ]
  },
  {
   "cell_type": "markdown",
   "metadata": {
    "id": "vZ2qeicN_yAa"
   },
   "source": [
    "**Analysis for Gender and Churn:**"
   ]
  },
  {
   "cell_type": "code",
   "execution_count": 58,
   "metadata": {
    "id": "JKmn8Y-jY6et"
   },
   "outputs": [],
   "source": [
    "import matplotlib.pyplot as plt"
   ]
  },
  {
   "cell_type": "code",
   "execution_count": 59,
   "metadata": {
    "colab": {
     "base_uri": "https://localhost:8080/",
     "height": 472
    },
    "id": "vlgf7crb_7a4",
    "outputId": "3d99c816-92f6-49dd-cb9b-e010140ca09d"
   },
   "outputs": [
    {
     "data": {
      "image/png": "[encoded data removed]",
      "text/plain": [
       "<Figure size 640x480 with 1 Axes>"
      ]
     },
     "metadata": {},
     "output_type": "display_data"
    }
   ],
   "source": [
    "# Calculate the count of churn status for each gender\n",
    "churn_counts = df.groupby(['gender', 'Churn']).size().unstack()\n",
    "\n",
    "# Create a stacked bar chart\n",
    "churn_counts.plot(kind='bar', stacked=True)\n",
    "plt.xlabel('Gender')\n",
    "plt.ylabel('Count')\n",
    "plt.title('Churn Status by Gender')\n",
    "plt.xticks(rotation=0)\n",
    "plt.legend(title='Churn', loc='upper right')\n",
    "plt.show()\n"
   ]
  },
  {
   "cell_type": "markdown",
   "metadata": {
    "id": "p5KcdBS7bRtH"
   },
   "source": [
    "Observation:\n",
    "* From the plot we can observe how gender and churn are related to each other.\n",
    "* The count of males is slightly greater than females,the number of male customers are greater than females.\n",
    "* The majority of male and female customers are likely to continue with their subscriptions.\n",
    "* Minimum number of both male and female customers are likely to discontinue with the current service provider."
   ]
  },
  {
   "cell_type": "markdown",
   "metadata": {
    "id": "tv0GVyFZYjFH"
   },
   "source": [
    "**Analysis for Senior Citizen and Churn:**"
   ]
  },
  {
   "cell_type": "code",
   "execution_count": 60,
   "metadata": {
    "colab": {
     "base_uri": "https://localhost:8080/",
     "height": 472
    },
    "id": "BNI33wc4Yv6y",
    "outputId": "6c18bbe9-3f84-4a14-de60-d1f93df2221f"
   },
   "outputs": [
    {
     "data": {
      "image/png": "[encoded data removed]",
      "text/plain": [
       "<Figure size 640x480 with 1 Axes>"
      ]
     },
     "metadata": {},
     "output_type": "display_data"
    }
   ],
   "source": [
    "# Calculate the count of churn status for each Senior Citizen\n",
    "churn_counts = df.groupby(['SeniorCitizen', 'Churn']).size().unstack()\n",
    "\n",
    "# Create a stacked bar chart\n",
    "churn_counts.plot(kind='bar', stacked=True)\n",
    "plt.xlabel('SeniorCitizen')\n",
    "plt.ylabel('Count')\n",
    "plt.title('Churn Status by SeniorCitizen')\n",
    "plt.xticks(rotation=0)\n",
    "plt.legend(title='Churn', loc='upper right')\n",
    "plt.show()"
   ]
  },
  {
   "cell_type": "markdown",
   "metadata": {
    "id": "8urpJ9wYp4yt"
   },
   "source": [
    "Observation:\n",
    "* From the above we can observe the relation between Senior citizen and the churn.\n",
    "* Maximum number of customers are not senior citizens, their age is less than 60.\n",
    "* The maximum number of customers who are not senior citizens they are most likely to continue with the services of the service provider.\n",
    "* Minimum number of non senior citizen customers are likely to discontinue their subscriptions.\n",
    "* There are few customers who are senior citizens where majority of them are going to continue with their services.\n",
    "* Minimum number of senior citizens are likely to discontinue their services or their subscriptions."
   ]
  },
  {
   "cell_type": "markdown",
   "metadata": {
    "id": "J8sLfYPirUlO"
   },
   "source": [
    "**Analysis for Partner:**"
   ]
  },
  {
   "cell_type": "code",
   "execution_count": 61,
   "metadata": {
    "colab": {
     "base_uri": "https://localhost:8080/",
     "height": 472
    },
    "id": "vvIDJlQare9y",
    "outputId": "7a03e6f0-269d-4291-ecf0-91d613d2cca9"
   },
   "outputs": [
    {
     "data": {
      "image/png": "[encoded data removed]",
      "text/plain": [
       "<Figure size 640x480 with 1 Axes>"
      ]
     },
     "metadata": {},
     "output_type": "display_data"
    }
   ],
   "source": [
    "# Calculate the count of churn status for each customer having or not having a partner\n",
    "churn_counts = df.groupby(['Partner', 'Churn']).size().unstack()\n",
    "\n",
    "# Create a stacked bar chart\n",
    "churn_counts.plot(kind='bar', stacked=True)\n",
    "plt.xlabel('Partner')\n",
    "plt.ylabel('Count')\n",
    "plt.title('Churn Status by Partner')\n",
    "plt.xticks(rotation=0)\n",
    "plt.legend(title='Churn', loc='upper right')\n",
    "plt.show()"
   ]
  },
  {
   "cell_type": "markdown",
   "metadata": {
    "id": "oMnrIG6SsAjK"
   },
   "source": [
    "Observation:\n",
    "* From the above plot, we can see how the churn status is related to a customer having a partner.\n",
    "* The customers who have partner are less than the customers who don't have  a partner.\n",
    "* In both the cases, the maximum number of customers are likely to be continuing their subscriptions.\n",
    "* Very few customers are likely are to churn irrespective of whether they have a partner or not.\n",
    "* Hence we can say that customers having a partner is more likely to not to affect the churn."
   ]
  },
  {
   "cell_type": "markdown",
   "metadata": {
    "id": "dMzNl7JXuLyy"
   },
   "source": [
    "**Analysis for Dependents and Churn:**"
   ]
  },
  {
   "cell_type": "code",
   "execution_count": 62,
   "metadata": {
    "colab": {
     "base_uri": "https://localhost:8080/",
     "height": 472
    },
    "id": "_KaXIbQWujsp",
    "outputId": "fa89d19a-bf28-4586-fba9-ad4a981978e8"
   },
   "outputs": [
    {
     "data": {
      "image/png": "[encoded data removed]",
      "text/plain": [
       "<Figure size 640x480 with 1 Axes>"
      ]
     },
     "metadata": {},
     "output_type": "display_data"
    }
   ],
   "source": [
    "# Calculate the count of churn status for each customer having dependents\n",
    "churn_counts = df.groupby(['Dependents', 'Churn']).size().unstack()\n",
    "\n",
    "# Create a stacked bar chart\n",
    "churn_counts.plot(kind='bar', stacked=True)\n",
    "plt.xlabel('Dependents')\n",
    "plt.ylabel('Count')\n",
    "plt.title('Churn Status by Dependents')\n",
    "plt.xticks(rotation=0)\n",
    "plt.legend(title='Churn', loc='upper right')\n",
    "plt.show()"
   ]
  },
  {
   "cell_type": "markdown",
   "metadata": {
    "id": "C_3P2uCFDz3j"
   },
   "source": [
    "Observation:\n",
    "* From the above plot, we can see that the maximum number of customers do not have dependents,only few number of customers have dependents.\n",
    "* Most of the customers in the both the cases, irrespective of the dependents are most likely to not to churn.\n",
    "* The customers having or not having the dependents is not going to affect the churn."
   ]
  },
  {
   "cell_type": "markdown",
   "metadata": {
    "id": "t5rjk8oVFrOu"
   },
   "source": [
    "**Analysis for tenure and churn:**"
   ]
  },
  {
   "cell_type": "code",
   "execution_count": 63,
   "metadata": {
    "colab": {
     "base_uri": "https://localhost:8080/",
     "height": 495
    },
    "id": "xMMlehU7F1VG",
    "outputId": "2932a953-9545-43e0-c043-0c82a1c63f13"
   },
   "outputs": [
    {
     "data": {
      "text/plain": [
       "<Axes: title={'center': 'tenure'}, xlabel='Churn'>"
      ]
     },
     "execution_count": 63,
     "metadata": {},
     "output_type": "execute_result"
    },
    {
     "data": {
      "image/png": "[encoded data removed]",
      "text/plain": [
       "<Figure size 640x480 with 1 Axes>"
      ]
     },
     "metadata": {},
     "output_type": "display_data"
    }
   ],
   "source": [
    "# box plot to find the relation between churn status and tenure\n",
    "df.boxplot(by='Churn',column='tenure')"
   ]
  },
  {
   "cell_type": "markdown",
   "metadata": {
    "id": "VNdOs4bdG11d"
   },
   "source": [
    "Observation:\n",
    "* From the plot,we can determine the relation between tenure period of the customer and churn.\n",
    "* The customers who have been accessing their subscription for a tenure period of 15 to 62 months are not going to churn.\n",
    "* The customers who have the tenure period of 2 to 30 months are most likely to churn, They are going to discontinue their subscriptions.\n",
    "* There are few outliers in yes which indicates that there are  few customers with the highest tenure period of greater than 70 and are going to discontinue their services.\n",
    "* The maximum value of tenure period of customers who have opted for no churn is higher than the maximum value of the customers who have opted to churn.\n",
    "* The tenure period of the customers who have no as the churn status is greater than the tenure period of customers who have churn status as yes.\n",
    "* The tenure period is an important factor which influences the churn status."
   ]
  },
  {
   "cell_type": "markdown",
   "metadata": {
    "id": "N8B0pwDOJmzD"
   },
   "source": [
    "**Analysis for PhoneService and Churn:**"
   ]
  },
  {
   "cell_type": "code",
   "execution_count": 64,
   "metadata": {
    "colab": {
     "base_uri": "https://localhost:8080/",
     "height": 472
    },
    "id": "qBJbvp88JzSU",
    "outputId": "5f589844-a4e5-46d7-c553-37530cd1d2a3"
   },
   "outputs": [
    {
     "data": {
      "image/png": "[encoded data removed]",
      "text/plain": [
       "<Figure size 640x480 with 1 Axes>"
      ]
     },
     "metadata": {},
     "output_type": "display_data"
    }
   ],
   "source": [
    "# Calculate the count of churn status and phone service status\n",
    "churn_counts = df.groupby(['PhoneService', 'Churn']).size().unstack()\n",
    "\n",
    "# Create a stacked bar chart\n",
    "churn_counts.plot(kind='bar', stacked=True)\n",
    "plt.xlabel('Phoneservice')\n",
    "plt.ylabel('Count')\n",
    "plt.title('Churn Status by Phoneservice')\n",
    "plt.xticks(rotation=0)\n",
    "plt.legend(title='Churn', loc='upper right')\n",
    "plt.show()"
   ]
  },
  {
   "cell_type": "markdown",
   "metadata": {
    "id": "5lmLmiwGKwAH"
   },
   "source": [
    "Observation:\n",
    "* From the above plot, we can see the relation between phone service and churn status.\n",
    "* There more than 6000 customers using phone service and the customers who have not signed up for phone service are less than 1000.\n",
    "* The maximum number of customers irrespective of the phone service have opted for no in churn status.\n",
    "* The maximum number of the customers are not going to churn even though they have subscribed for phone service or not.\n",
    "* Hence we can say that churn status is not being affected by the usage of the phone service."
   ]
  },
  {
   "cell_type": "markdown",
   "metadata": {
    "id": "A_aKZh9b7Q-o"
   },
   "source": [
    "**Analysis for InternetService and Churn:**"
   ]
  },
  {
   "cell_type": "code",
   "execution_count": 65,
   "metadata": {
    "colab": {
     "base_uri": "https://localhost:8080/",
     "height": 472
    },
    "id": "3xXnBqC17lF-",
    "outputId": "95ee6164-a040-4071-83b1-ff72acee8b54"
   },
   "outputs": [
    {
     "data": {
      "image/png": "[encoded data removed]",
      "text/plain": [
       "<Figure size 640x480 with 1 Axes>"
      ]
     },
     "metadata": {},
     "output_type": "display_data"
    }
   ],
   "source": [
    "# Calculate the count of churn status and internet service status\n",
    "churn_counts = df.groupby(['InternetService', 'Churn']).size().unstack()\n",
    "\n",
    "# Create a stacked bar chart\n",
    "churn_counts.plot(kind='bar', stacked=True)\n",
    "plt.xlabel('Internetservice')\n",
    "plt.ylabel('Count')\n",
    "plt.title('Churn Status by Internetservice')\n",
    "plt.xticks(rotation=0)\n",
    "plt.legend(title='Churn', loc='upper right')\n",
    "plt.show()"
   ]
  },
  {
   "cell_type": "markdown",
   "metadata": {
    "id": "w0Hzua9M8Dhv"
   },
   "source": [
    "Observation:\n",
    "* From the above plot, we can see the relation between Churn status and the internet service.\n",
    "* The customers who have subscribed for the internet service were using two types of internet service DSL and Fiber optic.\n",
    "* The number of Fiber optic internet service users are greater than the DSL internet service users.\n",
    "* The count of the DSL users who are not going to churn is greater than the count of the Fibre optic users who are not going to churn.\n",
    "* We can say that DSL users are more satisfied with the service compared to the Fibre optic users.\n",
    "* The major number of customers who have not subscribed for the internet service may be satisfied with the other services as most of them are not going to churn.\n"
   ]
  },
  {
   "cell_type": "markdown",
   "metadata": {
    "id": "vBJ3j98p97tq"
   },
   "source": [
    "**Analysis for OnlineSecurity and Churn Rate:**"
   ]
  },
  {
   "cell_type": "code",
   "execution_count": 66,
   "metadata": {
    "colab": {
     "base_uri": "https://localhost:8080/",
     "height": 472
    },
    "id": "rPfbJQ7j-kgq",
    "outputId": "3c10c43b-9b02-495e-95bc-7d4192238aea"
   },
   "outputs": [
    {
     "data": {
      "image/png": "[encoded data removed]",
      "text/plain": [
       "<Figure size 640x480 with 1 Axes>"
      ]
     },
     "metadata": {},
     "output_type": "display_data"
    }
   ],
   "source": [
    "# Calculate the count of churn status and online security service status\n",
    "churn_counts = df.groupby(['OnlineSecurity', 'Churn']).size().unstack()\n",
    "\n",
    "# Create a stacked bar chart\n",
    "churn_counts.plot(kind='bar', stacked=True)\n",
    "plt.xlabel('OnlineSecurity')\n",
    "plt.ylabel('Count')\n",
    "plt.title('Churn Status by OnlineSecurity')\n",
    "plt.xticks(rotation=0)\n",
    "plt.legend(title='Churn', loc='upper right')\n",
    "plt.show()"
   ]
  },
  {
   "cell_type": "markdown",
   "metadata": {
    "id": "rfHJ7gKa_Ivg"
   },
   "source": [
    "Observation:\n",
    "* From the above plot, we can see the relation between Online security and churn status.\n",
    "* Online Security can be subcribed by the customers who have opted for the internet service.\n",
    "* Among the internet service users, maximum number of users have not chosen online security.\n",
    "* The most of the customers who have subcribed for online security are likely to not to churn.\n",
    "* The most of the customers who have not subcribed for online security are likely to not to churn.\n",
    "* The customers who have not subscribed for the internet service are more likely to not to churn.\n",
    "* Hence we can say that the customers who rely on the online security service are less likely to churn."
   ]
  },
  {
   "cell_type": "markdown",
   "metadata": {
    "id": "rBeWKlM9BM-r"
   },
   "source": [
    "**Analysis for OnlineBackup and Churn status:**"
   ]
  },
  {
   "cell_type": "code",
   "execution_count": 67,
   "metadata": {
    "colab": {
     "base_uri": "https://localhost:8080/",
     "height": 472
    },
    "id": "Hiw7xSxsBtx8",
    "outputId": "f8393079-5459-44ef-8e59-2e055b1495d2"
   },
   "outputs": [
    {
     "data": {
      "image/png": "[encoded data removed]",
      "text/plain": [
       "<Figure size 640x480 with 1 Axes>"
      ]
     },
     "metadata": {},
     "output_type": "display_data"
    }
   ],
   "source": [
    "# Calculate the count of churn status and online Backup service status\n",
    "churn_counts = df.groupby(['OnlineBackup', 'Churn']).size().unstack()\n",
    "\n",
    "# Create a stacked bar chart\n",
    "churn_counts.plot(kind='bar', stacked=True)\n",
    "plt.xlabel('OnlineBackup')\n",
    "plt.ylabel('Count')\n",
    "plt.title('Churn Status by OnlineBackup')\n",
    "plt.xticks(rotation=0)\n",
    "plt.legend(title='Churn', loc='upper right')\n",
    "plt.show()"
   ]
  },
  {
   "cell_type": "markdown",
   "metadata": {
    "id": "PlTeiF4EB_Dl"
   },
   "source": [
    "Observation:\n",
    "* From the above plot, we can see the relation between online backup service and churn status.\n",
    "* Online backup service would be allowed for the users who have subscribed for the internet service.\n",
    "* Among the users who have subscribed for internet service, the count of users who have not subscribed for online backup is greater than the count of users who have subscribed for online backup.\n",
    "* The maximum number of users who have subscribed for online backup are less likely to churn when compared to the other users.\n",
    "* The maximum of users who have not subscribed for online backup and internet service are also less likely to churn."
   ]
  },
  {
   "cell_type": "markdown",
   "metadata": {
    "id": "r_3AMJaVDRdI"
   },
   "source": [
    "**Analysis for DeviceProtection and Churn status:**"
   ]
  },
  {
   "cell_type": "code",
   "execution_count": 68,
   "metadata": {
    "colab": {
     "base_uri": "https://localhost:8080/",
     "height": 472
    },
    "id": "7ZRrSaoqDYiA",
    "outputId": "68c8a229-9bb3-4e51-c995-6c69be8e8427"
   },
   "outputs": [
    {
     "data": {
      "image/png": "[encoded data removed]",
      "text/plain": [
       "<Figure size 640x480 with 1 Axes>"
      ]
     },
     "metadata": {},
     "output_type": "display_data"
    }
   ],
   "source": [
    "# Calculate the count of churn status and Device Protection service status\n",
    "churn_counts = df.groupby(['DeviceProtection', 'Churn']).size().unstack()\n",
    "\n",
    "# Create a stacked bar chart\n",
    "churn_counts.plot(kind='bar', stacked=True)\n",
    "plt.xlabel('DeviceProtection')\n",
    "plt.ylabel('Count')\n",
    "plt.title('Churn Status by DeviceProtection')\n",
    "plt.xticks(rotation=0)\n",
    "plt.legend(title='Churn', loc='upper right')\n",
    "plt.show()"
   ]
  },
  {
   "cell_type": "markdown",
   "metadata": {
    "id": "rxe_zcjQNIjr"
   },
   "source": [
    "Observation:\n",
    "* From the above plot,we can see the relation between Device protection service and the churn.\n",
    "* Device protection service would be allowed for the users who have subscribed for the internet service.\n",
    "* Among the users who have subscribed for internet service, the count of users who have not subscribed for device protection is greater than the count of users who have subscribed for device protection.\n",
    "* The maximum number of users who have subscribed for device protection are less likely to churn when compared to the other users.\n",
    "* The maximum of users who have not subscribed for device protection and internet service are also less likely to churn."
   ]
  },
  {
   "cell_type": "markdown",
   "metadata": {
    "id": "9Zx9lm1uOBUC"
   },
   "source": [
    "**Analysis for TechSupport and Churn:**"
   ]
  },
  {
   "cell_type": "code",
   "execution_count": 69,
   "metadata": {
    "colab": {
     "base_uri": "https://localhost:8080/",
     "height": 472
    },
    "id": "wXgwTrzZOMci",
    "outputId": "97d73b1e-dcfe-475b-fc41-dd48a6ba2558"
   },
   "outputs": [
    {
     "data": {
      "image/png": "[encoded data removed]",
      "text/plain": [
       "<Figure size 640x480 with 1 Axes>"
      ]
     },
     "metadata": {},
     "output_type": "display_data"
    }
   ],
   "source": [
    "# Calculate the count of churn status and TechSupport  service status\n",
    "churn_counts = df.groupby(['TechSupport', 'Churn']).size().unstack()\n",
    "\n",
    "# Create a stacked bar chart\n",
    "churn_counts.plot(kind='bar', stacked=True)\n",
    "plt.xlabel('TechSupport ')\n",
    "plt.ylabel('Count')\n",
    "plt.title('Churn Status by TechSupport ')\n",
    "plt.xticks(rotation=0)\n",
    "plt.legend(title='Churn', loc='upper right')\n",
    "plt.show()"
   ]
  },
  {
   "cell_type": "markdown",
   "metadata": {
    "id": "DFSkJlGdOkst"
   },
   "source": [
    "Observation:\n",
    "* From the above plot, we can see the relation between Tech support and churn status.\n",
    "* The tech support would be accessible by the customers who have subscribed for the internet service.\n",
    "* Among the internet service users most of them have not subscribed for the tech support.\n",
    "* The maximum number of users who have not signed up for tech support are less likely to churn compared to the tech support subscribed users.\n",
    "* Most of the non internet service users are also less likely to churn."
   ]
  },
  {
   "cell_type": "markdown",
   "metadata": {
    "id": "lts9fvv-c31P"
   },
   "source": [
    "**Analysis for StreamingTV and the churn:**"
   ]
  },
  {
   "cell_type": "code",
   "execution_count": 70,
   "metadata": {
    "colab": {
     "base_uri": "https://localhost:8080/",
     "height": 472
    },
    "id": "HzdNkY3IdITs",
    "outputId": "55c86b72-7f5e-4f5b-f962-0e796b5b7a6b"
   },
   "outputs": [
    {
     "data": {
      "image/png": "[encoded data removed]",
      "text/plain": [
       "<Figure size 640x480 with 1 Axes>"
      ]
     },
     "metadata": {},
     "output_type": "display_data"
    }
   ],
   "source": [
    "# Calculate the count of churn status and StreamingTV service status\n",
    "churn_counts = df.groupby(['StreamingTV', 'Churn']).size().unstack()\n",
    "\n",
    "# Create a stacked bar chart\n",
    "churn_counts.plot(kind='bar', stacked=True)\n",
    "plt.xlabel('StreamingTV')\n",
    "plt.ylabel('Count')\n",
    "plt.title('Churn Status by StreamingTV')\n",
    "plt.xticks(rotation=0)\n",
    "plt.legend(title='Churn', loc='upper right')\n",
    "plt.show()"
   ]
  },
  {
   "cell_type": "markdown",
   "metadata": {
    "id": "_sN1AvCBdcSF"
   },
   "source": [
    "Observation:\n",
    "* From the above plot, we can see the relation between Streaming TV service and churn status.\n",
    "* The Streaming TV would be an add on service along with the internet service.\n",
    "* Among the internet service users, equivalent percentage of users have opted and not opted for the streaming tv service.\n",
    "* Maximum percentage of users who have subscribed for streaming tv and not subscribed for streaming tv are less likely to churn.\n",
    "* The maximum number of no internet service users are also less likely to churn."
   ]
  },
  {
   "cell_type": "markdown",
   "metadata": {
    "id": "RawvUTxheh6F"
   },
   "source": [
    "**Analysis for StreamingMovies and Churn:**"
   ]
  },
  {
   "cell_type": "code",
   "execution_count": 71,
   "metadata": {
    "colab": {
     "base_uri": "https://localhost:8080/",
     "height": 472
    },
    "id": "Xrg46taieoIf",
    "outputId": "374d96b5-c4ac-4651-b4d1-288a4f9b401c"
   },
   "outputs": [
    {
     "data": {
      "image/png": "[encoded data removed]",
      "text/plain": [
       "<Figure size 640x480 with 1 Axes>"
      ]
     },
     "metadata": {},
     "output_type": "display_data"
    }
   ],
   "source": [
    "# Calculate the count of churn status and StreamingMovies service status\n",
    "churn_counts = df.groupby(['StreamingMovies', 'Churn']).size().unstack()\n",
    "\n",
    "# Create a stacked bar chart\n",
    "churn_counts.plot(kind='bar', stacked=True)\n",
    "plt.xlabel('StreamingMovies')\n",
    "plt.ylabel('Count')\n",
    "plt.title('Churn Status by StreamingMovies')\n",
    "plt.xticks(rotation=0)\n",
    "plt.legend(title='Churn', loc='upper right')\n",
    "plt.show()"
   ]
  },
  {
   "cell_type": "markdown",
   "metadata": {
    "id": "OCsfJNrMe43M"
   },
   "source": [
    "Observation:\n",
    "* From the above plot, we can see the relation between Streaming Movies service and churn status.\n",
    "* The Streaming Movies would be an add on service along with the internet service.\n",
    "* Among the internet service users, equivalent percentage of users have opted and not opted for the streaming Movies service.\n",
    "* Maximum percentage of users who have subscribed for streaming Movies and not subscribed for streaming Movies are less likely to churn.\n",
    "* The maximum number of no internet service users are also less likely to churn."
   ]
  },
  {
   "cell_type": "markdown",
   "metadata": {
    "id": "K5_EyX0gfEu1"
   },
   "source": [
    "**Analysis for Contract and Churn:**"
   ]
  },
  {
   "cell_type": "code",
   "execution_count": 72,
   "metadata": {
    "colab": {
     "base_uri": "https://localhost:8080/",
     "height": 472
    },
    "id": "ZkldenDHfNCL",
    "outputId": "d64c264e-5c57-4037-9f10-9cba85771e77"
   },
   "outputs": [
    {
     "data": {
      "image/png": "[encoded data removed]",
      "text/plain": [
       "<Figure size 640x480 with 1 Axes>"
      ]
     },
     "metadata": {},
     "output_type": "display_data"
    }
   ],
   "source": [
    "# Calculate the count of churn status and Contract\n",
    "churn_counts = df.groupby(['Contract', 'Churn']).size().unstack()\n",
    "\n",
    "# Create a stacked bar chart\n",
    "churn_counts.plot(kind='bar', stacked=True)\n",
    "plt.xlabel('Contract')\n",
    "plt.ylabel('Count')\n",
    "plt.title('Churn Status by Contract')\n",
    "plt.xticks(rotation=0)\n",
    "plt.legend(title='Churn', loc='upper right')\n",
    "plt.show()"
   ]
  },
  {
   "cell_type": "markdown",
   "metadata": {
    "id": "GQtnLYfDfeNM"
   },
   "source": [
    "Observation:\n",
    "* From the above plot we can find the relation between Contract and the Churn.\n",
    "* There are three types of contract that the customers can choose according to their preference.\n",
    "* We can see that the most of the customers have preferred for Month-to-Month subscription followed by Two year and one year subcriptions.\n",
    "* In the month-to-month contract there is no much variation in the count of users who are likely to churn and not likely to churn.\n",
    "* In one year and two year contract users maximum number of users are less likely to churn.\n",
    "* We can understand that the customers are more satisfied with one year and two year subscription services compared to the month to month subscription users."
   ]
  },
  {
   "cell_type": "markdown",
   "metadata": {
    "id": "bwW_qAtRhYdq"
   },
   "source": [
    "**Analysis for PaperlessBilling and Churn:**"
   ]
  },
  {
   "cell_type": "code",
   "execution_count": 73,
   "metadata": {
    "colab": {
     "base_uri": "https://localhost:8080/",
     "height": 472
    },
    "id": "XyzsJBlTiGHh",
    "outputId": "fe2aacd2-1469-4568-ddef-c1e9d7cd0163"
   },
   "outputs": [
    {
     "data": {
      "image/png": "[encoded data removed]",
      "text/plain": [
       "<Figure size 640x480 with 1 Axes>"
      ]
     },
     "metadata": {},
     "output_type": "display_data"
    }
   ],
   "source": [
    "# Calculate the count of churn status and PaperlessBilling service status\n",
    "churn_counts = df.groupby(['PaperlessBilling', 'Churn']).size().unstack()\n",
    "\n",
    "# Create a stacked bar chart\n",
    "churn_counts.plot(kind='bar', stacked=True)\n",
    "plt.xlabel('PaperlessBilling')\n",
    "plt.ylabel('Count')\n",
    "plt.title('Churn Status by PaperlessBilling')\n",
    "plt.xticks(rotation=0)\n",
    "plt.legend(title='Churn', loc='upper right')\n",
    "plt.show()"
   ]
  },
  {
   "cell_type": "markdown",
   "metadata": {
    "id": "jeOpQfZxiXtQ"
   },
   "source": [
    "Observation:\n",
    "* From the above plot we can find the relation between Paperless billing and Churn.\n",
    "* Most of the customers have opted for paperless billing.\n",
    "* The maximum number of customers who have chosen paperless billing and not chosen the paperless billing are less likely to churn.\n",
    "* The percentage of users who are less likely to churn is high in the case of the users who have not opted for paperless billing compared to the users who opted for paperless billing.\n",
    "* There might be some issues being faced by the customers due to paperless billing when resolved  may decrease the churn rate."
   ]
  },
  {
   "cell_type": "markdown",
   "metadata": {
    "id": "Dg6Qjbh0jqbO"
   },
   "source": [
    "**Analysis for PaymentMethod and Churn:**"
   ]
  },
  {
   "cell_type": "code",
   "execution_count": 74,
   "metadata": {
    "colab": {
     "base_uri": "https://localhost:8080/",
     "height": 595
    },
    "id": "2Zm1qza3iXCA",
    "outputId": "86986887-e634-40d7-b4a8-98af0c9c6929"
   },
   "outputs": [
    {
     "data": {
      "image/png": "[encoded data removed]",
      "text/plain": [
       "<Figure size 640x480 with 1 Axes>"
      ]
     },
     "metadata": {},
     "output_type": "display_data"
    }
   ],
   "source": [
    "# Calculate the count of churn status and PaymentMethods\n",
    "churn_counts = df.groupby(['PaymentMethod', 'Churn']).size().unstack()\n",
    "\n",
    "# Create a stacked bar chart\n",
    "churn_counts.plot(kind='bar', stacked=True)\n",
    "plt.xlabel('PaymentMethod')\n",
    "plt.ylabel('Count')\n",
    "plt.title('Churn Status by PaymentMethod')\n",
    "plt.xticks(rotation=45)\n",
    "plt.legend(title='Churn', loc='upper right')\n",
    "plt.show()"
   ]
  },
  {
   "cell_type": "markdown",
   "metadata": {
    "id": "esm3Hpr4kJw7"
   },
   "source": [
    "Observation:\n",
    "* From the above plot, we can find the relation between Payment method and churn status.\n",
    "* There are four payment methods availabe for the users to make payments.\n",
    "* Among them the most preferred method is Electronic check method.\n",
    "* Maximum number of users who have done the payments through these methods are less likely to churn.\n",
    "* In the electronic check payment method, the count of users who have their churn status as yes is not much less than the count of users who have their churn status as no.\n",
    "* Customers might be facing some issues with making payment through electronic check which shows the increase in churn rate compared to other methods."
   ]
  },
  {
   "cell_type": "markdown",
   "metadata": {
    "id": "05C0M2F0lpFq"
   },
   "source": [
    "**Analysis for MonthlyCharges and Churn:**"
   ]
  },
  {
   "cell_type": "code",
   "execution_count": 75,
   "metadata": {
    "colab": {
     "base_uri": "https://localhost:8080/",
     "height": 495
    },
    "id": "cT-nc7RPlyiE",
    "outputId": "0aa04b08-449d-42b0-99b9-8633bd5827f6"
   },
   "outputs": [
    {
     "data": {
      "text/plain": [
       "<Axes: title={'center': 'MonthlyCharges'}, xlabel='Churn'>"
      ]
     },
     "execution_count": 75,
     "metadata": {},
     "output_type": "execute_result"
    },
    {
     "data": {
      "image/png": "[encoded data removed]",
      "text/plain": [
       "<Figure size 640x480 with 1 Axes>"
      ]
     },
     "metadata": {},
     "output_type": "display_data"
    }
   ],
   "source": [
    "# box plot to find the relation between churn status and monthly charges\n",
    "df.boxplot(by='Churn',column='MonthlyCharges')"
   ]
  },
  {
   "cell_type": "markdown",
   "metadata": {
    "id": "Ku4bCvTqmDZL"
   },
   "source": [
    "Observation:\n",
    "* From the above plot, we can find the relation between the monthly charges and the churn.\n",
    "* The maximum number of customers who have their monthly charges from 22 to 85 are less likely to churn.\n",
    "* The customers who have their monthly charges from 58 to 95 are more likely to churn.\n",
    "* Those customers who are more likely to churn may be facing some issues with the services which led to increase in the churn rate."
   ]
  },
  {
   "cell_type": "markdown",
   "metadata": {
    "id": "XOCfSynMnwCA"
   },
   "source": [
    "**Analysis for TotalCharges and Churn:**"
   ]
  },
  {
   "cell_type": "code",
   "execution_count": 76,
   "metadata": {
    "colab": {
     "base_uri": "https://localhost:8080/",
     "height": 495
    },
    "id": "2g_i87min3LS",
    "outputId": "7ba14ca5-cabb-4cda-d11a-0ed6f1a59215"
   },
   "outputs": [
    {
     "data": {
      "text/plain": [
       "<Axes: title={'center': 'TotalCharges'}, xlabel='Churn'>"
      ]
     },
     "execution_count": 76,
     "metadata": {},
     "output_type": "execute_result"
    },
    {
     "data": {
      "image/png": "[encoded data removed]",
      "text/plain": [
       "<Figure size 640x480 with 1 Axes>"
      ]
     },
     "metadata": {},
     "output_type": "display_data"
    }
   ],
   "source": [
    "# box plot to find the relation between churn status and total charges\n",
    "df.boxplot(by='Churn',column='TotalCharges')"
   ]
  },
  {
   "cell_type": "markdown",
   "metadata": {
    "id": "pu6g9go4oGdC"
   },
   "source": [
    "Observation:\n",
    "* From the above plot, we can find the relation between the total charges and the churn.\n",
    "* Maximum number of users have their total charges in the range of 18 to 4000.\n",
    "* These customers are less likely to churn.\n",
    "* Few customers have their total charges from 18 to 2200 are more likely to churn.\n",
    "* There are some outliers where the churn status is yes which shows that these customers have higher total charges greater than 5000 and there are also the customers with total charges greater than 8000.\n",
    "* Those customers with high total charges might be using the services from a long time which shows that customers might not be satisfied with the services which led to the increase in the churn rate."
   ]
  },
  {
   "cell_type": "markdown",
   "metadata": {
    "id": "y1YImDvGpqY5"
   },
   "source": [
    "# Insights:"
   ]
  },
  {
   "cell_type": "markdown",
   "metadata": {
    "id": "Tb8xb_ADpuC-"
   },
   "source": [
    "Based on the provided observations, here's a final conclusion on the relationship between various features and churn status:\n",
    "\n",
    "* Gender: The majority of both male and female customers are likely to continue with their subscriptions. There is no significant difference in churn rates between genders. Therefore, gender does not appear to be a strong factor influencing churn.\n",
    "\n",
    "* Senior Citizenship: The majority of customers are not senior citizens (age less than 60) and are more likely to continue with the services. Among senior citizens, most of them are also likely to continue with their services, while a small number of senior citizens are likely to discontinue their subscriptions. However, the overall impact of senior citizenship on churn is relatively minor compared to other factors.\n",
    "\n",
    "* Partner: Having a partner does not seem to have a significant impact on churn.\n",
    "\n",
    "* Dependents: Having or not having dependents does not appear to significantly affect churn.\n",
    "\n",
    "* Tenure: Customers with longer tenure are less likely to churn, while those with shorter tenure are more likely to churn. Tenure is an important factor influencing churn.\n",
    "\n",
    "* Phone Service: The usage of phone service does not seem to have a significant impact on churn.\n",
    "\n",
    "* Internet Service: DSL users have lower churn rates compared to fiber optic users. Customers without internet service also have lower churn rates.\n",
    "\n",
    "* Online Security: Customers who have subscribed to online security services are less likely to churn.\n",
    "\n",
    "* Online Backup: Customers who have subscribed to online backup services are less likely to churn.\n",
    "\n",
    "* Device Protection: Customers who have subscribed to device protection services are less likely to churn.\n",
    "\n",
    "* Tech Support: The availability of tech support does not seem to have a significant impact on churn.\n",
    "\n",
    "* Streaming TV and Streaming Movies: Subscribing to these services does not appear to have a significant impact on churn.\n",
    "\n",
    "* Contract: Customers with one-year and two-year contracts have lower churn rates compared to month-to-month subscribers.\n",
    "\n",
    "* Paperless Billing: Customers who have opted for paperless billing have slightly higher churn rates compared to those who have not.\n",
    "\n",
    "* Payment Method: The choice of payment method does not seem to have a significant impact on churn.\n",
    "\n",
    "* Monthly Charges: Customers with lower monthly charges are less likely to churn, while those with higher monthly charges are more likely to churn.\n",
    "\n",
    "* Total Charges: Customers with moderate total charges are less likely to churn. However, some outliers with high total charges may also be more likely to churn.\n",
    "\n",
    "In summary, factors such as tenure, internet service type, additional services (online security, online backup, device protection), contract type, and monthly charges can significantly influence churn rates. However, while there may be slight variations in churn rates based on gender and senior citizenship, these factors alone do not have a strong influence on churn. Other factors like having a partner, dependents, phone service, and payment method do not seem to have a significant impact on churn.\n",
    "\n",
    "\n",
    "\n"
   ]
  },
  {
   "cell_type": "markdown",
   "metadata": {
    "id": "YF3WrMGbu8v3"
   },
   "source": [
    "# Recommendations:"
   ]
  },
  {
   "cell_type": "markdown",
   "metadata": {
    "id": "t8HQuOXQvD1G"
   },
   "source": [
    "Based on the Insights drawn from the observations, here are some recommendations for reducing churn:\n",
    "\n",
    "* Improve Customer Onboarding: Since customers with shorter tenure are more likely to churn, focus on providing a positive onboarding experience to new customers. Offer personalized guidance, assistance, and resources to help them understand and make the most of your services.\n",
    "\n",
    "* Enhance Internet Service Experience: Pay attention to the needs and satisfaction levels of customers using fiber optic internet service. Identify and address any issues or concerns they may have to improve their overall experience. Additionally, consider offering incentives or promotions to encourage customers without internet service to consider subscribing, as they have lower churn rates.\n",
    "\n",
    "* Promote Additional Services: Emphasize the benefits and value of additional services such as online security, online backup, and device protection. These services have been shown to reduce churn, so market them effectively and highlight how they can enhance the customer's experience and protect their data.\n",
    "\n",
    "* Long-Term Contracts: Encourage customers to opt for longer-term contracts (one-year or two-year) by offering incentives such as discounted pricing or additional benefits. These contracts have lower churn rates compared to month-to-month subscriptions, indicating that customers value stability and commitment.\n",
    "\n",
    "* Address Paperless Billing Concerns: Investigate the reasons behind the slightly higher churn rates among customers who have opted for paperless billing. Address any issues or challenges they may be facing, such as difficulties in understanding or managing electronic bills. Provide clear communication, support, and user-friendly interfaces to improve the paperless billing experience.\n",
    "\n",
    "* Optimize Pricing Strategies: Analyze the relationship between monthly charges and churn rates. Consider adjusting pricing plans to align with customer preferences and market conditions. Find a balance between competitive pricing and maintaining sustainable revenue while ensuring customers perceive the value in the services they receive.\n",
    "\n",
    "* Proactive Customer Support: While tech support does not significantly impact churn, consider providing proactive support and resources to address common customer concerns or technical issues. This can help improve customer satisfaction and reduce the likelihood of churn.\n",
    "\n",
    "* Analyze High Total Charges: Investigate the outliers with high total charges who are more likely to churn. Determine the reasons behind their dissatisfaction and explore potential solutions to address their concerns. This could involve reviewing pricing structures, offering tailored packages, or providing additional value-added services.\n",
    "\n",
    "* Regularly monitoring the churn rates, conducting customer surveys, and gathering feedback would be useful to continuously improve the services and retain customers."
   ]
  },
  {
   "cell_type": "markdown",
   "metadata": {
    "id": "voA7DB_dwLh5"
   },
   "source": [
    "## Sprint 2 - Data Preparation and Model Building\n"
   ]
  },
  {
   "cell_type": "code",
   "execution_count": 77,
   "metadata": {},
   "outputs": [
    {
     "data": {
      "text/html": [
       "<div>\n",
       "<style scoped>\n",
       "    .dataframe tbody tr th:only-of-type {\n",
       "        vertical-align: middle;\n",
       "    }\n",
       "\n",
       "    .dataframe tbody tr th {\n",
       "        vertical-align: top;\n",
       "    }\n",
       "\n",
       "    .dataframe thead th {\n",
       "        text-align: right;\n",
       "    }\n",
       "</style>\n",
       "<table border=\"1\" class=\"dataframe\">\n",
       "  <thead>\n",
       "    <tr style=\"text-align: right;\">\n",
       "      <th></th>\n",
       "      <th>customerID</th>\n",
       "      <th>gender</th>\n",
       "      <th>SeniorCitizen</th>\n",
       "      <th>Partner</th>\n",
       "      <th>Dependents</th>\n",
       "      <th>tenure</th>\n",
       "      <th>PhoneService</th>\n",
       "      <th>MultipleLines</th>\n",
       "      <th>InternetService</th>\n",
       "      <th>OnlineSecurity</th>\n",
       "      <th>...</th>\n",
       "      <th>DeviceProtection</th>\n",
       "      <th>TechSupport</th>\n",
       "      <th>StreamingTV</th>\n",
       "      <th>StreamingMovies</th>\n",
       "      <th>Contract</th>\n",
       "      <th>PaperlessBilling</th>\n",
       "      <th>PaymentMethod</th>\n",
       "      <th>MonthlyCharges</th>\n",
       "      <th>TotalCharges</th>\n",
       "      <th>Churn</th>\n",
       "    </tr>\n",
       "  </thead>\n",
       "  <tbody>\n",
       "    <tr>\n",
       "      <th>0</th>\n",
       "      <td>7590-VHVEG</td>\n",
       "      <td>Female</td>\n",
       "      <td>0</td>\n",
       "      <td>Yes</td>\n",
       "      <td>No</td>\n",
       "      <td>1</td>\n",
       "      <td>No</td>\n",
       "      <td>No phone service</td>\n",
       "      <td>DSL</td>\n",
       "      <td>No</td>\n",
       "      <td>...</td>\n",
       "      <td>No</td>\n",
       "      <td>No</td>\n",
       "      <td>No</td>\n",
       "      <td>No</td>\n",
       "      <td>Month-to-month</td>\n",
       "      <td>Yes</td>\n",
       "      <td>Electronic check</td>\n",
       "      <td>29.85</td>\n",
       "      <td>29.85</td>\n",
       "      <td>No</td>\n",
       "    </tr>\n",
       "    <tr>\n",
       "      <th>1</th>\n",
       "      <td>5575-GNVDE</td>\n",
       "      <td>Male</td>\n",
       "      <td>0</td>\n",
       "      <td>No</td>\n",
       "      <td>No</td>\n",
       "      <td>34</td>\n",
       "      <td>Yes</td>\n",
       "      <td>No</td>\n",
       "      <td>DSL</td>\n",
       "      <td>Yes</td>\n",
       "      <td>...</td>\n",
       "      <td>Yes</td>\n",
       "      <td>No</td>\n",
       "      <td>No</td>\n",
       "      <td>No</td>\n",
       "      <td>One year</td>\n",
       "      <td>No</td>\n",
       "      <td>Mailed check</td>\n",
       "      <td>56.95</td>\n",
       "      <td>1889.50</td>\n",
       "      <td>No</td>\n",
       "    </tr>\n",
       "    <tr>\n",
       "      <th>2</th>\n",
       "      <td>3668-QPYBK</td>\n",
       "      <td>Male</td>\n",
       "      <td>0</td>\n",
       "      <td>No</td>\n",
       "      <td>No</td>\n",
       "      <td>2</td>\n",
       "      <td>Yes</td>\n",
       "      <td>No</td>\n",
       "      <td>DSL</td>\n",
       "      <td>Yes</td>\n",
       "      <td>...</td>\n",
       "      <td>No</td>\n",
       "      <td>No</td>\n",
       "      <td>No</td>\n",
       "      <td>No</td>\n",
       "      <td>Month-to-month</td>\n",
       "      <td>Yes</td>\n",
       "      <td>Mailed check</td>\n",
       "      <td>53.85</td>\n",
       "      <td>108.15</td>\n",
       "      <td>Yes</td>\n",
       "    </tr>\n",
       "    <tr>\n",
       "      <th>3</th>\n",
       "      <td>7795-CFOCW</td>\n",
       "      <td>Male</td>\n",
       "      <td>0</td>\n",
       "      <td>No</td>\n",
       "      <td>No</td>\n",
       "      <td>45</td>\n",
       "      <td>No</td>\n",
       "      <td>No phone service</td>\n",
       "      <td>DSL</td>\n",
       "      <td>Yes</td>\n",
       "      <td>...</td>\n",
       "      <td>Yes</td>\n",
       "      <td>Yes</td>\n",
       "      <td>No</td>\n",
       "      <td>No</td>\n",
       "      <td>One year</td>\n",
       "      <td>No</td>\n",
       "      <td>Bank transfer (automatic)</td>\n",
       "      <td>42.30</td>\n",
       "      <td>1840.75</td>\n",
       "      <td>No</td>\n",
       "    </tr>\n",
       "    <tr>\n",
       "      <th>4</th>\n",
       "      <td>9237-HQITU</td>\n",
       "      <td>Female</td>\n",
       "      <td>0</td>\n",
       "      <td>No</td>\n",
       "      <td>No</td>\n",
       "      <td>2</td>\n",
       "      <td>Yes</td>\n",
       "      <td>No</td>\n",
       "      <td>Fiber optic</td>\n",
       "      <td>No</td>\n",
       "      <td>...</td>\n",
       "      <td>No</td>\n",
       "      <td>No</td>\n",
       "      <td>No</td>\n",
       "      <td>No</td>\n",
       "      <td>Month-to-month</td>\n",
       "      <td>Yes</td>\n",
       "      <td>Electronic check</td>\n",
       "      <td>70.70</td>\n",
       "      <td>151.65</td>\n",
       "      <td>Yes</td>\n",
       "    </tr>\n",
       "  </tbody>\n",
       "</table>\n",
       "<p>5 rows × 21 columns</p>\n",
       "</div>"
      ],
      "text/plain": [
       "   customerID  gender  SeniorCitizen Partner Dependents  tenure PhoneService  \\\n",
       "0  7590-VHVEG  Female              0     Yes         No       1           No   \n",
       "1  5575-GNVDE    Male              0      No         No      34          Yes   \n",
       "2  3668-QPYBK    Male              0      No         No       2          Yes   \n",
       "3  7795-CFOCW    Male              0      No         No      45           No   \n",
       "4  9237-HQITU  Female              0      No         No       2          Yes   \n",
       "\n",
       "      MultipleLines InternetService OnlineSecurity  ... DeviceProtection  \\\n",
       "0  No phone service             DSL             No  ...               No   \n",
       "1                No             DSL            Yes  ...              Yes   \n",
       "2                No             DSL            Yes  ...               No   \n",
       "3  No phone service             DSL            Yes  ...              Yes   \n",
       "4                No     Fiber optic             No  ...               No   \n",
       "\n",
       "  TechSupport StreamingTV StreamingMovies        Contract PaperlessBilling  \\\n",
       "0          No          No              No  Month-to-month              Yes   \n",
       "1          No          No              No        One year               No   \n",
       "2          No          No              No  Month-to-month              Yes   \n",
       "3         Yes          No              No        One year               No   \n",
       "4          No          No              No  Month-to-month              Yes   \n",
       "\n",
       "               PaymentMethod MonthlyCharges  TotalCharges  Churn  \n",
       "0           Electronic check          29.85         29.85     No  \n",
       "1               Mailed check          56.95       1889.50     No  \n",
       "2               Mailed check          53.85        108.15    Yes  \n",
       "3  Bank transfer (automatic)          42.30       1840.75     No  \n",
       "4           Electronic check          70.70        151.65    Yes  \n",
       "\n",
       "[5 rows x 21 columns]"
      ]
     },
     "execution_count": 77,
     "metadata": {},
     "output_type": "execute_result"
    }
   ],
   "source": [
    "df.head()"
   ]
  },
  {
   "cell_type": "code",
   "execution_count": 78,
   "metadata": {},
   "outputs": [
    {
     "name": "stdout",
     "output_type": "stream",
     "text": [
      "<class 'pandas.core.frame.DataFrame'>\n",
      "RangeIndex: 7043 entries, 0 to 7042\n",
      "Data columns (total 21 columns):\n",
      " #   Column            Non-Null Count  Dtype  \n",
      "---  ------            --------------  -----  \n",
      " 0   customerID        7043 non-null   object \n",
      " 1   gender            7043 non-null   object \n",
      " 2   SeniorCitizen     7043 non-null   int64  \n",
      " 3   Partner           7043 non-null   object \n",
      " 4   Dependents        7043 non-null   object \n",
      " 5   tenure            7043 non-null   int64  \n",
      " 6   PhoneService      7043 non-null   object \n",
      " 7   MultipleLines     7043 non-null   object \n",
      " 8   InternetService   7043 non-null   object \n",
      " 9   OnlineSecurity    7043 non-null   object \n",
      " 10  OnlineBackup      7043 non-null   object \n",
      " 11  DeviceProtection  7043 non-null   object \n",
      " 12  TechSupport       7043 non-null   object \n",
      " 13  StreamingTV       7043 non-null   object \n",
      " 14  StreamingMovies   7043 non-null   object \n",
      " 15  Contract          7043 non-null   object \n",
      " 16  PaperlessBilling  7043 non-null   object \n",
      " 17  PaymentMethod     7043 non-null   object \n",
      " 18  MonthlyCharges    7043 non-null   float64\n",
      " 19  TotalCharges      7043 non-null   float64\n",
      " 20  Churn             7043 non-null   object \n",
      "dtypes: float64(2), int64(2), object(17)\n",
      "memory usage: 1.1+ MB\n"
     ]
    }
   ],
   "source": [
    "df.info()"
   ]
  },
  {
   "cell_type": "markdown",
   "metadata": {},
   "source": [
    "### Identify the input and output/target variables.\n",
    "\n",
    "input variables(X) - tenure, InternetService, OnlineSecurity,OnlineBackup,DeviceProtection,TechSupport,Contract,PaperlessBilling,MonthlyCharges,TotalCharges  \n",
    "target variable(y) - churn\n",
    "\n",
    "### Identify the type of ML Task.  \n",
    "ML Task- Classification (Supervised Learning)\n",
    "\n",
    "### Identify the Evaluation Metric.  \n",
    "Evaluation metric for classification task - Accuracy"
   ]
  },
  {
   "cell_type": "code",
   "execution_count": 79,
   "metadata": {},
   "outputs": [],
   "source": [
    "# input variables\n",
    "X=df[['tenure', 'InternetService', 'OnlineSecurity','OnlineBackup','DeviceProtection','TechSupport','Contract','PaperlessBilling','MonthlyCharges','TotalCharges']]\n",
    "# target variable\n",
    "y=df['Churn']"
   ]
  },
  {
   "cell_type": "code",
   "execution_count": 80,
   "metadata": {},
   "outputs": [],
   "source": [
    "from sklearn.model_selection import train_test_split\n",
    "X_train,X_test,y_train,y_test=train_test_split(X,y,test_size=0.25,random_state=100)"
   ]
  },
  {
   "cell_type": "code",
   "execution_count": 81,
   "metadata": {},
   "outputs": [
    {
     "name": "stdout",
     "output_type": "stream",
     "text": [
      "(5282, 10) (5282,)\n",
      "(1761, 10) (1761,)\n"
     ]
    }
   ],
   "source": [
    "print(X_train.shape,y_train.shape)\n",
    "print(X_test.shape,y_test.shape)"
   ]
  },
  {
   "cell_type": "code",
   "execution_count": 82,
   "metadata": {},
   "outputs": [
    {
     "data": {
      "text/html": [
       "<div>\n",
       "<style scoped>\n",
       "    .dataframe tbody tr th:only-of-type {\n",
       "        vertical-align: middle;\n",
       "    }\n",
       "\n",
       "    .dataframe tbody tr th {\n",
       "        vertical-align: top;\n",
       "    }\n",
       "\n",
       "    .dataframe thead th {\n",
       "        text-align: right;\n",
       "    }\n",
       "</style>\n",
       "<table border=\"1\" class=\"dataframe\">\n",
       "  <thead>\n",
       "    <tr style=\"text-align: right;\">\n",
       "      <th></th>\n",
       "      <th>tenure</th>\n",
       "      <th>InternetService</th>\n",
       "      <th>OnlineSecurity</th>\n",
       "      <th>OnlineBackup</th>\n",
       "      <th>DeviceProtection</th>\n",
       "      <th>TechSupport</th>\n",
       "      <th>Contract</th>\n",
       "      <th>PaperlessBilling</th>\n",
       "      <th>MonthlyCharges</th>\n",
       "      <th>TotalCharges</th>\n",
       "    </tr>\n",
       "  </thead>\n",
       "  <tbody>\n",
       "    <tr>\n",
       "      <th>6630</th>\n",
       "      <td>16</td>\n",
       "      <td>Fiber optic</td>\n",
       "      <td>No</td>\n",
       "      <td>No</td>\n",
       "      <td>No</td>\n",
       "      <td>No</td>\n",
       "      <td>Month-to-month</td>\n",
       "      <td>Yes</td>\n",
       "      <td>78.75</td>\n",
       "      <td>1218.25</td>\n",
       "    </tr>\n",
       "    <tr>\n",
       "      <th>7013</th>\n",
       "      <td>40</td>\n",
       "      <td>Fiber optic</td>\n",
       "      <td>No</td>\n",
       "      <td>Yes</td>\n",
       "      <td>Yes</td>\n",
       "      <td>No</td>\n",
       "      <td>Month-to-month</td>\n",
       "      <td>Yes</td>\n",
       "      <td>93.40</td>\n",
       "      <td>3756.40</td>\n",
       "    </tr>\n",
       "    <tr>\n",
       "      <th>2224</th>\n",
       "      <td>17</td>\n",
       "      <td>Fiber optic</td>\n",
       "      <td>No</td>\n",
       "      <td>Yes</td>\n",
       "      <td>No</td>\n",
       "      <td>No</td>\n",
       "      <td>Month-to-month</td>\n",
       "      <td>Yes</td>\n",
       "      <td>76.45</td>\n",
       "      <td>1233.40</td>\n",
       "    </tr>\n",
       "    <tr>\n",
       "      <th>6580</th>\n",
       "      <td>49</td>\n",
       "      <td>DSL</td>\n",
       "      <td>No</td>\n",
       "      <td>Yes</td>\n",
       "      <td>Yes</td>\n",
       "      <td>No</td>\n",
       "      <td>One year</td>\n",
       "      <td>No</td>\n",
       "      <td>78.00</td>\n",
       "      <td>3824.20</td>\n",
       "    </tr>\n",
       "    <tr>\n",
       "      <th>1501</th>\n",
       "      <td>13</td>\n",
       "      <td>No</td>\n",
       "      <td>No internet service</td>\n",
       "      <td>No internet service</td>\n",
       "      <td>No internet service</td>\n",
       "      <td>No internet service</td>\n",
       "      <td>Two year</td>\n",
       "      <td>No</td>\n",
       "      <td>19.95</td>\n",
       "      <td>243.65</td>\n",
       "    </tr>\n",
       "  </tbody>\n",
       "</table>\n",
       "</div>"
      ],
      "text/plain": [
       "      tenure InternetService       OnlineSecurity         OnlineBackup  \\\n",
       "6630      16     Fiber optic                   No                   No   \n",
       "7013      40     Fiber optic                   No                  Yes   \n",
       "2224      17     Fiber optic                   No                  Yes   \n",
       "6580      49             DSL                   No                  Yes   \n",
       "1501      13              No  No internet service  No internet service   \n",
       "\n",
       "         DeviceProtection          TechSupport        Contract  \\\n",
       "6630                   No                   No  Month-to-month   \n",
       "7013                  Yes                   No  Month-to-month   \n",
       "2224                   No                   No  Month-to-month   \n",
       "6580                  Yes                   No        One year   \n",
       "1501  No internet service  No internet service        Two year   \n",
       "\n",
       "     PaperlessBilling  MonthlyCharges  TotalCharges  \n",
       "6630              Yes           78.75       1218.25  \n",
       "7013              Yes           93.40       3756.40  \n",
       "2224              Yes           76.45       1233.40  \n",
       "6580               No           78.00       3824.20  \n",
       "1501               No           19.95        243.65  "
      ]
     },
     "execution_count": 82,
     "metadata": {},
     "output_type": "execute_result"
    }
   ],
   "source": [
    "X_train.head()"
   ]
  },
  {
   "cell_type": "markdown",
   "metadata": {},
   "source": [
    "## Data Preparation on train data"
   ]
  },
  {
   "cell_type": "code",
   "execution_count": 86,
   "metadata": {},
   "outputs": [],
   "source": [
    "X_train_num=X_train.select_dtypes(['int64','float64'])\n",
    "X_train_cat=X_train.select_dtypes('object')\n"
   ]
  },
  {
   "cell_type": "code",
   "execution_count": 87,
   "metadata": {},
   "outputs": [
    {
     "data": {
      "text/html": [
       "<div>\n",
       "<style scoped>\n",
       "    .dataframe tbody tr th:only-of-type {\n",
       "        vertical-align: middle;\n",
       "    }\n",
       "\n",
       "    .dataframe tbody tr th {\n",
       "        vertical-align: top;\n",
       "    }\n",
       "\n",
       "    .dataframe thead th {\n",
       "        text-align: right;\n",
       "    }\n",
       "</style>\n",
       "<table border=\"1\" class=\"dataframe\">\n",
       "  <thead>\n",
       "    <tr style=\"text-align: right;\">\n",
       "      <th></th>\n",
       "      <th>tenure</th>\n",
       "      <th>MonthlyCharges</th>\n",
       "      <th>TotalCharges</th>\n",
       "    </tr>\n",
       "  </thead>\n",
       "  <tbody>\n",
       "    <tr>\n",
       "      <th>6630</th>\n",
       "      <td>16</td>\n",
       "      <td>78.75</td>\n",
       "      <td>1218.25</td>\n",
       "    </tr>\n",
       "    <tr>\n",
       "      <th>7013</th>\n",
       "      <td>40</td>\n",
       "      <td>93.40</td>\n",
       "      <td>3756.40</td>\n",
       "    </tr>\n",
       "    <tr>\n",
       "      <th>2224</th>\n",
       "      <td>17</td>\n",
       "      <td>76.45</td>\n",
       "      <td>1233.40</td>\n",
       "    </tr>\n",
       "    <tr>\n",
       "      <th>6580</th>\n",
       "      <td>49</td>\n",
       "      <td>78.00</td>\n",
       "      <td>3824.20</td>\n",
       "    </tr>\n",
       "    <tr>\n",
       "      <th>1501</th>\n",
       "      <td>13</td>\n",
       "      <td>19.95</td>\n",
       "      <td>243.65</td>\n",
       "    </tr>\n",
       "  </tbody>\n",
       "</table>\n",
       "</div>"
      ],
      "text/plain": [
       "      tenure  MonthlyCharges  TotalCharges\n",
       "6630      16           78.75       1218.25\n",
       "7013      40           93.40       3756.40\n",
       "2224      17           76.45       1233.40\n",
       "6580      49           78.00       3824.20\n",
       "1501      13           19.95        243.65"
      ]
     },
     "execution_count": 87,
     "metadata": {},
     "output_type": "execute_result"
    }
   ],
   "source": [
    "X_train_num.head()"
   ]
  },
  {
   "cell_type": "code",
   "execution_count": 88,
   "metadata": {},
   "outputs": [
    {
     "data": {
      "text/html": [
       "<div>\n",
       "<style scoped>\n",
       "    .dataframe tbody tr th:only-of-type {\n",
       "        vertical-align: middle;\n",
       "    }\n",
       "\n",
       "    .dataframe tbody tr th {\n",
       "        vertical-align: top;\n",
       "    }\n",
       "\n",
       "    .dataframe thead th {\n",
       "        text-align: right;\n",
       "    }\n",
       "</style>\n",
       "<table border=\"1\" class=\"dataframe\">\n",
       "  <thead>\n",
       "    <tr style=\"text-align: right;\">\n",
       "      <th></th>\n",
       "      <th>tenure</th>\n",
       "      <th>MonthlyCharges</th>\n",
       "      <th>TotalCharges</th>\n",
       "    </tr>\n",
       "  </thead>\n",
       "  <tbody>\n",
       "    <tr>\n",
       "      <th>6630</th>\n",
       "      <td>-0.669552</td>\n",
       "      <td>0.471732</td>\n",
       "      <td>-0.471643</td>\n",
       "    </tr>\n",
       "    <tr>\n",
       "      <th>7013</th>\n",
       "      <td>0.305416</td>\n",
       "      <td>0.957819</td>\n",
       "      <td>0.649818</td>\n",
       "    </tr>\n",
       "    <tr>\n",
       "      <th>2224</th>\n",
       "      <td>-0.628928</td>\n",
       "      <td>0.395418</td>\n",
       "      <td>-0.464949</td>\n",
       "    </tr>\n",
       "    <tr>\n",
       "      <th>6580</th>\n",
       "      <td>0.671028</td>\n",
       "      <td>0.446847</td>\n",
       "      <td>0.679775</td>\n",
       "    </tr>\n",
       "    <tr>\n",
       "      <th>1501</th>\n",
       "      <td>-0.791422</td>\n",
       "      <td>-1.479251</td>\n",
       "      <td>-0.902262</td>\n",
       "    </tr>\n",
       "  </tbody>\n",
       "</table>\n",
       "</div>"
      ],
      "text/plain": [
       "        tenure  MonthlyCharges  TotalCharges\n",
       "6630 -0.669552        0.471732     -0.471643\n",
       "7013  0.305416        0.957819      0.649818\n",
       "2224 -0.628928        0.395418     -0.464949\n",
       "6580  0.671028        0.446847      0.679775\n",
       "1501 -0.791422       -1.479251     -0.902262"
      ]
     },
     "execution_count": 88,
     "metadata": {},
     "output_type": "execute_result"
    }
   ],
   "source": [
    "# scaling the numerical features\n",
    "from sklearn.preprocessing import StandardScaler\n",
    "\n",
    "# Creating object of StandardScaler class\n",
    "scaler = StandardScaler()\n",
    "\n",
    "X_train_num_transformed = pd.DataFrame(scaler.fit_transform(X_train_num), \n",
    "\t\t\t\t\t\t\t\t\tcolumns = X_train_num.columns, \n",
    "\t\t\t\t\t\t\t\t\tindex = X_train_num.index)\n",
    "\n",
    "X_train_num_transformed.head()"
   ]
  },
  {
   "cell_type": "code",
   "execution_count": 89,
   "metadata": {},
   "outputs": [
    {
     "data": {
      "text/html": [
       "<div>\n",
       "<style scoped>\n",
       "    .dataframe tbody tr th:only-of-type {\n",
       "        vertical-align: middle;\n",
       "    }\n",
       "\n",
       "    .dataframe tbody tr th {\n",
       "        vertical-align: top;\n",
       "    }\n",
       "\n",
       "    .dataframe thead th {\n",
       "        text-align: right;\n",
       "    }\n",
       "</style>\n",
       "<table border=\"1\" class=\"dataframe\">\n",
       "  <thead>\n",
       "    <tr style=\"text-align: right;\">\n",
       "      <th></th>\n",
       "      <th>InternetService</th>\n",
       "      <th>OnlineSecurity</th>\n",
       "      <th>OnlineBackup</th>\n",
       "      <th>DeviceProtection</th>\n",
       "      <th>TechSupport</th>\n",
       "      <th>Contract</th>\n",
       "      <th>PaperlessBilling</th>\n",
       "    </tr>\n",
       "  </thead>\n",
       "  <tbody>\n",
       "    <tr>\n",
       "      <th>6630</th>\n",
       "      <td>Fiber optic</td>\n",
       "      <td>No</td>\n",
       "      <td>No</td>\n",
       "      <td>No</td>\n",
       "      <td>No</td>\n",
       "      <td>Month-to-month</td>\n",
       "      <td>Yes</td>\n",
       "    </tr>\n",
       "    <tr>\n",
       "      <th>7013</th>\n",
       "      <td>Fiber optic</td>\n",
       "      <td>No</td>\n",
       "      <td>Yes</td>\n",
       "      <td>Yes</td>\n",
       "      <td>No</td>\n",
       "      <td>Month-to-month</td>\n",
       "      <td>Yes</td>\n",
       "    </tr>\n",
       "    <tr>\n",
       "      <th>2224</th>\n",
       "      <td>Fiber optic</td>\n",
       "      <td>No</td>\n",
       "      <td>Yes</td>\n",
       "      <td>No</td>\n",
       "      <td>No</td>\n",
       "      <td>Month-to-month</td>\n",
       "      <td>Yes</td>\n",
       "    </tr>\n",
       "    <tr>\n",
       "      <th>6580</th>\n",
       "      <td>DSL</td>\n",
       "      <td>No</td>\n",
       "      <td>Yes</td>\n",
       "      <td>Yes</td>\n",
       "      <td>No</td>\n",
       "      <td>One year</td>\n",
       "      <td>No</td>\n",
       "    </tr>\n",
       "    <tr>\n",
       "      <th>1501</th>\n",
       "      <td>No</td>\n",
       "      <td>No internet service</td>\n",
       "      <td>No internet service</td>\n",
       "      <td>No internet service</td>\n",
       "      <td>No internet service</td>\n",
       "      <td>Two year</td>\n",
       "      <td>No</td>\n",
       "    </tr>\n",
       "  </tbody>\n",
       "</table>\n",
       "</div>"
      ],
      "text/plain": [
       "     InternetService       OnlineSecurity         OnlineBackup  \\\n",
       "6630     Fiber optic                   No                   No   \n",
       "7013     Fiber optic                   No                  Yes   \n",
       "2224     Fiber optic                   No                  Yes   \n",
       "6580             DSL                   No                  Yes   \n",
       "1501              No  No internet service  No internet service   \n",
       "\n",
       "         DeviceProtection          TechSupport        Contract  \\\n",
       "6630                   No                   No  Month-to-month   \n",
       "7013                  Yes                   No  Month-to-month   \n",
       "2224                   No                   No  Month-to-month   \n",
       "6580                  Yes                   No        One year   \n",
       "1501  No internet service  No internet service        Two year   \n",
       "\n",
       "     PaperlessBilling  \n",
       "6630              Yes  \n",
       "7013              Yes  \n",
       "2224              Yes  \n",
       "6580               No  \n",
       "1501               No  "
      ]
     },
     "execution_count": 89,
     "metadata": {},
     "output_type": "execute_result"
    }
   ],
   "source": [
    "X_train_cat.head()"
   ]
  },
  {
   "cell_type": "code",
   "execution_count": 90,
   "metadata": {},
   "outputs": [
    {
     "name": "stderr",
     "output_type": "stream",
     "text": [
      "C:\\Users\\Dell\\anaconda3\\lib\\site-packages\\sklearn\\preprocessing\\_encoders.py:828: FutureWarning: `sparse` was renamed to `sparse_output` in version 1.2 and will be removed in 1.4. `sparse_output` is ignored unless you leave `sparse` to its default value.\n",
      "  warnings.warn(\n"
     ]
    },
    {
     "data": {
      "text/html": [
       "<div>\n",
       "<style scoped>\n",
       "    .dataframe tbody tr th:only-of-type {\n",
       "        vertical-align: middle;\n",
       "    }\n",
       "\n",
       "    .dataframe tbody tr th {\n",
       "        vertical-align: top;\n",
       "    }\n",
       "\n",
       "    .dataframe thead th {\n",
       "        text-align: right;\n",
       "    }\n",
       "</style>\n",
       "<table border=\"1\" class=\"dataframe\">\n",
       "  <thead>\n",
       "    <tr style=\"text-align: right;\">\n",
       "      <th></th>\n",
       "      <th>InternetService_Fiber optic</th>\n",
       "      <th>InternetService_No</th>\n",
       "      <th>OnlineSecurity_No internet service</th>\n",
       "      <th>OnlineSecurity_Yes</th>\n",
       "      <th>OnlineBackup_No internet service</th>\n",
       "      <th>OnlineBackup_Yes</th>\n",
       "      <th>DeviceProtection_No internet service</th>\n",
       "      <th>DeviceProtection_Yes</th>\n",
       "      <th>TechSupport_No internet service</th>\n",
       "      <th>TechSupport_Yes</th>\n",
       "      <th>Contract_One year</th>\n",
       "      <th>Contract_Two year</th>\n",
       "      <th>PaperlessBilling_Yes</th>\n",
       "    </tr>\n",
       "  </thead>\n",
       "  <tbody>\n",
       "    <tr>\n",
       "      <th>6630</th>\n",
       "      <td>1.0</td>\n",
       "      <td>0.0</td>\n",
       "      <td>0.0</td>\n",
       "      <td>0.0</td>\n",
       "      <td>0.0</td>\n",
       "      <td>0.0</td>\n",
       "      <td>0.0</td>\n",
       "      <td>0.0</td>\n",
       "      <td>0.0</td>\n",
       "      <td>0.0</td>\n",
       "      <td>0.0</td>\n",
       "      <td>0.0</td>\n",
       "      <td>1.0</td>\n",
       "    </tr>\n",
       "    <tr>\n",
       "      <th>7013</th>\n",
       "      <td>1.0</td>\n",
       "      <td>0.0</td>\n",
       "      <td>0.0</td>\n",
       "      <td>0.0</td>\n",
       "      <td>0.0</td>\n",
       "      <td>1.0</td>\n",
       "      <td>0.0</td>\n",
       "      <td>1.0</td>\n",
       "      <td>0.0</td>\n",
       "      <td>0.0</td>\n",
       "      <td>0.0</td>\n",
       "      <td>0.0</td>\n",
       "      <td>1.0</td>\n",
       "    </tr>\n",
       "    <tr>\n",
       "      <th>2224</th>\n",
       "      <td>1.0</td>\n",
       "      <td>0.0</td>\n",
       "      <td>0.0</td>\n",
       "      <td>0.0</td>\n",
       "      <td>0.0</td>\n",
       "      <td>1.0</td>\n",
       "      <td>0.0</td>\n",
       "      <td>0.0</td>\n",
       "      <td>0.0</td>\n",
       "      <td>0.0</td>\n",
       "      <td>0.0</td>\n",
       "      <td>0.0</td>\n",
       "      <td>1.0</td>\n",
       "    </tr>\n",
       "    <tr>\n",
       "      <th>6580</th>\n",
       "      <td>0.0</td>\n",
       "      <td>0.0</td>\n",
       "      <td>0.0</td>\n",
       "      <td>0.0</td>\n",
       "      <td>0.0</td>\n",
       "      <td>1.0</td>\n",
       "      <td>0.0</td>\n",
       "      <td>1.0</td>\n",
       "      <td>0.0</td>\n",
       "      <td>0.0</td>\n",
       "      <td>1.0</td>\n",
       "      <td>0.0</td>\n",
       "      <td>0.0</td>\n",
       "    </tr>\n",
       "    <tr>\n",
       "      <th>1501</th>\n",
       "      <td>0.0</td>\n",
       "      <td>1.0</td>\n",
       "      <td>1.0</td>\n",
       "      <td>0.0</td>\n",
       "      <td>1.0</td>\n",
       "      <td>0.0</td>\n",
       "      <td>1.0</td>\n",
       "      <td>0.0</td>\n",
       "      <td>1.0</td>\n",
       "      <td>0.0</td>\n",
       "      <td>0.0</td>\n",
       "      <td>1.0</td>\n",
       "      <td>0.0</td>\n",
       "    </tr>\n",
       "  </tbody>\n",
       "</table>\n",
       "</div>"
      ],
      "text/plain": [
       "      InternetService_Fiber optic  InternetService_No  \\\n",
       "6630                          1.0                 0.0   \n",
       "7013                          1.0                 0.0   \n",
       "2224                          1.0                 0.0   \n",
       "6580                          0.0                 0.0   \n",
       "1501                          0.0                 1.0   \n",
       "\n",
       "      OnlineSecurity_No internet service  OnlineSecurity_Yes  \\\n",
       "6630                                 0.0                 0.0   \n",
       "7013                                 0.0                 0.0   \n",
       "2224                                 0.0                 0.0   \n",
       "6580                                 0.0                 0.0   \n",
       "1501                                 1.0                 0.0   \n",
       "\n",
       "      OnlineBackup_No internet service  OnlineBackup_Yes  \\\n",
       "6630                               0.0               0.0   \n",
       "7013                               0.0               1.0   \n",
       "2224                               0.0               1.0   \n",
       "6580                               0.0               1.0   \n",
       "1501                               1.0               0.0   \n",
       "\n",
       "      DeviceProtection_No internet service  DeviceProtection_Yes  \\\n",
       "6630                                   0.0                   0.0   \n",
       "7013                                   0.0                   1.0   \n",
       "2224                                   0.0                   0.0   \n",
       "6580                                   0.0                   1.0   \n",
       "1501                                   1.0                   0.0   \n",
       "\n",
       "      TechSupport_No internet service  TechSupport_Yes  Contract_One year  \\\n",
       "6630                              0.0              0.0                0.0   \n",
       "7013                              0.0              0.0                0.0   \n",
       "2224                              0.0              0.0                0.0   \n",
       "6580                              0.0              0.0                1.0   \n",
       "1501                              1.0              0.0                0.0   \n",
       "\n",
       "      Contract_Two year  PaperlessBilling_Yes  \n",
       "6630                0.0                   1.0  \n",
       "7013                0.0                   1.0  \n",
       "2224                0.0                   1.0  \n",
       "6580                0.0                   0.0  \n",
       "1501                1.0                   0.0  "
      ]
     },
     "execution_count": 90,
     "metadata": {},
     "output_type": "execute_result"
    }
   ],
   "source": [
    "# OneHotEncoding the categorical features\n",
    "from sklearn.preprocessing import OneHotEncoder\n",
    "\n",
    "# Creating object of OneHotEncoder\n",
    "encoder = OneHotEncoder(drop='first', sparse=False)\n",
    "\n",
    "X_train_cat_transformed = pd.DataFrame(encoder.fit_transform(X_train_cat), \n",
    "\t\t\t\t\t\t\t   columns=encoder.get_feature_names_out(X_train_cat.columns), \n",
    "\t\t\t\t\t\t\t   index = X_train_cat.index)\n",
    "\n",
    "X_train_cat_transformed.head()"
   ]
  },
  {
   "cell_type": "code",
   "execution_count": 91,
   "metadata": {},
   "outputs": [
    {
     "data": {
      "text/html": [
       "<div>\n",
       "<style scoped>\n",
       "    .dataframe tbody tr th:only-of-type {\n",
       "        vertical-align: middle;\n",
       "    }\n",
       "\n",
       "    .dataframe tbody tr th {\n",
       "        vertical-align: top;\n",
       "    }\n",
       "\n",
       "    .dataframe thead th {\n",
       "        text-align: right;\n",
       "    }\n",
       "</style>\n",
       "<table border=\"1\" class=\"dataframe\">\n",
       "  <thead>\n",
       "    <tr style=\"text-align: right;\">\n",
       "      <th></th>\n",
       "      <th>tenure</th>\n",
       "      <th>MonthlyCharges</th>\n",
       "      <th>TotalCharges</th>\n",
       "      <th>InternetService_Fiber optic</th>\n",
       "      <th>InternetService_No</th>\n",
       "      <th>OnlineSecurity_No internet service</th>\n",
       "      <th>OnlineSecurity_Yes</th>\n",
       "      <th>OnlineBackup_No internet service</th>\n",
       "      <th>OnlineBackup_Yes</th>\n",
       "      <th>DeviceProtection_No internet service</th>\n",
       "      <th>DeviceProtection_Yes</th>\n",
       "      <th>TechSupport_No internet service</th>\n",
       "      <th>TechSupport_Yes</th>\n",
       "      <th>Contract_One year</th>\n",
       "      <th>Contract_Two year</th>\n",
       "      <th>PaperlessBilling_Yes</th>\n",
       "    </tr>\n",
       "  </thead>\n",
       "  <tbody>\n",
       "    <tr>\n",
       "      <th>6630</th>\n",
       "      <td>-0.669552</td>\n",
       "      <td>0.471732</td>\n",
       "      <td>-0.471643</td>\n",
       "      <td>1.0</td>\n",
       "      <td>0.0</td>\n",
       "      <td>0.0</td>\n",
       "      <td>0.0</td>\n",
       "      <td>0.0</td>\n",
       "      <td>0.0</td>\n",
       "      <td>0.0</td>\n",
       "      <td>0.0</td>\n",
       "      <td>0.0</td>\n",
       "      <td>0.0</td>\n",
       "      <td>0.0</td>\n",
       "      <td>0.0</td>\n",
       "      <td>1.0</td>\n",
       "    </tr>\n",
       "    <tr>\n",
       "      <th>7013</th>\n",
       "      <td>0.305416</td>\n",
       "      <td>0.957819</td>\n",
       "      <td>0.649818</td>\n",
       "      <td>1.0</td>\n",
       "      <td>0.0</td>\n",
       "      <td>0.0</td>\n",
       "      <td>0.0</td>\n",
       "      <td>0.0</td>\n",
       "      <td>1.0</td>\n",
       "      <td>0.0</td>\n",
       "      <td>1.0</td>\n",
       "      <td>0.0</td>\n",
       "      <td>0.0</td>\n",
       "      <td>0.0</td>\n",
       "      <td>0.0</td>\n",
       "      <td>1.0</td>\n",
       "    </tr>\n",
       "    <tr>\n",
       "      <th>2224</th>\n",
       "      <td>-0.628928</td>\n",
       "      <td>0.395418</td>\n",
       "      <td>-0.464949</td>\n",
       "      <td>1.0</td>\n",
       "      <td>0.0</td>\n",
       "      <td>0.0</td>\n",
       "      <td>0.0</td>\n",
       "      <td>0.0</td>\n",
       "      <td>1.0</td>\n",
       "      <td>0.0</td>\n",
       "      <td>0.0</td>\n",
       "      <td>0.0</td>\n",
       "      <td>0.0</td>\n",
       "      <td>0.0</td>\n",
       "      <td>0.0</td>\n",
       "      <td>1.0</td>\n",
       "    </tr>\n",
       "    <tr>\n",
       "      <th>6580</th>\n",
       "      <td>0.671028</td>\n",
       "      <td>0.446847</td>\n",
       "      <td>0.679775</td>\n",
       "      <td>0.0</td>\n",
       "      <td>0.0</td>\n",
       "      <td>0.0</td>\n",
       "      <td>0.0</td>\n",
       "      <td>0.0</td>\n",
       "      <td>1.0</td>\n",
       "      <td>0.0</td>\n",
       "      <td>1.0</td>\n",
       "      <td>0.0</td>\n",
       "      <td>0.0</td>\n",
       "      <td>1.0</td>\n",
       "      <td>0.0</td>\n",
       "      <td>0.0</td>\n",
       "    </tr>\n",
       "    <tr>\n",
       "      <th>1501</th>\n",
       "      <td>-0.791422</td>\n",
       "      <td>-1.479251</td>\n",
       "      <td>-0.902262</td>\n",
       "      <td>0.0</td>\n",
       "      <td>1.0</td>\n",
       "      <td>1.0</td>\n",
       "      <td>0.0</td>\n",
       "      <td>1.0</td>\n",
       "      <td>0.0</td>\n",
       "      <td>1.0</td>\n",
       "      <td>0.0</td>\n",
       "      <td>1.0</td>\n",
       "      <td>0.0</td>\n",
       "      <td>0.0</td>\n",
       "      <td>1.0</td>\n",
       "      <td>0.0</td>\n",
       "    </tr>\n",
       "  </tbody>\n",
       "</table>\n",
       "</div>"
      ],
      "text/plain": [
       "        tenure  MonthlyCharges  TotalCharges  InternetService_Fiber optic  \\\n",
       "6630 -0.669552        0.471732     -0.471643                          1.0   \n",
       "7013  0.305416        0.957819      0.649818                          1.0   \n",
       "2224 -0.628928        0.395418     -0.464949                          1.0   \n",
       "6580  0.671028        0.446847      0.679775                          0.0   \n",
       "1501 -0.791422       -1.479251     -0.902262                          0.0   \n",
       "\n",
       "      InternetService_No  OnlineSecurity_No internet service  \\\n",
       "6630                 0.0                                 0.0   \n",
       "7013                 0.0                                 0.0   \n",
       "2224                 0.0                                 0.0   \n",
       "6580                 0.0                                 0.0   \n",
       "1501                 1.0                                 1.0   \n",
       "\n",
       "      OnlineSecurity_Yes  OnlineBackup_No internet service  OnlineBackup_Yes  \\\n",
       "6630                 0.0                               0.0               0.0   \n",
       "7013                 0.0                               0.0               1.0   \n",
       "2224                 0.0                               0.0               1.0   \n",
       "6580                 0.0                               0.0               1.0   \n",
       "1501                 0.0                               1.0               0.0   \n",
       "\n",
       "      DeviceProtection_No internet service  DeviceProtection_Yes  \\\n",
       "6630                                   0.0                   0.0   \n",
       "7013                                   0.0                   1.0   \n",
       "2224                                   0.0                   0.0   \n",
       "6580                                   0.0                   1.0   \n",
       "1501                                   1.0                   0.0   \n",
       "\n",
       "      TechSupport_No internet service  TechSupport_Yes  Contract_One year  \\\n",
       "6630                              0.0              0.0                0.0   \n",
       "7013                              0.0              0.0                0.0   \n",
       "2224                              0.0              0.0                0.0   \n",
       "6580                              0.0              0.0                1.0   \n",
       "1501                              1.0              0.0                0.0   \n",
       "\n",
       "      Contract_Two year  PaperlessBilling_Yes  \n",
       "6630                0.0                   1.0  \n",
       "7013                0.0                   1.0  \n",
       "2224                0.0                   1.0  \n",
       "6580                0.0                   0.0  \n",
       "1501                1.0                   0.0  "
      ]
     },
     "execution_count": 91,
     "metadata": {},
     "output_type": "execute_result"
    }
   ],
   "source": [
    "X_train_transformed=pd.concat([X_train_num_transformed,X_train_cat_transformed],axis=1)\n",
    "X_train_transformed.head()"
   ]
  },
  {
   "cell_type": "markdown",
   "metadata": {},
   "source": [
    "## Data Preparation on test data"
   ]
  },
  {
   "cell_type": "code",
   "execution_count": 92,
   "metadata": {},
   "outputs": [],
   "source": [
    "X_test_num=X_test.select_dtypes(include=['int64','float64'])\n",
    "X_test_cat=X_test.select_dtypes(include='object')"
   ]
  },
  {
   "cell_type": "code",
   "execution_count": 93,
   "metadata": {},
   "outputs": [
    {
     "data": {
      "text/html": [
       "<div>\n",
       "<style scoped>\n",
       "    .dataframe tbody tr th:only-of-type {\n",
       "        vertical-align: middle;\n",
       "    }\n",
       "\n",
       "    .dataframe tbody tr th {\n",
       "        vertical-align: top;\n",
       "    }\n",
       "\n",
       "    .dataframe thead th {\n",
       "        text-align: right;\n",
       "    }\n",
       "</style>\n",
       "<table border=\"1\" class=\"dataframe\">\n",
       "  <thead>\n",
       "    <tr style=\"text-align: right;\">\n",
       "      <th></th>\n",
       "      <th>tenure</th>\n",
       "      <th>MonthlyCharges</th>\n",
       "      <th>TotalCharges</th>\n",
       "    </tr>\n",
       "  </thead>\n",
       "  <tbody>\n",
       "    <tr>\n",
       "      <th>4880</th>\n",
       "      <td>0.711652</td>\n",
       "      <td>-1.459343</td>\n",
       "      <td>-0.538184</td>\n",
       "    </tr>\n",
       "    <tr>\n",
       "      <th>1541</th>\n",
       "      <td>1.605372</td>\n",
       "      <td>-1.482569</td>\n",
       "      <td>-0.376271</td>\n",
       "    </tr>\n",
       "    <tr>\n",
       "      <th>1289</th>\n",
       "      <td>1.239759</td>\n",
       "      <td>0.141591</td>\n",
       "      <td>0.806650</td>\n",
       "    </tr>\n",
       "    <tr>\n",
       "      <th>5745</th>\n",
       "      <td>1.158512</td>\n",
       "      <td>-1.338236</td>\n",
       "      <td>-0.371367</td>\n",
       "    </tr>\n",
       "    <tr>\n",
       "      <th>4873</th>\n",
       "      <td>-1.035164</td>\n",
       "      <td>-1.500818</td>\n",
       "      <td>-0.945872</td>\n",
       "    </tr>\n",
       "  </tbody>\n",
       "</table>\n",
       "</div>"
      ],
      "text/plain": [
       "        tenure  MonthlyCharges  TotalCharges\n",
       "4880  0.711652       -1.459343     -0.538184\n",
       "1541  1.605372       -1.482569     -0.376271\n",
       "1289  1.239759        0.141591      0.806650\n",
       "5745  1.158512       -1.338236     -0.371367\n",
       "4873 -1.035164       -1.500818     -0.945872"
      ]
     },
     "execution_count": 93,
     "metadata": {},
     "output_type": "execute_result"
    }
   ],
   "source": [
    "X_test_num_rescaled = pd.DataFrame(scaler.transform(X_test_num), \n",
    "                                   columns = X_test_num.columns, \n",
    "                                   index = X_test_num.index)\n",
    "\n",
    "X_test_num_rescaled.head()"
   ]
  },
  {
   "cell_type": "code",
   "execution_count": 94,
   "metadata": {},
   "outputs": [
    {
     "data": {
      "text/html": [
       "<div>\n",
       "<style scoped>\n",
       "    .dataframe tbody tr th:only-of-type {\n",
       "        vertical-align: middle;\n",
       "    }\n",
       "\n",
       "    .dataframe tbody tr th {\n",
       "        vertical-align: top;\n",
       "    }\n",
       "\n",
       "    .dataframe thead th {\n",
       "        text-align: right;\n",
       "    }\n",
       "</style>\n",
       "<table border=\"1\" class=\"dataframe\">\n",
       "  <thead>\n",
       "    <tr style=\"text-align: right;\">\n",
       "      <th></th>\n",
       "      <th>InternetService_Fiber optic</th>\n",
       "      <th>InternetService_No</th>\n",
       "      <th>OnlineSecurity_No internet service</th>\n",
       "      <th>OnlineSecurity_Yes</th>\n",
       "      <th>OnlineBackup_No internet service</th>\n",
       "      <th>OnlineBackup_Yes</th>\n",
       "      <th>DeviceProtection_No internet service</th>\n",
       "      <th>DeviceProtection_Yes</th>\n",
       "      <th>TechSupport_No internet service</th>\n",
       "      <th>TechSupport_Yes</th>\n",
       "      <th>Contract_One year</th>\n",
       "      <th>Contract_Two year</th>\n",
       "      <th>PaperlessBilling_Yes</th>\n",
       "    </tr>\n",
       "  </thead>\n",
       "  <tbody>\n",
       "    <tr>\n",
       "      <th>4880</th>\n",
       "      <td>0.0</td>\n",
       "      <td>1.0</td>\n",
       "      <td>1.0</td>\n",
       "      <td>0.0</td>\n",
       "      <td>1.0</td>\n",
       "      <td>0.0</td>\n",
       "      <td>1.0</td>\n",
       "      <td>0.0</td>\n",
       "      <td>1.0</td>\n",
       "      <td>0.0</td>\n",
       "      <td>0.0</td>\n",
       "      <td>1.0</td>\n",
       "      <td>0.0</td>\n",
       "    </tr>\n",
       "    <tr>\n",
       "      <th>1541</th>\n",
       "      <td>0.0</td>\n",
       "      <td>1.0</td>\n",
       "      <td>1.0</td>\n",
       "      <td>0.0</td>\n",
       "      <td>1.0</td>\n",
       "      <td>0.0</td>\n",
       "      <td>1.0</td>\n",
       "      <td>0.0</td>\n",
       "      <td>1.0</td>\n",
       "      <td>0.0</td>\n",
       "      <td>0.0</td>\n",
       "      <td>1.0</td>\n",
       "      <td>0.0</td>\n",
       "    </tr>\n",
       "    <tr>\n",
       "      <th>1289</th>\n",
       "      <td>0.0</td>\n",
       "      <td>0.0</td>\n",
       "      <td>0.0</td>\n",
       "      <td>1.0</td>\n",
       "      <td>0.0</td>\n",
       "      <td>1.0</td>\n",
       "      <td>0.0</td>\n",
       "      <td>1.0</td>\n",
       "      <td>0.0</td>\n",
       "      <td>1.0</td>\n",
       "      <td>1.0</td>\n",
       "      <td>0.0</td>\n",
       "      <td>0.0</td>\n",
       "    </tr>\n",
       "    <tr>\n",
       "      <th>5745</th>\n",
       "      <td>0.0</td>\n",
       "      <td>1.0</td>\n",
       "      <td>1.0</td>\n",
       "      <td>0.0</td>\n",
       "      <td>1.0</td>\n",
       "      <td>0.0</td>\n",
       "      <td>1.0</td>\n",
       "      <td>0.0</td>\n",
       "      <td>1.0</td>\n",
       "      <td>0.0</td>\n",
       "      <td>0.0</td>\n",
       "      <td>1.0</td>\n",
       "      <td>1.0</td>\n",
       "    </tr>\n",
       "    <tr>\n",
       "      <th>4873</th>\n",
       "      <td>0.0</td>\n",
       "      <td>1.0</td>\n",
       "      <td>1.0</td>\n",
       "      <td>0.0</td>\n",
       "      <td>1.0</td>\n",
       "      <td>0.0</td>\n",
       "      <td>1.0</td>\n",
       "      <td>0.0</td>\n",
       "      <td>1.0</td>\n",
       "      <td>0.0</td>\n",
       "      <td>0.0</td>\n",
       "      <td>0.0</td>\n",
       "      <td>0.0</td>\n",
       "    </tr>\n",
       "  </tbody>\n",
       "</table>\n",
       "</div>"
      ],
      "text/plain": [
       "      InternetService_Fiber optic  InternetService_No  \\\n",
       "4880                          0.0                 1.0   \n",
       "1541                          0.0                 1.0   \n",
       "1289                          0.0                 0.0   \n",
       "5745                          0.0                 1.0   \n",
       "4873                          0.0                 1.0   \n",
       "\n",
       "      OnlineSecurity_No internet service  OnlineSecurity_Yes  \\\n",
       "4880                                 1.0                 0.0   \n",
       "1541                                 1.0                 0.0   \n",
       "1289                                 0.0                 1.0   \n",
       "5745                                 1.0                 0.0   \n",
       "4873                                 1.0                 0.0   \n",
       "\n",
       "      OnlineBackup_No internet service  OnlineBackup_Yes  \\\n",
       "4880                               1.0               0.0   \n",
       "1541                               1.0               0.0   \n",
       "1289                               0.0               1.0   \n",
       "5745                               1.0               0.0   \n",
       "4873                               1.0               0.0   \n",
       "\n",
       "      DeviceProtection_No internet service  DeviceProtection_Yes  \\\n",
       "4880                                   1.0                   0.0   \n",
       "1541                                   1.0                   0.0   \n",
       "1289                                   0.0                   1.0   \n",
       "5745                                   1.0                   0.0   \n",
       "4873                                   1.0                   0.0   \n",
       "\n",
       "      TechSupport_No internet service  TechSupport_Yes  Contract_One year  \\\n",
       "4880                              1.0              0.0                0.0   \n",
       "1541                              1.0              0.0                0.0   \n",
       "1289                              0.0              1.0                1.0   \n",
       "5745                              1.0              0.0                0.0   \n",
       "4873                              1.0              0.0                0.0   \n",
       "\n",
       "      Contract_Two year  PaperlessBilling_Yes  \n",
       "4880                1.0                   0.0  \n",
       "1541                1.0                   0.0  \n",
       "1289                0.0                   0.0  \n",
       "5745                1.0                   1.0  \n",
       "4873                0.0                   0.0  "
      ]
     },
     "execution_count": 94,
     "metadata": {},
     "output_type": "execute_result"
    }
   ],
   "source": [
    "X_test_cat_transformed = pd.DataFrame(encoder.transform(X_test_cat), \n",
    "\t\t\t\t\t\t\t   columns=encoder.get_feature_names_out(X_test_cat.columns), \n",
    "\t\t\t\t\t\t\t   index = X_test_cat.index)\n",
    "\n",
    "X_test_cat_transformed.head()"
   ]
  },
  {
   "cell_type": "code",
   "execution_count": 95,
   "metadata": {},
   "outputs": [
    {
     "data": {
      "text/html": [
       "<div>\n",
       "<style scoped>\n",
       "    .dataframe tbody tr th:only-of-type {\n",
       "        vertical-align: middle;\n",
       "    }\n",
       "\n",
       "    .dataframe tbody tr th {\n",
       "        vertical-align: top;\n",
       "    }\n",
       "\n",
       "    .dataframe thead th {\n",
       "        text-align: right;\n",
       "    }\n",
       "</style>\n",
       "<table border=\"1\" class=\"dataframe\">\n",
       "  <thead>\n",
       "    <tr style=\"text-align: right;\">\n",
       "      <th></th>\n",
       "      <th>tenure</th>\n",
       "      <th>MonthlyCharges</th>\n",
       "      <th>TotalCharges</th>\n",
       "      <th>InternetService_Fiber optic</th>\n",
       "      <th>InternetService_No</th>\n",
       "      <th>OnlineSecurity_No internet service</th>\n",
       "      <th>OnlineSecurity_Yes</th>\n",
       "      <th>OnlineBackup_No internet service</th>\n",
       "      <th>OnlineBackup_Yes</th>\n",
       "      <th>DeviceProtection_No internet service</th>\n",
       "      <th>DeviceProtection_Yes</th>\n",
       "      <th>TechSupport_No internet service</th>\n",
       "      <th>TechSupport_Yes</th>\n",
       "      <th>Contract_One year</th>\n",
       "      <th>Contract_Two year</th>\n",
       "      <th>PaperlessBilling_Yes</th>\n",
       "    </tr>\n",
       "  </thead>\n",
       "  <tbody>\n",
       "    <tr>\n",
       "      <th>4880</th>\n",
       "      <td>0.711652</td>\n",
       "      <td>-1.459343</td>\n",
       "      <td>-0.538184</td>\n",
       "      <td>0.0</td>\n",
       "      <td>1.0</td>\n",
       "      <td>1.0</td>\n",
       "      <td>0.0</td>\n",
       "      <td>1.0</td>\n",
       "      <td>0.0</td>\n",
       "      <td>1.0</td>\n",
       "      <td>0.0</td>\n",
       "      <td>1.0</td>\n",
       "      <td>0.0</td>\n",
       "      <td>0.0</td>\n",
       "      <td>1.0</td>\n",
       "      <td>0.0</td>\n",
       "    </tr>\n",
       "    <tr>\n",
       "      <th>1541</th>\n",
       "      <td>1.605372</td>\n",
       "      <td>-1.482569</td>\n",
       "      <td>-0.376271</td>\n",
       "      <td>0.0</td>\n",
       "      <td>1.0</td>\n",
       "      <td>1.0</td>\n",
       "      <td>0.0</td>\n",
       "      <td>1.0</td>\n",
       "      <td>0.0</td>\n",
       "      <td>1.0</td>\n",
       "      <td>0.0</td>\n",
       "      <td>1.0</td>\n",
       "      <td>0.0</td>\n",
       "      <td>0.0</td>\n",
       "      <td>1.0</td>\n",
       "      <td>0.0</td>\n",
       "    </tr>\n",
       "    <tr>\n",
       "      <th>1289</th>\n",
       "      <td>1.239759</td>\n",
       "      <td>0.141591</td>\n",
       "      <td>0.806650</td>\n",
       "      <td>0.0</td>\n",
       "      <td>0.0</td>\n",
       "      <td>0.0</td>\n",
       "      <td>1.0</td>\n",
       "      <td>0.0</td>\n",
       "      <td>1.0</td>\n",
       "      <td>0.0</td>\n",
       "      <td>1.0</td>\n",
       "      <td>0.0</td>\n",
       "      <td>1.0</td>\n",
       "      <td>1.0</td>\n",
       "      <td>0.0</td>\n",
       "      <td>0.0</td>\n",
       "    </tr>\n",
       "    <tr>\n",
       "      <th>5745</th>\n",
       "      <td>1.158512</td>\n",
       "      <td>-1.338236</td>\n",
       "      <td>-0.371367</td>\n",
       "      <td>0.0</td>\n",
       "      <td>1.0</td>\n",
       "      <td>1.0</td>\n",
       "      <td>0.0</td>\n",
       "      <td>1.0</td>\n",
       "      <td>0.0</td>\n",
       "      <td>1.0</td>\n",
       "      <td>0.0</td>\n",
       "      <td>1.0</td>\n",
       "      <td>0.0</td>\n",
       "      <td>0.0</td>\n",
       "      <td>1.0</td>\n",
       "      <td>1.0</td>\n",
       "    </tr>\n",
       "    <tr>\n",
       "      <th>4873</th>\n",
       "      <td>-1.035164</td>\n",
       "      <td>-1.500818</td>\n",
       "      <td>-0.945872</td>\n",
       "      <td>0.0</td>\n",
       "      <td>1.0</td>\n",
       "      <td>1.0</td>\n",
       "      <td>0.0</td>\n",
       "      <td>1.0</td>\n",
       "      <td>0.0</td>\n",
       "      <td>1.0</td>\n",
       "      <td>0.0</td>\n",
       "      <td>1.0</td>\n",
       "      <td>0.0</td>\n",
       "      <td>0.0</td>\n",
       "      <td>0.0</td>\n",
       "      <td>0.0</td>\n",
       "    </tr>\n",
       "  </tbody>\n",
       "</table>\n",
       "</div>"
      ],
      "text/plain": [
       "        tenure  MonthlyCharges  TotalCharges  InternetService_Fiber optic  \\\n",
       "4880  0.711652       -1.459343     -0.538184                          0.0   \n",
       "1541  1.605372       -1.482569     -0.376271                          0.0   \n",
       "1289  1.239759        0.141591      0.806650                          0.0   \n",
       "5745  1.158512       -1.338236     -0.371367                          0.0   \n",
       "4873 -1.035164       -1.500818     -0.945872                          0.0   \n",
       "\n",
       "      InternetService_No  OnlineSecurity_No internet service  \\\n",
       "4880                 1.0                                 1.0   \n",
       "1541                 1.0                                 1.0   \n",
       "1289                 0.0                                 0.0   \n",
       "5745                 1.0                                 1.0   \n",
       "4873                 1.0                                 1.0   \n",
       "\n",
       "      OnlineSecurity_Yes  OnlineBackup_No internet service  OnlineBackup_Yes  \\\n",
       "4880                 0.0                               1.0               0.0   \n",
       "1541                 0.0                               1.0               0.0   \n",
       "1289                 1.0                               0.0               1.0   \n",
       "5745                 0.0                               1.0               0.0   \n",
       "4873                 0.0                               1.0               0.0   \n",
       "\n",
       "      DeviceProtection_No internet service  DeviceProtection_Yes  \\\n",
       "4880                                   1.0                   0.0   \n",
       "1541                                   1.0                   0.0   \n",
       "1289                                   0.0                   1.0   \n",
       "5745                                   1.0                   0.0   \n",
       "4873                                   1.0                   0.0   \n",
       "\n",
       "      TechSupport_No internet service  TechSupport_Yes  Contract_One year  \\\n",
       "4880                              1.0              0.0                0.0   \n",
       "1541                              1.0              0.0                0.0   \n",
       "1289                              0.0              1.0                1.0   \n",
       "5745                              1.0              0.0                0.0   \n",
       "4873                              1.0              0.0                0.0   \n",
       "\n",
       "      Contract_Two year  PaperlessBilling_Yes  \n",
       "4880                1.0                   0.0  \n",
       "1541                1.0                   0.0  \n",
       "1289                0.0                   0.0  \n",
       "5745                1.0                   1.0  \n",
       "4873                0.0                   0.0  "
      ]
     },
     "execution_count": 95,
     "metadata": {},
     "output_type": "execute_result"
    }
   ],
   "source": [
    "X_test_transformed=pd.concat([X_test_num_rescaled,X_test_cat_transformed],axis=1)\n",
    "X_test_transformed.head()"
   ]
  },
  {
   "cell_type": "markdown",
   "metadata": {},
   "source": [
    "## Model Training,Prediction and Evaluation"
   ]
  },
  {
   "cell_type": "markdown",
   "metadata": {},
   "source": [
    "## KNN Classifier"
   ]
  },
  {
   "cell_type": "code",
   "execution_count": 98,
   "metadata": {},
   "outputs": [
    {
     "data": {
      "text/html": [
       "<style>#sk-container-id-1 {color: black;background-color: white;}#sk-container-id-1 pre{padding: 0;}#sk-container-id-1 div.sk-toggleable {background-color: white;}#sk-container-id-1 label.sk-toggleable__label {cursor: pointer;display: block;width: 100%;margin-bottom: 0;padding: 0.3em;box-sizing: border-box;text-align: center;}#sk-container-id-1 label.sk-toggleable__label-arrow:before {content: \"▸\";float: left;margin-right: 0.25em;color: #696969;}#sk-container-id-1 label.sk-toggleable__label-arrow:hover:before {color: black;}#sk-container-id-1 div.sk-estimator:hover label.sk-toggleable__label-arrow:before {color: black;}#sk-container-id-1 div.sk-toggleable__content {max-height: 0;max-width: 0;overflow: hidden;text-align: left;background-color: #f0f8ff;}#sk-container-id-1 div.sk-toggleable__content pre {margin: 0.2em;color: black;border-radius: 0.25em;background-color: #f0f8ff;}#sk-container-id-1 input.sk-toggleable__control:checked~div.sk-toggleable__content {max-height: 200px;max-width: 100%;overflow: auto;}#sk-container-id-1 input.sk-toggleable__control:checked~label.sk-toggleable__label-arrow:before {content: \"▾\";}#sk-container-id-1 div.sk-estimator input.sk-toggleable__control:checked~label.sk-toggleable__label {background-color: #d4ebff;}#sk-container-id-1 div.sk-label input.sk-toggleable__control:checked~label.sk-toggleable__label {background-color: #d4ebff;}#sk-container-id-1 input.sk-hidden--visually {border: 0;clip: rect(1px 1px 1px 1px);clip: rect(1px, 1px, 1px, 1px);height: 1px;margin: -1px;overflow: hidden;padding: 0;position: absolute;width: 1px;}#sk-container-id-1 div.sk-estimator {font-family: monospace;background-color: #f0f8ff;border: 1px dotted black;border-radius: 0.25em;box-sizing: border-box;margin-bottom: 0.5em;}#sk-container-id-1 div.sk-estimator:hover {background-color: #d4ebff;}#sk-container-id-1 div.sk-parallel-item::after {content: \"\";width: 100%;border-bottom: 1px solid gray;flex-grow: 1;}#sk-container-id-1 div.sk-label:hover label.sk-toggleable__label {background-color: #d4ebff;}#sk-container-id-1 div.sk-serial::before {content: \"\";position: absolute;border-left: 1px solid gray;box-sizing: border-box;top: 0;bottom: 0;left: 50%;z-index: 0;}#sk-container-id-1 div.sk-serial {display: flex;flex-direction: column;align-items: center;background-color: white;padding-right: 0.2em;padding-left: 0.2em;position: relative;}#sk-container-id-1 div.sk-item {position: relative;z-index: 1;}#sk-container-id-1 div.sk-parallel {display: flex;align-items: stretch;justify-content: center;background-color: white;position: relative;}#sk-container-id-1 div.sk-item::before, #sk-container-id-1 div.sk-parallel-item::before {content: \"\";position: absolute;border-left: 1px solid gray;box-sizing: border-box;top: 0;bottom: 0;left: 50%;z-index: -1;}#sk-container-id-1 div.sk-parallel-item {display: flex;flex-direction: column;z-index: 1;position: relative;background-color: white;}#sk-container-id-1 div.sk-parallel-item:first-child::after {align-self: flex-end;width: 50%;}#sk-container-id-1 div.sk-parallel-item:last-child::after {align-self: flex-start;width: 50%;}#sk-container-id-1 div.sk-parallel-item:only-child::after {width: 0;}#sk-container-id-1 div.sk-dashed-wrapped {border: 1px dashed gray;margin: 0 0.4em 0.5em 0.4em;box-sizing: border-box;padding-bottom: 0.4em;background-color: white;}#sk-container-id-1 div.sk-label label {font-family: monospace;font-weight: bold;display: inline-block;line-height: 1.2em;}#sk-container-id-1 div.sk-label-container {text-align: center;}#sk-container-id-1 div.sk-container {/* jupyter's `normalize.less` sets `[hidden] { display: none; }` but bootstrap.min.css set `[hidden] { display: none !important; }` so we also need the `!important` here to be able to override the default hidden behavior on the sphinx rendered scikit-learn.org. See: https://github.com/scikit-learn/scikit-learn/issues/21755 */display: inline-block !important;position: relative;}#sk-container-id-1 div.sk-text-repr-fallback {display: none;}</style><div id=\"sk-container-id-1\" class=\"sk-top-container\"><div class=\"sk-text-repr-fallback\"><pre>KNeighborsClassifier()</pre><b>In a Jupyter environment, please rerun this cell to show the HTML representation or trust the notebook. <br />On GitHub, the HTML representation is unable to render, please try loading this page with nbviewer.org.</b></div><div class=\"sk-container\" hidden><div class=\"sk-item\"><div class=\"sk-estimator sk-toggleable\"><input class=\"sk-toggleable__control sk-hidden--visually\" id=\"sk-estimator-id-1\" type=\"checkbox\" checked><label for=\"sk-estimator-id-1\" class=\"sk-toggleable__label sk-toggleable__label-arrow\">KNeighborsClassifier</label><div class=\"sk-toggleable__content\"><pre>KNeighborsClassifier()</pre></div></div></div></div></div>"
      ],
      "text/plain": [
       "KNeighborsClassifier()"
      ]
     },
     "execution_count": 98,
     "metadata": {},
     "output_type": "execute_result"
    }
   ],
   "source": [
    "from sklearn.neighbors import KNeighborsClassifier\n",
    "classifier=KNeighborsClassifier()\n",
    "classifier.fit(X_train_transformed,y_train)"
   ]
  },
  {
   "cell_type": "code",
   "execution_count": 99,
   "metadata": {},
   "outputs": [],
   "source": [
    "y_test_pred = classifier.predict(X_test_transformed)"
   ]
  },
  {
   "cell_type": "code",
   "execution_count": 100,
   "metadata": {},
   "outputs": [
    {
     "name": "stdout",
     "output_type": "stream",
     "text": [
      "Accuracy of KNN classifier model:  0.7700170357751278\n"
     ]
    }
   ],
   "source": [
    "from sklearn import metrics\n",
    "print(\"Accuracy of KNN classifier model: \",metrics.accuracy_score(y_test, y_test_pred))"
   ]
  },
  {
   "cell_type": "markdown",
   "metadata": {},
   "source": [
    "## Logistic Regression "
   ]
  },
  {
   "cell_type": "code",
   "execution_count": 101,
   "metadata": {},
   "outputs": [
    {
     "data": {
      "text/html": [
       "<style>#sk-container-id-2 {color: black;background-color: white;}#sk-container-id-2 pre{padding: 0;}#sk-container-id-2 div.sk-toggleable {background-color: white;}#sk-container-id-2 label.sk-toggleable__label {cursor: pointer;display: block;width: 100%;margin-bottom: 0;padding: 0.3em;box-sizing: border-box;text-align: center;}#sk-container-id-2 label.sk-toggleable__label-arrow:before {content: \"▸\";float: left;margin-right: 0.25em;color: #696969;}#sk-container-id-2 label.sk-toggleable__label-arrow:hover:before {color: black;}#sk-container-id-2 div.sk-estimator:hover label.sk-toggleable__label-arrow:before {color: black;}#sk-container-id-2 div.sk-toggleable__content {max-height: 0;max-width: 0;overflow: hidden;text-align: left;background-color: #f0f8ff;}#sk-container-id-2 div.sk-toggleable__content pre {margin: 0.2em;color: black;border-radius: 0.25em;background-color: #f0f8ff;}#sk-container-id-2 input.sk-toggleable__control:checked~div.sk-toggleable__content {max-height: 200px;max-width: 100%;overflow: auto;}#sk-container-id-2 input.sk-toggleable__control:checked~label.sk-toggleable__label-arrow:before {content: \"▾\";}#sk-container-id-2 div.sk-estimator input.sk-toggleable__control:checked~label.sk-toggleable__label {background-color: #d4ebff;}#sk-container-id-2 div.sk-label input.sk-toggleable__control:checked~label.sk-toggleable__label {background-color: #d4ebff;}#sk-container-id-2 input.sk-hidden--visually {border: 0;clip: rect(1px 1px 1px 1px);clip: rect(1px, 1px, 1px, 1px);height: 1px;margin: -1px;overflow: hidden;padding: 0;position: absolute;width: 1px;}#sk-container-id-2 div.sk-estimator {font-family: monospace;background-color: #f0f8ff;border: 1px dotted black;border-radius: 0.25em;box-sizing: border-box;margin-bottom: 0.5em;}#sk-container-id-2 div.sk-estimator:hover {background-color: #d4ebff;}#sk-container-id-2 div.sk-parallel-item::after {content: \"\";width: 100%;border-bottom: 1px solid gray;flex-grow: 1;}#sk-container-id-2 div.sk-label:hover label.sk-toggleable__label {background-color: #d4ebff;}#sk-container-id-2 div.sk-serial::before {content: \"\";position: absolute;border-left: 1px solid gray;box-sizing: border-box;top: 0;bottom: 0;left: 50%;z-index: 0;}#sk-container-id-2 div.sk-serial {display: flex;flex-direction: column;align-items: center;background-color: white;padding-right: 0.2em;padding-left: 0.2em;position: relative;}#sk-container-id-2 div.sk-item {position: relative;z-index: 1;}#sk-container-id-2 div.sk-parallel {display: flex;align-items: stretch;justify-content: center;background-color: white;position: relative;}#sk-container-id-2 div.sk-item::before, #sk-container-id-2 div.sk-parallel-item::before {content: \"\";position: absolute;border-left: 1px solid gray;box-sizing: border-box;top: 0;bottom: 0;left: 50%;z-index: -1;}#sk-container-id-2 div.sk-parallel-item {display: flex;flex-direction: column;z-index: 1;position: relative;background-color: white;}#sk-container-id-2 div.sk-parallel-item:first-child::after {align-self: flex-end;width: 50%;}#sk-container-id-2 div.sk-parallel-item:last-child::after {align-self: flex-start;width: 50%;}#sk-container-id-2 div.sk-parallel-item:only-child::after {width: 0;}#sk-container-id-2 div.sk-dashed-wrapped {border: 1px dashed gray;margin: 0 0.4em 0.5em 0.4em;box-sizing: border-box;padding-bottom: 0.4em;background-color: white;}#sk-container-id-2 div.sk-label label {font-family: monospace;font-weight: bold;display: inline-block;line-height: 1.2em;}#sk-container-id-2 div.sk-label-container {text-align: center;}#sk-container-id-2 div.sk-container {/* jupyter's `normalize.less` sets `[hidden] { display: none; }` but bootstrap.min.css set `[hidden] { display: none !important; }` so we also need the `!important` here to be able to override the default hidden behavior on the sphinx rendered scikit-learn.org. See: https://github.com/scikit-learn/scikit-learn/issues/21755 */display: inline-block !important;position: relative;}#sk-container-id-2 div.sk-text-repr-fallback {display: none;}</style><div id=\"sk-container-id-2\" class=\"sk-top-container\"><div class=\"sk-text-repr-fallback\"><pre>LogisticRegression()</pre><b>In a Jupyter environment, please rerun this cell to show the HTML representation or trust the notebook. <br />On GitHub, the HTML representation is unable to render, please try loading this page with nbviewer.org.</b></div><div class=\"sk-container\" hidden><div class=\"sk-item\"><div class=\"sk-estimator sk-toggleable\"><input class=\"sk-toggleable__control sk-hidden--visually\" id=\"sk-estimator-id-2\" type=\"checkbox\" checked><label for=\"sk-estimator-id-2\" class=\"sk-toggleable__label sk-toggleable__label-arrow\">LogisticRegression</label><div class=\"sk-toggleable__content\"><pre>LogisticRegression()</pre></div></div></div></div></div>"
      ],
      "text/plain": [
       "LogisticRegression()"
      ]
     },
     "execution_count": 101,
     "metadata": {},
     "output_type": "execute_result"
    }
   ],
   "source": [
    "from sklearn.linear_model import LogisticRegression\n",
    "classifier=LogisticRegression()\n",
    "classifier.fit(X_train_transformed,y_train)"
   ]
  },
  {
   "cell_type": "code",
   "execution_count": 102,
   "metadata": {},
   "outputs": [],
   "source": [
    "y_test_pred = classifier.predict(X_test_transformed)"
   ]
  },
  {
   "cell_type": "code",
   "execution_count": 103,
   "metadata": {},
   "outputs": [
    {
     "name": "stdout",
     "output_type": "stream",
     "text": [
      "Accuracy of Logistic Regression classifier model:  0.7842135150482681\n"
     ]
    }
   ],
   "source": [
    "print(\"Accuracy of Logistic Regression classifier model: \",metrics.accuracy_score(y_test, y_test_pred))"
   ]
  },
  {
   "cell_type": "markdown",
   "metadata": {},
   "source": [
    "## Decision Tree Classifier"
   ]
  },
  {
   "cell_type": "code",
   "execution_count": 104,
   "metadata": {},
   "outputs": [
    {
     "data": {
      "text/html": [
       "<style>#sk-container-id-3 {color: black;background-color: white;}#sk-container-id-3 pre{padding: 0;}#sk-container-id-3 div.sk-toggleable {background-color: white;}#sk-container-id-3 label.sk-toggleable__label {cursor: pointer;display: block;width: 100%;margin-bottom: 0;padding: 0.3em;box-sizing: border-box;text-align: center;}#sk-container-id-3 label.sk-toggleable__label-arrow:before {content: \"▸\";float: left;margin-right: 0.25em;color: #696969;}#sk-container-id-3 label.sk-toggleable__label-arrow:hover:before {color: black;}#sk-container-id-3 div.sk-estimator:hover label.sk-toggleable__label-arrow:before {color: black;}#sk-container-id-3 div.sk-toggleable__content {max-height: 0;max-width: 0;overflow: hidden;text-align: left;background-color: #f0f8ff;}#sk-container-id-3 div.sk-toggleable__content pre {margin: 0.2em;color: black;border-radius: 0.25em;background-color: #f0f8ff;}#sk-container-id-3 input.sk-toggleable__control:checked~div.sk-toggleable__content {max-height: 200px;max-width: 100%;overflow: auto;}#sk-container-id-3 input.sk-toggleable__control:checked~label.sk-toggleable__label-arrow:before {content: \"▾\";}#sk-container-id-3 div.sk-estimator input.sk-toggleable__control:checked~label.sk-toggleable__label {background-color: #d4ebff;}#sk-container-id-3 div.sk-label input.sk-toggleable__control:checked~label.sk-toggleable__label {background-color: #d4ebff;}#sk-container-id-3 input.sk-hidden--visually {border: 0;clip: rect(1px 1px 1px 1px);clip: rect(1px, 1px, 1px, 1px);height: 1px;margin: -1px;overflow: hidden;padding: 0;position: absolute;width: 1px;}#sk-container-id-3 div.sk-estimator {font-family: monospace;background-color: #f0f8ff;border: 1px dotted black;border-radius: 0.25em;box-sizing: border-box;margin-bottom: 0.5em;}#sk-container-id-3 div.sk-estimator:hover {background-color: #d4ebff;}#sk-container-id-3 div.sk-parallel-item::after {content: \"\";width: 100%;border-bottom: 1px solid gray;flex-grow: 1;}#sk-container-id-3 div.sk-label:hover label.sk-toggleable__label {background-color: #d4ebff;}#sk-container-id-3 div.sk-serial::before {content: \"\";position: absolute;border-left: 1px solid gray;box-sizing: border-box;top: 0;bottom: 0;left: 50%;z-index: 0;}#sk-container-id-3 div.sk-serial {display: flex;flex-direction: column;align-items: center;background-color: white;padding-right: 0.2em;padding-left: 0.2em;position: relative;}#sk-container-id-3 div.sk-item {position: relative;z-index: 1;}#sk-container-id-3 div.sk-parallel {display: flex;align-items: stretch;justify-content: center;background-color: white;position: relative;}#sk-container-id-3 div.sk-item::before, #sk-container-id-3 div.sk-parallel-item::before {content: \"\";position: absolute;border-left: 1px solid gray;box-sizing: border-box;top: 0;bottom: 0;left: 50%;z-index: -1;}#sk-container-id-3 div.sk-parallel-item {display: flex;flex-direction: column;z-index: 1;position: relative;background-color: white;}#sk-container-id-3 div.sk-parallel-item:first-child::after {align-self: flex-end;width: 50%;}#sk-container-id-3 div.sk-parallel-item:last-child::after {align-self: flex-start;width: 50%;}#sk-container-id-3 div.sk-parallel-item:only-child::after {width: 0;}#sk-container-id-3 div.sk-dashed-wrapped {border: 1px dashed gray;margin: 0 0.4em 0.5em 0.4em;box-sizing: border-box;padding-bottom: 0.4em;background-color: white;}#sk-container-id-3 div.sk-label label {font-family: monospace;font-weight: bold;display: inline-block;line-height: 1.2em;}#sk-container-id-3 div.sk-label-container {text-align: center;}#sk-container-id-3 div.sk-container {/* jupyter's `normalize.less` sets `[hidden] { display: none; }` but bootstrap.min.css set `[hidden] { display: none !important; }` so we also need the `!important` here to be able to override the default hidden behavior on the sphinx rendered scikit-learn.org. See: https://github.com/scikit-learn/scikit-learn/issues/21755 */display: inline-block !important;position: relative;}#sk-container-id-3 div.sk-text-repr-fallback {display: none;}</style><div id=\"sk-container-id-3\" class=\"sk-top-container\"><div class=\"sk-text-repr-fallback\"><pre>DecisionTreeClassifier()</pre><b>In a Jupyter environment, please rerun this cell to show the HTML representation or trust the notebook. <br />On GitHub, the HTML representation is unable to render, please try loading this page with nbviewer.org.</b></div><div class=\"sk-container\" hidden><div class=\"sk-item\"><div class=\"sk-estimator sk-toggleable\"><input class=\"sk-toggleable__control sk-hidden--visually\" id=\"sk-estimator-id-3\" type=\"checkbox\" checked><label for=\"sk-estimator-id-3\" class=\"sk-toggleable__label sk-toggleable__label-arrow\">DecisionTreeClassifier</label><div class=\"sk-toggleable__content\"><pre>DecisionTreeClassifier()</pre></div></div></div></div></div>"
      ],
      "text/plain": [
       "DecisionTreeClassifier()"
      ]
     },
     "execution_count": 104,
     "metadata": {},
     "output_type": "execute_result"
    }
   ],
   "source": [
    "from sklearn.tree import DecisionTreeClassifier\n",
    "classifier=DecisionTreeClassifier()\n",
    "classifier.fit(X_train_transformed,y_train)"
   ]
  },
  {
   "cell_type": "code",
   "execution_count": 105,
   "metadata": {},
   "outputs": [],
   "source": [
    "y_test_pred = classifier.predict(X_test_transformed)"
   ]
  },
  {
   "cell_type": "code",
   "execution_count": 106,
   "metadata": {},
   "outputs": [
    {
     "name": "stdout",
     "output_type": "stream",
     "text": [
      "Accuracy of Decision Tree classifier model:  0.7279954571266326\n"
     ]
    }
   ],
   "source": [
    "print(\"Accuracy of Decision Tree classifier model: \",metrics.accuracy_score(y_test, y_test_pred))"
   ]
  },
  {
   "cell_type": "markdown",
   "metadata": {},
   "source": [
    "## Random Forest Classifier"
   ]
  },
  {
   "cell_type": "code",
   "execution_count": 108,
   "metadata": {},
   "outputs": [
    {
     "data": {
      "text/html": [
       "<style>#sk-container-id-4 {color: black;background-color: white;}#sk-container-id-4 pre{padding: 0;}#sk-container-id-4 div.sk-toggleable {background-color: white;}#sk-container-id-4 label.sk-toggleable__label {cursor: pointer;display: block;width: 100%;margin-bottom: 0;padding: 0.3em;box-sizing: border-box;text-align: center;}#sk-container-id-4 label.sk-toggleable__label-arrow:before {content: \"▸\";float: left;margin-right: 0.25em;color: #696969;}#sk-container-id-4 label.sk-toggleable__label-arrow:hover:before {color: black;}#sk-container-id-4 div.sk-estimator:hover label.sk-toggleable__label-arrow:before {color: black;}#sk-container-id-4 div.sk-toggleable__content {max-height: 0;max-width: 0;overflow: hidden;text-align: left;background-color: #f0f8ff;}#sk-container-id-4 div.sk-toggleable__content pre {margin: 0.2em;color: black;border-radius: 0.25em;background-color: #f0f8ff;}#sk-container-id-4 input.sk-toggleable__control:checked~div.sk-toggleable__content {max-height: 200px;max-width: 100%;overflow: auto;}#sk-container-id-4 input.sk-toggleable__control:checked~label.sk-toggleable__label-arrow:before {content: \"▾\";}#sk-container-id-4 div.sk-estimator input.sk-toggleable__control:checked~label.sk-toggleable__label {background-color: #d4ebff;}#sk-container-id-4 div.sk-label input.sk-toggleable__control:checked~label.sk-toggleable__label {background-color: #d4ebff;}#sk-container-id-4 input.sk-hidden--visually {border: 0;clip: rect(1px 1px 1px 1px);clip: rect(1px, 1px, 1px, 1px);height: 1px;margin: -1px;overflow: hidden;padding: 0;position: absolute;width: 1px;}#sk-container-id-4 div.sk-estimator {font-family: monospace;background-color: #f0f8ff;border: 1px dotted black;border-radius: 0.25em;box-sizing: border-box;margin-bottom: 0.5em;}#sk-container-id-4 div.sk-estimator:hover {background-color: #d4ebff;}#sk-container-id-4 div.sk-parallel-item::after {content: \"\";width: 100%;border-bottom: 1px solid gray;flex-grow: 1;}#sk-container-id-4 div.sk-label:hover label.sk-toggleable__label {background-color: #d4ebff;}#sk-container-id-4 div.sk-serial::before {content: \"\";position: absolute;border-left: 1px solid gray;box-sizing: border-box;top: 0;bottom: 0;left: 50%;z-index: 0;}#sk-container-id-4 div.sk-serial {display: flex;flex-direction: column;align-items: center;background-color: white;padding-right: 0.2em;padding-left: 0.2em;position: relative;}#sk-container-id-4 div.sk-item {position: relative;z-index: 1;}#sk-container-id-4 div.sk-parallel {display: flex;align-items: stretch;justify-content: center;background-color: white;position: relative;}#sk-container-id-4 div.sk-item::before, #sk-container-id-4 div.sk-parallel-item::before {content: \"\";position: absolute;border-left: 1px solid gray;box-sizing: border-box;top: 0;bottom: 0;left: 50%;z-index: -1;}#sk-container-id-4 div.sk-parallel-item {display: flex;flex-direction: column;z-index: 1;position: relative;background-color: white;}#sk-container-id-4 div.sk-parallel-item:first-child::after {align-self: flex-end;width: 50%;}#sk-container-id-4 div.sk-parallel-item:last-child::after {align-self: flex-start;width: 50%;}#sk-container-id-4 div.sk-parallel-item:only-child::after {width: 0;}#sk-container-id-4 div.sk-dashed-wrapped {border: 1px dashed gray;margin: 0 0.4em 0.5em 0.4em;box-sizing: border-box;padding-bottom: 0.4em;background-color: white;}#sk-container-id-4 div.sk-label label {font-family: monospace;font-weight: bold;display: inline-block;line-height: 1.2em;}#sk-container-id-4 div.sk-label-container {text-align: center;}#sk-container-id-4 div.sk-container {/* jupyter's `normalize.less` sets `[hidden] { display: none; }` but bootstrap.min.css set `[hidden] { display: none !important; }` so we also need the `!important` here to be able to override the default hidden behavior on the sphinx rendered scikit-learn.org. See: https://github.com/scikit-learn/scikit-learn/issues/21755 */display: inline-block !important;position: relative;}#sk-container-id-4 div.sk-text-repr-fallback {display: none;}</style><div id=\"sk-container-id-4\" class=\"sk-top-container\"><div class=\"sk-text-repr-fallback\"><pre>RandomForestClassifier()</pre><b>In a Jupyter environment, please rerun this cell to show the HTML representation or trust the notebook. <br />On GitHub, the HTML representation is unable to render, please try loading this page with nbviewer.org.</b></div><div class=\"sk-container\" hidden><div class=\"sk-item\"><div class=\"sk-estimator sk-toggleable\"><input class=\"sk-toggleable__control sk-hidden--visually\" id=\"sk-estimator-id-4\" type=\"checkbox\" checked><label for=\"sk-estimator-id-4\" class=\"sk-toggleable__label sk-toggleable__label-arrow\">RandomForestClassifier</label><div class=\"sk-toggleable__content\"><pre>RandomForestClassifier()</pre></div></div></div></div></div>"
      ],
      "text/plain": [
       "RandomForestClassifier()"
      ]
     },
     "execution_count": 108,
     "metadata": {},
     "output_type": "execute_result"
    }
   ],
   "source": [
    "from sklearn.ensemble import RandomForestClassifier\n",
    "classifier=RandomForestClassifier()\n",
    "classifier.fit(X_train_transformed,y_train)"
   ]
  },
  {
   "cell_type": "code",
   "execution_count": 110,
   "metadata": {},
   "outputs": [],
   "source": [
    "y_test_pred = classifier.predict(X_test_transformed)"
   ]
  },
  {
   "cell_type": "code",
   "execution_count": 112,
   "metadata": {},
   "outputs": [
    {
     "name": "stdout",
     "output_type": "stream",
     "text": [
      "Accuracy of Random Forest classifier model:  0.7751277683134583\n"
     ]
    }
   ],
   "source": [
    "print(\"Accuracy of Random Forest classifier model: \",metrics.accuracy_score(y_test, y_test_pred))"
   ]
  },
  {
   "cell_type": "markdown",
   "metadata": {},
   "source": [
    "## SVM Classifier"
   ]
  },
  {
   "cell_type": "code",
   "execution_count": 113,
   "metadata": {},
   "outputs": [
    {
     "data": {
      "text/html": [
       "<style>#sk-container-id-5 {color: black;background-color: white;}#sk-container-id-5 pre{padding: 0;}#sk-container-id-5 div.sk-toggleable {background-color: white;}#sk-container-id-5 label.sk-toggleable__label {cursor: pointer;display: block;width: 100%;margin-bottom: 0;padding: 0.3em;box-sizing: border-box;text-align: center;}#sk-container-id-5 label.sk-toggleable__label-arrow:before {content: \"▸\";float: left;margin-right: 0.25em;color: #696969;}#sk-container-id-5 label.sk-toggleable__label-arrow:hover:before {color: black;}#sk-container-id-5 div.sk-estimator:hover label.sk-toggleable__label-arrow:before {color: black;}#sk-container-id-5 div.sk-toggleable__content {max-height: 0;max-width: 0;overflow: hidden;text-align: left;background-color: #f0f8ff;}#sk-container-id-5 div.sk-toggleable__content pre {margin: 0.2em;color: black;border-radius: 0.25em;background-color: #f0f8ff;}#sk-container-id-5 input.sk-toggleable__control:checked~div.sk-toggleable__content {max-height: 200px;max-width: 100%;overflow: auto;}#sk-container-id-5 input.sk-toggleable__control:checked~label.sk-toggleable__label-arrow:before {content: \"▾\";}#sk-container-id-5 div.sk-estimator input.sk-toggleable__control:checked~label.sk-toggleable__label {background-color: #d4ebff;}#sk-container-id-5 div.sk-label input.sk-toggleable__control:checked~label.sk-toggleable__label {background-color: #d4ebff;}#sk-container-id-5 input.sk-hidden--visually {border: 0;clip: rect(1px 1px 1px 1px);clip: rect(1px, 1px, 1px, 1px);height: 1px;margin: -1px;overflow: hidden;padding: 0;position: absolute;width: 1px;}#sk-container-id-5 div.sk-estimator {font-family: monospace;background-color: #f0f8ff;border: 1px dotted black;border-radius: 0.25em;box-sizing: border-box;margin-bottom: 0.5em;}#sk-container-id-5 div.sk-estimator:hover {background-color: #d4ebff;}#sk-container-id-5 div.sk-parallel-item::after {content: \"\";width: 100%;border-bottom: 1px solid gray;flex-grow: 1;}#sk-container-id-5 div.sk-label:hover label.sk-toggleable__label {background-color: #d4ebff;}#sk-container-id-5 div.sk-serial::before {content: \"\";position: absolute;border-left: 1px solid gray;box-sizing: border-box;top: 0;bottom: 0;left: 50%;z-index: 0;}#sk-container-id-5 div.sk-serial {display: flex;flex-direction: column;align-items: center;background-color: white;padding-right: 0.2em;padding-left: 0.2em;position: relative;}#sk-container-id-5 div.sk-item {position: relative;z-index: 1;}#sk-container-id-5 div.sk-parallel {display: flex;align-items: stretch;justify-content: center;background-color: white;position: relative;}#sk-container-id-5 div.sk-item::before, #sk-container-id-5 div.sk-parallel-item::before {content: \"\";position: absolute;border-left: 1px solid gray;box-sizing: border-box;top: 0;bottom: 0;left: 50%;z-index: -1;}#sk-container-id-5 div.sk-parallel-item {display: flex;flex-direction: column;z-index: 1;position: relative;background-color: white;}#sk-container-id-5 div.sk-parallel-item:first-child::after {align-self: flex-end;width: 50%;}#sk-container-id-5 div.sk-parallel-item:last-child::after {align-self: flex-start;width: 50%;}#sk-container-id-5 div.sk-parallel-item:only-child::after {width: 0;}#sk-container-id-5 div.sk-dashed-wrapped {border: 1px dashed gray;margin: 0 0.4em 0.5em 0.4em;box-sizing: border-box;padding-bottom: 0.4em;background-color: white;}#sk-container-id-5 div.sk-label label {font-family: monospace;font-weight: bold;display: inline-block;line-height: 1.2em;}#sk-container-id-5 div.sk-label-container {text-align: center;}#sk-container-id-5 div.sk-container {/* jupyter's `normalize.less` sets `[hidden] { display: none; }` but bootstrap.min.css set `[hidden] { display: none !important; }` so we also need the `!important` here to be able to override the default hidden behavior on the sphinx rendered scikit-learn.org. See: https://github.com/scikit-learn/scikit-learn/issues/21755 */display: inline-block !important;position: relative;}#sk-container-id-5 div.sk-text-repr-fallback {display: none;}</style><div id=\"sk-container-id-5\" class=\"sk-top-container\"><div class=\"sk-text-repr-fallback\"><pre>SVC()</pre><b>In a Jupyter environment, please rerun this cell to show the HTML representation or trust the notebook. <br />On GitHub, the HTML representation is unable to render, please try loading this page with nbviewer.org.</b></div><div class=\"sk-container\" hidden><div class=\"sk-item\"><div class=\"sk-estimator sk-toggleable\"><input class=\"sk-toggleable__control sk-hidden--visually\" id=\"sk-estimator-id-5\" type=\"checkbox\" checked><label for=\"sk-estimator-id-5\" class=\"sk-toggleable__label sk-toggleable__label-arrow\">SVC</label><div class=\"sk-toggleable__content\"><pre>SVC()</pre></div></div></div></div></div>"
      ],
      "text/plain": [
       "SVC()"
      ]
     },
     "execution_count": 113,
     "metadata": {},
     "output_type": "execute_result"
    }
   ],
   "source": [
    "from sklearn import svm\n",
    "classifier = svm.SVC()\n",
    "classifier.fit(X_train_transformed, y_train)\n"
   ]
  },
  {
   "cell_type": "code",
   "execution_count": 114,
   "metadata": {},
   "outputs": [],
   "source": [
    "y_test_pred = classifier.predict(X_test_transformed)"
   ]
  },
  {
   "cell_type": "code",
   "execution_count": 115,
   "metadata": {},
   "outputs": [
    {
     "name": "stdout",
     "output_type": "stream",
     "text": [
      "Accuracy of Support Vector Machine classifier model:  0.7825099375354913\n"
     ]
    }
   ],
   "source": [
    "print(\"Accuracy of Support Vector Machine classifier model: \",metrics.accuracy_score(y_test, y_test_pred))"
   ]
  },
  {
   "cell_type": "markdown",
   "metadata": {},
   "source": [
    "## Conclusion"
   ]
  },
  {
   "cell_type": "markdown",
   "metadata": {},
   "source": [
    "By observing the accuracy metric of all the above classification models we can say that Logistic Regression has the highest accuarcy score followed by SVM Classifier. Hence, we can say that the Logistic Regression is the best algorithm for the churn prediction compared to other algorithms."
   ]
  }
 ],
 "metadata": {
  "colab": {
   "provenance": []
  },
  "kernelspec": {
   "display_name": "Python 3 (ipykernel)",
   "language": "python",
   "name": "python3"
  },
  "language_info": {
   "codemirror_mode": {
    "name": "ipython",
    "version": 3
   },
   "file_extension": ".py",
   "mimetype": "text/x-python",
   "name": "python",
   "nbconvert_exporter": "python",
   "pygments_lexer": "ipython3",
   "version": "3.10.9"
  }
 },
 "nbformat": 4,
 "nbformat_minor": 1
}
